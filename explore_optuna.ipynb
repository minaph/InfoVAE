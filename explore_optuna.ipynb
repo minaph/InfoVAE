{
 "cells": [
  {
   "cell_type": "code",
   "execution_count": 1,
   "metadata": {},
   "outputs": [],
   "source": [
    "from Tensho_InfoVAE.util import plot_all_graphs, report_optuna_study\n",
    "from pathlib import Path\n",
    "import joblib\n",
    "import optuna"
   ]
  },
  {
   "cell_type": "code",
   "execution_count": 2,
   "metadata": {},
   "outputs": [],
   "source": [
    "\n",
    "from Tensho_InfoVAE.scripts import make_optimizer"
   ]
  },
  {
   "cell_type": "code",
   "execution_count": 3,
   "metadata": {},
   "outputs": [
    {
     "name": "stdout",
     "output_type": "stream",
     "text": [
      "Shape history:\n",
      "0 initial: (1, 64, 64) = 4096\n",
      "1 Conv2d: (16, 32, 32) = 16384\n",
      "2 Conv2d: (32, 16, 16) = 8192\n",
      "3 Conv2d: (128, 8, 8) = 8192\n",
      "4 Conv2d: (128, 4, 4) = 2048\n",
      "5 Conv2d: (128, 2, 2) = 512\n",
      "6 Flatten: (512, 1, 1) = 512\n",
      "7 Linear: (512, 1, 1) = 512\n",
      "8 Linear: (128, 1, 1) = 128\n",
      "9 Linear: (32, 1, 1) = 32\n",
      "10 Linear: (8, 1, 1) = 8\n",
      "11 Linear: (3, 1, 1) = 3\n",
      "12 Linear: (8, 1, 1) = 8\n",
      "13 Linear: (32, 1, 1) = 32\n",
      "14 Linear: (128, 1, 1) = 128\n",
      "15 Linear: (512, 1, 1) = 512\n",
      "16 Linear: (512, 1, 1) = 512\n",
      "17 reshape: (128, 2, 2) = 512\n",
      "18 ConvTranspose2d: (128, 4, 4) = 2048\n",
      "19 ConvTranspose2d: (128, 8, 8) = 8192\n",
      "20 ConvTranspose2d: (32, 16, 16) = 8192\n",
      "21 ConvTranspose2d: (16, 32, 32) = 16384\n",
      "22 ConvTranspose2d: (16, 64, 64) = 65536\n",
      "23 Conv2d: (1, 64, 64) = 4096\n",
      "Model loaded from /Users/life_mac_43/Projects/MediaDesign/InfoVAE/Tensho_InfoVAE/checkpoints/tuning\n",
      "Model saved to /Users/life_mac_43/Projects/MediaDesign/InfoVAE/Tensho_InfoVAE/checkpoints\n",
      "Using an existing study with name 'tuning_learning_[16, 32, 128, 128, 128]' instead of creating a new one.\n"
     ]
    },
    {
     "name": "stderr",
     "output_type": "stream",
     "text": [
      "/Users/life_mac_43/.pyenv/versions/miniforge3-4.10.3-10/envs/media_design/lib/python3.10/site-packages/optuna/progress_bar.py:47: ExperimentalWarning: Progress bar is experimental (supported from v1.2.0). The interface can change in the future.\n",
      "  self._init_valid()\n"
     ]
    },
    {
     "data": {
      "application/vnd.jupyter.widget-view+json": {
       "model_id": "73a819ec91b346aa99a0caf922082937",
       "version_major": 2,
       "version_minor": 0
      },
      "text/plain": [
       "  0%|          | 0/3 [00:00<?, ?it/s]"
      ]
     },
     "metadata": {},
     "output_type": "display_data"
    },
    {
     "name": "stderr",
     "output_type": "stream",
     "text": [
      "/Users/life_mac_43/.pyenv/versions/miniforge3-4.10.3-10/envs/media_design/lib/python3.10/site-packages/optuna/samplers/_tpe/parzen_estimator.py:188: RuntimeWarning: divide by zero encountered in divide\n",
      "  coefficient = 1 / z / p_accept\n"
     ]
    },
    {
     "name": "stdout",
     "output_type": "stream",
     "text": [
      "Model loaded from /Users/life_mac_43/Projects/MediaDesign/InfoVAE/Tensho_InfoVAE/checkpoints/tuning\n",
      "Trial 108 finished with value: 0.08400183543562889 and parameters: {'learning_rate': 0.00036859862595040017}. Best is trial 108 with value: 0.08400183543562889.\n",
      "\u001b[32m[I 2022-09-26 07:55:03,494]\u001b[0m Trial 108 finished with value: 0.08400183543562889 and parameters: {'learning_rate': 0.00036859862595040017}. Best is trial 108 with value: 0.08400183543562889.\u001b[0m\n",
      "Model loaded from /Users/life_mac_43/Projects/MediaDesign/InfoVAE/Tensho_InfoVAE/checkpoints/tuning\n"
     ]
    },
    {
     "name": "stderr",
     "output_type": "stream",
     "text": [
      "/Users/life_mac_43/.pyenv/versions/miniforge3-4.10.3-10/envs/media_design/lib/python3.10/site-packages/optuna/samplers/_tpe/parzen_estimator.py:188: RuntimeWarning: divide by zero encountered in divide\n",
      "  coefficient = 1 / z / p_accept\n"
     ]
    },
    {
     "name": "stdout",
     "output_type": "stream",
     "text": [
      "Trial 109 finished with value: 0.08666981011629105 and parameters: {'learning_rate': 0.0002709429604752284}. Best is trial 108 with value: 0.08400183543562889.\n",
      "\u001b[32m[I 2022-09-26 07:56:57,594]\u001b[0m Trial 109 finished with value: 0.08666981011629105 and parameters: {'learning_rate': 0.0002709429604752284}. Best is trial 108 with value: 0.08400183543562889.\u001b[0m\n",
      "Model loaded from /Users/life_mac_43/Projects/MediaDesign/InfoVAE/Tensho_InfoVAE/checkpoints/tuning\n"
     ]
    },
    {
     "name": "stderr",
     "output_type": "stream",
     "text": [
      "/Users/life_mac_43/.pyenv/versions/miniforge3-4.10.3-10/envs/media_design/lib/python3.10/site-packages/optuna/samplers/_tpe/parzen_estimator.py:188: RuntimeWarning: divide by zero encountered in divide\n",
      "  coefficient = 1 / z / p_accept\n"
     ]
    },
    {
     "name": "stdout",
     "output_type": "stream",
     "text": [
      "Trial 110 pruned. \n",
      "\u001b[32m[I 2022-09-26 07:57:50,978]\u001b[0m Trial 110 pruned. \u001b[0m\n",
      "Shape history:\n",
      "0 initial: (1, 64, 64) = 4096\n",
      "1 Conv2d: (16, 32, 32) = 16384\n",
      "2 Conv2d: (32, 16, 16) = 8192\n",
      "3 Conv2d: (128, 8, 8) = 8192\n",
      "4 Conv2d: (128, 4, 4) = 2048\n",
      "5 Conv2d: (128, 2, 2) = 512\n",
      "6 Flatten: (512, 1, 1) = 512\n",
      "7 Linear: (512, 1, 1) = 512\n",
      "8 Linear: (128, 1, 1) = 128\n",
      "9 Linear: (32, 1, 1) = 32\n",
      "10 Linear: (8, 1, 1) = 8\n",
      "11 Linear: (3, 1, 1) = 3\n",
      "12 Linear: (8, 1, 1) = 8\n",
      "13 Linear: (32, 1, 1) = 32\n",
      "14 Linear: (128, 1, 1) = 128\n",
      "15 Linear: (512, 1, 1) = 512\n",
      "16 Linear: (512, 1, 1) = 512\n",
      "17 reshape: (128, 2, 2) = 512\n",
      "18 ConvTranspose2d: (128, 4, 4) = 2048\n",
      "19 ConvTranspose2d: (128, 8, 8) = 8192\n",
      "20 ConvTranspose2d: (32, 16, 16) = 8192\n",
      "21 ConvTranspose2d: (16, 32, 32) = 16384\n",
      "22 ConvTranspose2d: (16, 64, 64) = 65536\n",
      "23 Conv2d: (1, 64, 64) = 4096\n",
      "Model loaded from /Users/life_mac_43/Projects/MediaDesign/InfoVAE/Tensho_InfoVAE/checkpoints/tuning\n",
      "Model saved to /Users/life_mac_43/Projects/MediaDesign/InfoVAE/Tensho_InfoVAE/checkpoints\n",
      "Using an existing study with name 'tuning_learning_[16, 32, 128, 128, 128]' instead of creating a new one.\n"
     ]
    },
    {
     "name": "stderr",
     "output_type": "stream",
     "text": [
      "\u001b[32m[I 2022-09-26 07:57:51,160]\u001b[0m Using an existing study with name 'tuning_learning_[16, 32, 128, 128, 128]' instead of creating a new one.\u001b[0m\n",
      "/Users/life_mac_43/.pyenv/versions/miniforge3-4.10.3-10/envs/media_design/lib/python3.10/site-packages/optuna/progress_bar.py:47: ExperimentalWarning: Progress bar is experimental (supported from v1.2.0). The interface can change in the future.\n",
      "  self._init_valid()\n"
     ]
    },
    {
     "data": {
      "application/vnd.jupyter.widget-view+json": {
       "model_id": "2820e56735ba4305946925fa731b2dda",
       "version_major": 2,
       "version_minor": 0
      },
      "text/plain": [
       "  0%|          | 0/3 [00:00<?, ?it/s]"
      ]
     },
     "metadata": {},
     "output_type": "display_data"
    },
    {
     "name": "stderr",
     "output_type": "stream",
     "text": [
      "/Users/life_mac_43/.pyenv/versions/miniforge3-4.10.3-10/envs/media_design/lib/python3.10/site-packages/optuna/samplers/_tpe/parzen_estimator.py:188: RuntimeWarning: divide by zero encountered in divide\n",
      "  coefficient = 1 / z / p_accept\n"
     ]
    },
    {
     "name": "stdout",
     "output_type": "stream",
     "text": [
      "Model loaded from /Users/life_mac_43/Projects/MediaDesign/InfoVAE/Tensho_InfoVAE/checkpoints/tuning\n",
      "Trial 111 pruned. \n",
      "\u001b[32m[I 2022-09-26 07:58:49,653]\u001b[0m Trial 111 pruned. \u001b[0m\n",
      "Model loaded from /Users/life_mac_43/Projects/MediaDesign/InfoVAE/Tensho_InfoVAE/checkpoints/tuning\n"
     ]
    },
    {
     "name": "stderr",
     "output_type": "stream",
     "text": [
      "/Users/life_mac_43/.pyenv/versions/miniforge3-4.10.3-10/envs/media_design/lib/python3.10/site-packages/optuna/samplers/_tpe/parzen_estimator.py:188: RuntimeWarning: divide by zero encountered in divide\n",
      "  coefficient = 1 / z / p_accept\n"
     ]
    },
    {
     "name": "stdout",
     "output_type": "stream",
     "text": [
      "Trial 112 pruned. \n",
      "\u001b[32m[I 2022-09-26 07:59:20,506]\u001b[0m Trial 112 pruned. \u001b[0m\n",
      "Model loaded from /Users/life_mac_43/Projects/MediaDesign/InfoVAE/Tensho_InfoVAE/checkpoints/tuning\n"
     ]
    },
    {
     "name": "stderr",
     "output_type": "stream",
     "text": [
      "/Users/life_mac_43/.pyenv/versions/miniforge3-4.10.3-10/envs/media_design/lib/python3.10/site-packages/optuna/samplers/_tpe/parzen_estimator.py:188: RuntimeWarning: divide by zero encountered in divide\n",
      "  coefficient = 1 / z / p_accept\n"
     ]
    },
    {
     "name": "stdout",
     "output_type": "stream",
     "text": [
      "Trial 113 pruned. \n",
      "\u001b[32m[I 2022-09-26 07:59:52,205]\u001b[0m Trial 113 pruned. \u001b[0m\n",
      "Shape history:\n",
      "0 initial: (1, 64, 64) = 4096\n",
      "1 Conv2d: (16, 32, 32) = 16384\n",
      "2 Conv2d: (32, 16, 16) = 8192\n",
      "3 Conv2d: (128, 8, 8) = 8192\n",
      "4 Conv2d: (128, 4, 4) = 2048\n",
      "5 Conv2d: (128, 2, 2) = 512\n",
      "6 Flatten: (512, 1, 1) = 512\n",
      "7 Linear: (512, 1, 1) = 512\n",
      "8 Linear: (128, 1, 1) = 128\n",
      "9 Linear: (32, 1, 1) = 32\n",
      "10 Linear: (8, 1, 1) = 8\n",
      "11 Linear: (3, 1, 1) = 3\n",
      "12 Linear: (8, 1, 1) = 8\n",
      "13 Linear: (32, 1, 1) = 32\n",
      "14 Linear: (128, 1, 1) = 128\n",
      "15 Linear: (512, 1, 1) = 512\n",
      "16 Linear: (512, 1, 1) = 512\n",
      "17 reshape: (128, 2, 2) = 512\n",
      "18 ConvTranspose2d: (128, 4, 4) = 2048\n",
      "19 ConvTranspose2d: (128, 8, 8) = 8192\n",
      "20 ConvTranspose2d: (32, 16, 16) = 8192\n",
      "21 ConvTranspose2d: (16, 32, 32) = 16384\n",
      "22 ConvTranspose2d: (16, 64, 64) = 65536\n",
      "23 Conv2d: (1, 64, 64) = 4096\n",
      "Model loaded from /Users/life_mac_43/Projects/MediaDesign/InfoVAE/Tensho_InfoVAE/checkpoints/tuning\n",
      "Model saved to /Users/life_mac_43/Projects/MediaDesign/InfoVAE/Tensho_InfoVAE/checkpoints\n",
      "Using an existing study with name 'tuning_learning_[16, 32, 128, 128, 128]' instead of creating a new one.\n"
     ]
    },
    {
     "name": "stderr",
     "output_type": "stream",
     "text": [
      "\u001b[32m[I 2022-09-26 07:59:52,356]\u001b[0m Using an existing study with name 'tuning_learning_[16, 32, 128, 128, 128]' instead of creating a new one.\u001b[0m\n",
      "/Users/life_mac_43/.pyenv/versions/miniforge3-4.10.3-10/envs/media_design/lib/python3.10/site-packages/optuna/progress_bar.py:47: ExperimentalWarning: Progress bar is experimental (supported from v1.2.0). The interface can change in the future.\n",
      "  self._init_valid()\n"
     ]
    },
    {
     "data": {
      "application/vnd.jupyter.widget-view+json": {
       "model_id": "842b27819b75458e837aa449921fa5ec",
       "version_major": 2,
       "version_minor": 0
      },
      "text/plain": [
       "  0%|          | 0/3 [00:00<?, ?it/s]"
      ]
     },
     "metadata": {},
     "output_type": "display_data"
    },
    {
     "name": "stderr",
     "output_type": "stream",
     "text": [
      "/Users/life_mac_43/.pyenv/versions/miniforge3-4.10.3-10/envs/media_design/lib/python3.10/site-packages/optuna/samplers/_tpe/parzen_estimator.py:188: RuntimeWarning: divide by zero encountered in divide\n",
      "  coefficient = 1 / z / p_accept\n"
     ]
    },
    {
     "name": "stdout",
     "output_type": "stream",
     "text": [
      "Model loaded from /Users/life_mac_43/Projects/MediaDesign/InfoVAE/Tensho_InfoVAE/checkpoints/tuning\n",
      "Trial 114 failed, because the objective function returned nan.\n",
      "\u001b[33m[W 2022-09-26 08:00:12,478]\u001b[0m Trial 114 failed, because the objective function returned nan.\u001b[0m\n",
      "Model loaded from /Users/life_mac_43/Projects/MediaDesign/InfoVAE/Tensho_InfoVAE/checkpoints/tuning\n"
     ]
    },
    {
     "name": "stderr",
     "output_type": "stream",
     "text": [
      "/Users/life_mac_43/.pyenv/versions/miniforge3-4.10.3-10/envs/media_design/lib/python3.10/site-packages/optuna/samplers/_tpe/parzen_estimator.py:188: RuntimeWarning: divide by zero encountered in divide\n",
      "  coefficient = 1 / z / p_accept\n"
     ]
    },
    {
     "name": "stdout",
     "output_type": "stream",
     "text": [
      "Trial 115 pruned. \n",
      "\u001b[32m[I 2022-09-26 08:00:44,014]\u001b[0m Trial 115 pruned. \u001b[0m\n",
      "Model loaded from /Users/life_mac_43/Projects/MediaDesign/InfoVAE/Tensho_InfoVAE/checkpoints/tuning\n"
     ]
    },
    {
     "name": "stderr",
     "output_type": "stream",
     "text": [
      "/Users/life_mac_43/.pyenv/versions/miniforge3-4.10.3-10/envs/media_design/lib/python3.10/site-packages/optuna/samplers/_tpe/parzen_estimator.py:188: RuntimeWarning: divide by zero encountered in divide\n",
      "  coefficient = 1 / z / p_accept\n"
     ]
    },
    {
     "name": "stdout",
     "output_type": "stream",
     "text": [
      "Trial 116 failed, because the objective function returned nan.\n",
      "\u001b[33m[W 2022-09-26 08:00:56,158]\u001b[0m Trial 116 failed, because the objective function returned nan.\u001b[0m\n",
      "Shape history:\n",
      "0 initial: (1, 64, 64) = 4096\n",
      "1 Conv2d: (16, 32, 32) = 16384\n",
      "2 Conv2d: (32, 16, 16) = 8192\n",
      "3 Conv2d: (128, 8, 8) = 8192\n",
      "4 Conv2d: (128, 4, 4) = 2048\n",
      "5 Conv2d: (128, 2, 2) = 512\n",
      "6 Flatten: (512, 1, 1) = 512\n",
      "7 Linear: (512, 1, 1) = 512\n",
      "8 Linear: (128, 1, 1) = 128\n",
      "9 Linear: (32, 1, 1) = 32\n",
      "10 Linear: (8, 1, 1) = 8\n",
      "11 Linear: (3, 1, 1) = 3\n",
      "12 Linear: (8, 1, 1) = 8\n",
      "13 Linear: (32, 1, 1) = 32\n",
      "14 Linear: (128, 1, 1) = 128\n",
      "15 Linear: (512, 1, 1) = 512\n",
      "16 Linear: (512, 1, 1) = 512\n",
      "17 reshape: (128, 2, 2) = 512\n",
      "18 ConvTranspose2d: (128, 4, 4) = 2048\n",
      "19 ConvTranspose2d: (128, 8, 8) = 8192\n",
      "20 ConvTranspose2d: (32, 16, 16) = 8192\n",
      "21 ConvTranspose2d: (16, 32, 32) = 16384\n",
      "22 ConvTranspose2d: (16, 64, 64) = 65536\n",
      "23 Conv2d: (1, 64, 64) = 4096\n",
      "Model loaded from /Users/life_mac_43/Projects/MediaDesign/InfoVAE/Tensho_InfoVAE/checkpoints/tuning\n",
      "Model saved to /Users/life_mac_43/Projects/MediaDesign/InfoVAE/Tensho_InfoVAE/checkpoints\n",
      "Using an existing study with name 'tuning_learning_[16, 32, 128, 128, 128]' instead of creating a new one.\n"
     ]
    },
    {
     "name": "stderr",
     "output_type": "stream",
     "text": [
      "\u001b[32m[I 2022-09-26 08:00:56,314]\u001b[0m Using an existing study with name 'tuning_learning_[16, 32, 128, 128, 128]' instead of creating a new one.\u001b[0m\n",
      "/Users/life_mac_43/.pyenv/versions/miniforge3-4.10.3-10/envs/media_design/lib/python3.10/site-packages/optuna/progress_bar.py:47: ExperimentalWarning: Progress bar is experimental (supported from v1.2.0). The interface can change in the future.\n",
      "  self._init_valid()\n"
     ]
    },
    {
     "data": {
      "application/vnd.jupyter.widget-view+json": {
       "model_id": "b1c6a61d7a0d4121acaf449fa4fce9fe",
       "version_major": 2,
       "version_minor": 0
      },
      "text/plain": [
       "  0%|          | 0/3 [00:00<?, ?it/s]"
      ]
     },
     "metadata": {},
     "output_type": "display_data"
    },
    {
     "name": "stderr",
     "output_type": "stream",
     "text": [
      "/Users/life_mac_43/.pyenv/versions/miniforge3-4.10.3-10/envs/media_design/lib/python3.10/site-packages/optuna/samplers/_tpe/parzen_estimator.py:188: RuntimeWarning: divide by zero encountered in divide\n",
      "  coefficient = 1 / z / p_accept\n"
     ]
    },
    {
     "name": "stdout",
     "output_type": "stream",
     "text": [
      "Model loaded from /Users/life_mac_43/Projects/MediaDesign/InfoVAE/Tensho_InfoVAE/checkpoints/tuning\n",
      "Trial 117 pruned. \n",
      "\u001b[32m[I 2022-09-26 08:01:28,201]\u001b[0m Trial 117 pruned. \u001b[0m\n",
      "Model loaded from /Users/life_mac_43/Projects/MediaDesign/InfoVAE/Tensho_InfoVAE/checkpoints/tuning\n"
     ]
    },
    {
     "name": "stderr",
     "output_type": "stream",
     "text": [
      "/Users/life_mac_43/.pyenv/versions/miniforge3-4.10.3-10/envs/media_design/lib/python3.10/site-packages/optuna/samplers/_tpe/parzen_estimator.py:188: RuntimeWarning: divide by zero encountered in divide\n",
      "  coefficient = 1 / z / p_accept\n"
     ]
    },
    {
     "name": "stdout",
     "output_type": "stream",
     "text": [
      "Trial 118 pruned. \n",
      "\u001b[32m[I 2022-09-26 08:02:34,787]\u001b[0m Trial 118 pruned. \u001b[0m\n",
      "Model loaded from /Users/life_mac_43/Projects/MediaDesign/InfoVAE/Tensho_InfoVAE/checkpoints/tuning\n"
     ]
    },
    {
     "name": "stderr",
     "output_type": "stream",
     "text": [
      "/Users/life_mac_43/.pyenv/versions/miniforge3-4.10.3-10/envs/media_design/lib/python3.10/site-packages/optuna/samplers/_tpe/parzen_estimator.py:188: RuntimeWarning: divide by zero encountered in divide\n",
      "  coefficient = 1 / z / p_accept\n"
     ]
    },
    {
     "name": "stdout",
     "output_type": "stream",
     "text": [
      "Trial 119 pruned. \n",
      "\u001b[32m[I 2022-09-26 08:03:08,243]\u001b[0m Trial 119 pruned. \u001b[0m\n",
      "Shape history:\n",
      "0 initial: (1, 64, 64) = 4096\n",
      "1 Conv2d: (16, 32, 32) = 16384\n",
      "2 Conv2d: (32, 16, 16) = 8192\n",
      "3 Conv2d: (128, 8, 8) = 8192\n",
      "4 Conv2d: (128, 4, 4) = 2048\n",
      "5 Conv2d: (128, 2, 2) = 512\n",
      "6 Flatten: (512, 1, 1) = 512\n",
      "7 Linear: (512, 1, 1) = 512\n",
      "8 Linear: (128, 1, 1) = 128\n",
      "9 Linear: (32, 1, 1) = 32\n",
      "10 Linear: (8, 1, 1) = 8\n",
      "11 Linear: (3, 1, 1) = 3\n",
      "12 Linear: (8, 1, 1) = 8\n",
      "13 Linear: (32, 1, 1) = 32\n",
      "14 Linear: (128, 1, 1) = 128\n",
      "15 Linear: (512, 1, 1) = 512\n",
      "16 Linear: (512, 1, 1) = 512\n",
      "17 reshape: (128, 2, 2) = 512\n",
      "18 ConvTranspose2d: (128, 4, 4) = 2048\n",
      "19 ConvTranspose2d: (128, 8, 8) = 8192\n",
      "20 ConvTranspose2d: (32, 16, 16) = 8192\n",
      "21 ConvTranspose2d: (16, 32, 32) = 16384\n",
      "22 ConvTranspose2d: (16, 64, 64) = 65536\n",
      "23 Conv2d: (1, 64, 64) = 4096\n",
      "Model loaded from /Users/life_mac_43/Projects/MediaDesign/InfoVAE/Tensho_InfoVAE/checkpoints/tuning\n",
      "Model saved to /Users/life_mac_43/Projects/MediaDesign/InfoVAE/Tensho_InfoVAE/checkpoints\n",
      "Using an existing study with name 'tuning_learning_[16, 32, 128, 128, 128]' instead of creating a new one.\n"
     ]
    },
    {
     "name": "stderr",
     "output_type": "stream",
     "text": [
      "\u001b[32m[I 2022-09-26 08:03:08,443]\u001b[0m Using an existing study with name 'tuning_learning_[16, 32, 128, 128, 128]' instead of creating a new one.\u001b[0m\n",
      "/Users/life_mac_43/.pyenv/versions/miniforge3-4.10.3-10/envs/media_design/lib/python3.10/site-packages/optuna/progress_bar.py:47: ExperimentalWarning: Progress bar is experimental (supported from v1.2.0). The interface can change in the future.\n",
      "  self._init_valid()\n"
     ]
    },
    {
     "data": {
      "application/vnd.jupyter.widget-view+json": {
       "model_id": "46b5747ba9e64bad8c6455fa81bafe55",
       "version_major": 2,
       "version_minor": 0
      },
      "text/plain": [
       "  0%|          | 0/3 [00:00<?, ?it/s]"
      ]
     },
     "metadata": {},
     "output_type": "display_data"
    },
    {
     "name": "stderr",
     "output_type": "stream",
     "text": [
      "/Users/life_mac_43/.pyenv/versions/miniforge3-4.10.3-10/envs/media_design/lib/python3.10/site-packages/optuna/samplers/_tpe/parzen_estimator.py:188: RuntimeWarning: divide by zero encountered in divide\n",
      "  coefficient = 1 / z / p_accept\n"
     ]
    },
    {
     "name": "stdout",
     "output_type": "stream",
     "text": [
      "Model loaded from /Users/life_mac_43/Projects/MediaDesign/InfoVAE/Tensho_InfoVAE/checkpoints/tuning\n",
      "Trial 120 finished with value: 0.08497705683112144 and parameters: {'learning_rate': 0.00033060971805981456}. Best is trial 108 with value: 0.08400183543562889.\n",
      "\u001b[32m[I 2022-09-26 08:06:31,510]\u001b[0m Trial 120 finished with value: 0.08497705683112144 and parameters: {'learning_rate': 0.00033060971805981456}. Best is trial 108 with value: 0.08400183543562889.\u001b[0m\n",
      "Model loaded from /Users/life_mac_43/Projects/MediaDesign/InfoVAE/Tensho_InfoVAE/checkpoints/tuning\n"
     ]
    },
    {
     "name": "stderr",
     "output_type": "stream",
     "text": [
      "/Users/life_mac_43/.pyenv/versions/miniforge3-4.10.3-10/envs/media_design/lib/python3.10/site-packages/optuna/samplers/_tpe/parzen_estimator.py:188: RuntimeWarning: divide by zero encountered in divide\n",
      "  coefficient = 1 / z / p_accept\n"
     ]
    },
    {
     "name": "stdout",
     "output_type": "stream",
     "text": [
      "Trial 121 pruned. \n",
      "\u001b[32m[I 2022-09-26 08:10:11,310]\u001b[0m Trial 121 pruned. \u001b[0m\n",
      "Model loaded from /Users/life_mac_43/Projects/MediaDesign/InfoVAE/Tensho_InfoVAE/checkpoints/tuning\n"
     ]
    },
    {
     "name": "stderr",
     "output_type": "stream",
     "text": [
      "/Users/life_mac_43/.pyenv/versions/miniforge3-4.10.3-10/envs/media_design/lib/python3.10/site-packages/optuna/samplers/_tpe/parzen_estimator.py:188: RuntimeWarning: divide by zero encountered in divide\n",
      "  coefficient = 1 / z / p_accept\n"
     ]
    },
    {
     "name": "stdout",
     "output_type": "stream",
     "text": [
      "Trial 122 finished with value: 0.0867505893111229 and parameters: {'learning_rate': 0.0003847508428803102}. Best is trial 108 with value: 0.08400183543562889.\n",
      "\u001b[32m[I 2022-09-26 08:14:11,855]\u001b[0m Trial 122 finished with value: 0.0867505893111229 and parameters: {'learning_rate': 0.0003847508428803102}. Best is trial 108 with value: 0.08400183543562889.\u001b[0m\n",
      "Shape history:\n",
      "0 initial: (1, 64, 64) = 4096\n",
      "1 Conv2d: (16, 32, 32) = 16384\n",
      "2 Conv2d: (32, 16, 16) = 8192\n",
      "3 Conv2d: (128, 8, 8) = 8192\n",
      "4 Conv2d: (128, 4, 4) = 2048\n",
      "5 Conv2d: (128, 2, 2) = 512\n",
      "6 Flatten: (512, 1, 1) = 512\n",
      "7 Linear: (512, 1, 1) = 512\n",
      "8 Linear: (128, 1, 1) = 128\n",
      "9 Linear: (32, 1, 1) = 32\n",
      "10 Linear: (8, 1, 1) = 8\n",
      "11 Linear: (3, 1, 1) = 3\n",
      "12 Linear: (8, 1, 1) = 8\n",
      "13 Linear: (32, 1, 1) = 32\n",
      "14 Linear: (128, 1, 1) = 128\n",
      "15 Linear: (512, 1, 1) = 512\n",
      "16 Linear: (512, 1, 1) = 512\n",
      "17 reshape: (128, 2, 2) = 512\n",
      "18 ConvTranspose2d: (128, 4, 4) = 2048\n",
      "19 ConvTranspose2d: (128, 8, 8) = 8192\n",
      "20 ConvTranspose2d: (32, 16, 16) = 8192\n",
      "21 ConvTranspose2d: (16, 32, 32) = 16384\n",
      "22 ConvTranspose2d: (16, 64, 64) = 65536\n",
      "23 Conv2d: (1, 64, 64) = 4096\n",
      "Model loaded from /Users/life_mac_43/Projects/MediaDesign/InfoVAE/Tensho_InfoVAE/checkpoints/tuning\n",
      "Model saved to /Users/life_mac_43/Projects/MediaDesign/InfoVAE/Tensho_InfoVAE/checkpoints\n",
      "Using an existing study with name 'tuning_learning_[16, 32, 128, 128, 128]' instead of creating a new one.\n"
     ]
    },
    {
     "name": "stderr",
     "output_type": "stream",
     "text": [
      "\u001b[32m[I 2022-09-26 08:14:12,072]\u001b[0m Using an existing study with name 'tuning_learning_[16, 32, 128, 128, 128]' instead of creating a new one.\u001b[0m\n",
      "/Users/life_mac_43/.pyenv/versions/miniforge3-4.10.3-10/envs/media_design/lib/python3.10/site-packages/optuna/progress_bar.py:47: ExperimentalWarning: Progress bar is experimental (supported from v1.2.0). The interface can change in the future.\n",
      "  self._init_valid()\n"
     ]
    },
    {
     "data": {
      "application/vnd.jupyter.widget-view+json": {
       "model_id": "ac2d0eea85944d28b15f813d4185b8cf",
       "version_major": 2,
       "version_minor": 0
      },
      "text/plain": [
       "  0%|          | 0/3 [00:00<?, ?it/s]"
      ]
     },
     "metadata": {},
     "output_type": "display_data"
    },
    {
     "name": "stdout",
     "output_type": "stream",
     "text": [
      "Model loaded from /Users/life_mac_43/Projects/MediaDesign/InfoVAE/Tensho_InfoVAE/checkpoints/tuning\n"
     ]
    },
    {
     "name": "stderr",
     "output_type": "stream",
     "text": [
      "/Users/life_mac_43/.pyenv/versions/miniforge3-4.10.3-10/envs/media_design/lib/python3.10/site-packages/optuna/samplers/_tpe/parzen_estimator.py:188: RuntimeWarning: divide by zero encountered in divide\n",
      "  coefficient = 1 / z / p_accept\n"
     ]
    },
    {
     "name": "stdout",
     "output_type": "stream",
     "text": [
      "Trial 123 finished with value: 0.08595944568514824 and parameters: {'learning_rate': 0.000299286230580105}. Best is trial 108 with value: 0.08400183543562889.\n",
      "\u001b[32m[I 2022-09-26 08:18:23,873]\u001b[0m Trial 123 finished with value: 0.08595944568514824 and parameters: {'learning_rate': 0.000299286230580105}. Best is trial 108 with value: 0.08400183543562889.\u001b[0m\n",
      "Model loaded from /Users/life_mac_43/Projects/MediaDesign/InfoVAE/Tensho_InfoVAE/checkpoints/tuning\n"
     ]
    },
    {
     "name": "stderr",
     "output_type": "stream",
     "text": [
      "/Users/life_mac_43/.pyenv/versions/miniforge3-4.10.3-10/envs/media_design/lib/python3.10/site-packages/optuna/samplers/_tpe/parzen_estimator.py:188: RuntimeWarning: divide by zero encountered in divide\n",
      "  coefficient = 1 / z / p_accept\n"
     ]
    },
    {
     "name": "stdout",
     "output_type": "stream",
     "text": [
      "Trial 124 pruned. \n",
      "\u001b[32m[I 2022-09-26 08:20:06,773]\u001b[0m Trial 124 pruned. \u001b[0m\n",
      "Model loaded from /Users/life_mac_43/Projects/MediaDesign/InfoVAE/Tensho_InfoVAE/checkpoints/tuning\n"
     ]
    },
    {
     "name": "stderr",
     "output_type": "stream",
     "text": [
      "/Users/life_mac_43/.pyenv/versions/miniforge3-4.10.3-10/envs/media_design/lib/python3.10/site-packages/optuna/samplers/_tpe/parzen_estimator.py:188: RuntimeWarning: divide by zero encountered in divide\n",
      "  coefficient = 1 / z / p_accept\n"
     ]
    },
    {
     "name": "stdout",
     "output_type": "stream",
     "text": [
      "Trial 125 pruned. \n",
      "\u001b[32m[I 2022-09-26 08:21:53,543]\u001b[0m Trial 125 pruned. \u001b[0m\n",
      "Shape history:\n",
      "0 initial: (1, 64, 64) = 4096\n",
      "1 Conv2d: (16, 32, 32) = 16384\n",
      "2 Conv2d: (32, 16, 16) = 8192\n",
      "3 Conv2d: (128, 8, 8) = 8192\n",
      "4 Conv2d: (128, 4, 4) = 2048\n",
      "5 Conv2d: (128, 2, 2) = 512\n",
      "6 Flatten: (512, 1, 1) = 512\n",
      "7 Linear: (512, 1, 1) = 512\n",
      "8 Linear: (128, 1, 1) = 128\n",
      "9 Linear: (32, 1, 1) = 32\n",
      "10 Linear: (8, 1, 1) = 8\n",
      "11 Linear: (3, 1, 1) = 3\n",
      "12 Linear: (8, 1, 1) = 8\n",
      "13 Linear: (32, 1, 1) = 32\n",
      "14 Linear: (128, 1, 1) = 128\n",
      "15 Linear: (512, 1, 1) = 512\n",
      "16 Linear: (512, 1, 1) = 512\n",
      "17 reshape: (128, 2, 2) = 512\n",
      "18 ConvTranspose2d: (128, 4, 4) = 2048\n",
      "19 ConvTranspose2d: (128, 8, 8) = 8192\n",
      "20 ConvTranspose2d: (32, 16, 16) = 8192\n",
      "21 ConvTranspose2d: (16, 32, 32) = 16384\n",
      "22 ConvTranspose2d: (16, 64, 64) = 65536\n",
      "23 Conv2d: (1, 64, 64) = 4096\n",
      "Model loaded from /Users/life_mac_43/Projects/MediaDesign/InfoVAE/Tensho_InfoVAE/checkpoints/tuning\n",
      "Model saved to /Users/life_mac_43/Projects/MediaDesign/InfoVAE/Tensho_InfoVAE/checkpoints\n",
      "Using an existing study with name 'tuning_learning_[16, 32, 128, 128, 128]' instead of creating a new one.\n"
     ]
    },
    {
     "name": "stderr",
     "output_type": "stream",
     "text": [
      "\u001b[32m[I 2022-09-26 08:21:53,757]\u001b[0m Using an existing study with name 'tuning_learning_[16, 32, 128, 128, 128]' instead of creating a new one.\u001b[0m\n",
      "/Users/life_mac_43/.pyenv/versions/miniforge3-4.10.3-10/envs/media_design/lib/python3.10/site-packages/optuna/progress_bar.py:47: ExperimentalWarning: Progress bar is experimental (supported from v1.2.0). The interface can change in the future.\n",
      "  self._init_valid()\n"
     ]
    },
    {
     "data": {
      "application/vnd.jupyter.widget-view+json": {
       "model_id": "90435fd26a19469caf17889578b85e6e",
       "version_major": 2,
       "version_minor": 0
      },
      "text/plain": [
       "  0%|          | 0/3 [00:00<?, ?it/s]"
      ]
     },
     "metadata": {},
     "output_type": "display_data"
    },
    {
     "name": "stdout",
     "output_type": "stream",
     "text": [
      "Model loaded from /Users/life_mac_43/Projects/MediaDesign/InfoVAE/Tensho_InfoVAE/checkpoints/tuning\n"
     ]
    },
    {
     "name": "stderr",
     "output_type": "stream",
     "text": [
      "/Users/life_mac_43/.pyenv/versions/miniforge3-4.10.3-10/envs/media_design/lib/python3.10/site-packages/optuna/samplers/_tpe/parzen_estimator.py:188: RuntimeWarning: divide by zero encountered in divide\n",
      "  coefficient = 1 / z / p_accept\n"
     ]
    },
    {
     "name": "stdout",
     "output_type": "stream",
     "text": [
      "Trial 126 pruned. \n",
      "\u001b[32m[I 2022-09-26 08:23:44,918]\u001b[0m Trial 126 pruned. \u001b[0m\n",
      "Model loaded from /Users/life_mac_43/Projects/MediaDesign/InfoVAE/Tensho_InfoVAE/checkpoints/tuning\n"
     ]
    },
    {
     "name": "stderr",
     "output_type": "stream",
     "text": [
      "/Users/life_mac_43/.pyenv/versions/miniforge3-4.10.3-10/envs/media_design/lib/python3.10/site-packages/optuna/samplers/_tpe/parzen_estimator.py:188: RuntimeWarning: divide by zero encountered in divide\n",
      "  coefficient = 1 / z / p_accept\n"
     ]
    },
    {
     "name": "stdout",
     "output_type": "stream",
     "text": [
      "Trial 127 finished with value: 0.08547063544392586 and parameters: {'learning_rate': 0.00029735930392827374}. Best is trial 108 with value: 0.08400183543562889.\n",
      "\u001b[32m[I 2022-09-26 08:29:50,390]\u001b[0m Trial 127 finished with value: 0.08547063544392586 and parameters: {'learning_rate': 0.00029735930392827374}. Best is trial 108 with value: 0.08400183543562889.\u001b[0m\n",
      "Model loaded from /Users/life_mac_43/Projects/MediaDesign/InfoVAE/Tensho_InfoVAE/checkpoints/tuning\n"
     ]
    },
    {
     "name": "stderr",
     "output_type": "stream",
     "text": [
      "/Users/life_mac_43/.pyenv/versions/miniforge3-4.10.3-10/envs/media_design/lib/python3.10/site-packages/optuna/samplers/_tpe/parzen_estimator.py:188: RuntimeWarning: divide by zero encountered in divide\n",
      "  coefficient = 1 / z / p_accept\n"
     ]
    },
    {
     "name": "stdout",
     "output_type": "stream",
     "text": [
      "Trial 128 finished with value: 0.08589189499616623 and parameters: {'learning_rate': 0.00028987752561223783}. Best is trial 108 with value: 0.08400183543562889.\n",
      "\u001b[32m[I 2022-09-26 08:36:24,400]\u001b[0m Trial 128 finished with value: 0.08589189499616623 and parameters: {'learning_rate': 0.00028987752561223783}. Best is trial 108 with value: 0.08400183543562889.\u001b[0m\n",
      "Shape history:\n",
      "0 initial: (1, 64, 64) = 4096\n",
      "1 Conv2d: (16, 32, 32) = 16384\n",
      "2 Conv2d: (32, 16, 16) = 8192\n",
      "3 Conv2d: (128, 8, 8) = 8192\n",
      "4 Conv2d: (128, 4, 4) = 2048\n",
      "5 Conv2d: (128, 2, 2) = 512\n",
      "6 Flatten: (512, 1, 1) = 512\n",
      "7 Linear: (512, 1, 1) = 512\n",
      "8 Linear: (128, 1, 1) = 128\n",
      "9 Linear: (32, 1, 1) = 32\n",
      "10 Linear: (8, 1, 1) = 8\n",
      "11 Linear: (3, 1, 1) = 3\n",
      "12 Linear: (8, 1, 1) = 8\n",
      "13 Linear: (32, 1, 1) = 32\n",
      "14 Linear: (128, 1, 1) = 128\n",
      "15 Linear: (512, 1, 1) = 512\n",
      "16 Linear: (512, 1, 1) = 512\n",
      "17 reshape: (128, 2, 2) = 512\n",
      "18 ConvTranspose2d: (128, 4, 4) = 2048\n",
      "19 ConvTranspose2d: (128, 8, 8) = 8192\n",
      "20 ConvTranspose2d: (32, 16, 16) = 8192\n",
      "21 ConvTranspose2d: (16, 32, 32) = 16384\n",
      "22 ConvTranspose2d: (16, 64, 64) = 65536\n",
      "23 Conv2d: (1, 64, 64) = 4096\n",
      "Model loaded from /Users/life_mac_43/Projects/MediaDesign/InfoVAE/Tensho_InfoVAE/checkpoints/tuning\n",
      "Model saved to /Users/life_mac_43/Projects/MediaDesign/InfoVAE/Tensho_InfoVAE/checkpoints\n",
      "Using an existing study with name 'tuning_learning_[16, 32, 128, 128, 128]' instead of creating a new one.\n"
     ]
    },
    {
     "name": "stderr",
     "output_type": "stream",
     "text": [
      "\u001b[32m[I 2022-09-26 08:36:24,625]\u001b[0m Using an existing study with name 'tuning_learning_[16, 32, 128, 128, 128]' instead of creating a new one.\u001b[0m\n",
      "/Users/life_mac_43/.pyenv/versions/miniforge3-4.10.3-10/envs/media_design/lib/python3.10/site-packages/optuna/progress_bar.py:47: ExperimentalWarning: Progress bar is experimental (supported from v1.2.0). The interface can change in the future.\n",
      "  self._init_valid()\n"
     ]
    },
    {
     "data": {
      "application/vnd.jupyter.widget-view+json": {
       "model_id": "eb9f444eddad4acc922a2837e89ebcf3",
       "version_major": 2,
       "version_minor": 0
      },
      "text/plain": [
       "  0%|          | 0/3 [00:00<?, ?it/s]"
      ]
     },
     "metadata": {},
     "output_type": "display_data"
    },
    {
     "name": "stdout",
     "output_type": "stream",
     "text": [
      "Model loaded from /Users/life_mac_43/Projects/MediaDesign/InfoVAE/Tensho_InfoVAE/checkpoints/tuning\n"
     ]
    },
    {
     "name": "stderr",
     "output_type": "stream",
     "text": [
      "/Users/life_mac_43/.pyenv/versions/miniforge3-4.10.3-10/envs/media_design/lib/python3.10/site-packages/optuna/samplers/_tpe/parzen_estimator.py:188: RuntimeWarning: divide by zero encountered in divide\n",
      "  coefficient = 1 / z / p_accept\n"
     ]
    },
    {
     "ename": "KeyboardInterrupt",
     "evalue": "",
     "output_type": "error",
     "traceback": [
      "\u001b[0;31m---------------------------------------------------------------------------\u001b[0m",
      "\u001b[0;31mKeyboardInterrupt\u001b[0m                         Traceback (most recent call last)",
      "\u001b[1;32mセル3 を /Users/life_mac_43/Projects/MediaDesign/InfoVAE/explore_optuna.ipynb\u001b[0m in \u001b[0;36m<cell line: 1>\u001b[0;34m()\u001b[0m\n\u001b[1;32m      <a href='vscode-notebook-cell:/Users/life_mac_43/Projects/MediaDesign/InfoVAE/explore_optuna.ipynb#W2sZmlsZQ%3D%3D?line=0'>1</a>\u001b[0m \u001b[39mfor\u001b[39;00m i \u001b[39min\u001b[39;00m \u001b[39mrange\u001b[39m(\u001b[39m10\u001b[39m):\n\u001b[1;32m      <a href='vscode-notebook-cell:/Users/life_mac_43/Projects/MediaDesign/InfoVAE/explore_optuna.ipynb#W2sZmlsZQ%3D%3D?line=1'>2</a>\u001b[0m     optimize \u001b[39m=\u001b[39m make_optimizer(\u001b[39m\"\u001b[39m\u001b[39mlearning\u001b[39m\u001b[39m\"\u001b[39m)\n\u001b[0;32m----> <a href='vscode-notebook-cell:/Users/life_mac_43/Projects/MediaDesign/InfoVAE/explore_optuna.ipynb#W2sZmlsZQ%3D%3D?line=2'>3</a>\u001b[0m     study \u001b[39m=\u001b[39m optimize(\u001b[39m3\u001b[39;49m)\n",
      "File \u001b[0;32m~/Projects/MediaDesign/InfoVAE/Tensho_InfoVAE/scripts/tuning.py:152\u001b[0m, in \u001b[0;36mmake_optimizer.<locals>.optimze\u001b[0;34m(n_trials)\u001b[0m\n\u001b[1;32m    150\u001b[0m     study \u001b[39m=\u001b[39m get_study_multi_obj(study_name)\n\u001b[1;32m    151\u001b[0m \u001b[39m# study.enqueue_trial(get_default_args())\u001b[39;00m\n\u001b[0;32m--> 152\u001b[0m study\u001b[39m.\u001b[39;49moptimize(objective, n_trials\u001b[39m=\u001b[39;49mn_trials, show_progress_bar\u001b[39m=\u001b[39;49m\u001b[39mTrue\u001b[39;49;00m)\n\u001b[1;32m    153\u001b[0m \u001b[39mreturn\u001b[39;00m study\n",
      "File \u001b[0;32m~/.pyenv/versions/miniforge3-4.10.3-10/envs/media_design/lib/python3.10/site-packages/optuna/study/study.py:400\u001b[0m, in \u001b[0;36mStudy.optimize\u001b[0;34m(self, func, n_trials, timeout, n_jobs, catch, callbacks, gc_after_trial, show_progress_bar)\u001b[0m\n\u001b[1;32m    392\u001b[0m \u001b[39mif\u001b[39;00m n_jobs \u001b[39m!=\u001b[39m \u001b[39m1\u001b[39m:\n\u001b[1;32m    393\u001b[0m     warnings\u001b[39m.\u001b[39mwarn(\n\u001b[1;32m    394\u001b[0m         \u001b[39m\"\u001b[39m\u001b[39m`n_jobs` argument has been deprecated in v2.7.0. \u001b[39m\u001b[39m\"\u001b[39m\n\u001b[1;32m    395\u001b[0m         \u001b[39m\"\u001b[39m\u001b[39mThis feature will be removed in v4.0.0. \u001b[39m\u001b[39m\"\u001b[39m\n\u001b[1;32m    396\u001b[0m         \u001b[39m\"\u001b[39m\u001b[39mSee https://github.com/optuna/optuna/releases/tag/v2.7.0.\u001b[39m\u001b[39m\"\u001b[39m,\n\u001b[1;32m    397\u001b[0m         \u001b[39mFutureWarning\u001b[39;00m,\n\u001b[1;32m    398\u001b[0m     )\n\u001b[0;32m--> 400\u001b[0m _optimize(\n\u001b[1;32m    401\u001b[0m     study\u001b[39m=\u001b[39;49m\u001b[39mself\u001b[39;49m,\n\u001b[1;32m    402\u001b[0m     func\u001b[39m=\u001b[39;49mfunc,\n\u001b[1;32m    403\u001b[0m     n_trials\u001b[39m=\u001b[39;49mn_trials,\n\u001b[1;32m    404\u001b[0m     timeout\u001b[39m=\u001b[39;49mtimeout,\n\u001b[1;32m    405\u001b[0m     n_jobs\u001b[39m=\u001b[39;49mn_jobs,\n\u001b[1;32m    406\u001b[0m     catch\u001b[39m=\u001b[39;49mcatch,\n\u001b[1;32m    407\u001b[0m     callbacks\u001b[39m=\u001b[39;49mcallbacks,\n\u001b[1;32m    408\u001b[0m     gc_after_trial\u001b[39m=\u001b[39;49mgc_after_trial,\n\u001b[1;32m    409\u001b[0m     show_progress_bar\u001b[39m=\u001b[39;49mshow_progress_bar,\n\u001b[1;32m    410\u001b[0m )\n",
      "File \u001b[0;32m~/.pyenv/versions/miniforge3-4.10.3-10/envs/media_design/lib/python3.10/site-packages/optuna/study/_optimize.py:66\u001b[0m, in \u001b[0;36m_optimize\u001b[0;34m(study, func, n_trials, timeout, n_jobs, catch, callbacks, gc_after_trial, show_progress_bar)\u001b[0m\n\u001b[1;32m     64\u001b[0m \u001b[39mtry\u001b[39;00m:\n\u001b[1;32m     65\u001b[0m     \u001b[39mif\u001b[39;00m n_jobs \u001b[39m==\u001b[39m \u001b[39m1\u001b[39m:\n\u001b[0;32m---> 66\u001b[0m         _optimize_sequential(\n\u001b[1;32m     67\u001b[0m             study,\n\u001b[1;32m     68\u001b[0m             func,\n\u001b[1;32m     69\u001b[0m             n_trials,\n\u001b[1;32m     70\u001b[0m             timeout,\n\u001b[1;32m     71\u001b[0m             catch,\n\u001b[1;32m     72\u001b[0m             callbacks,\n\u001b[1;32m     73\u001b[0m             gc_after_trial,\n\u001b[1;32m     74\u001b[0m             reseed_sampler_rng\u001b[39m=\u001b[39;49m\u001b[39mFalse\u001b[39;49;00m,\n\u001b[1;32m     75\u001b[0m             time_start\u001b[39m=\u001b[39;49m\u001b[39mNone\u001b[39;49;00m,\n\u001b[1;32m     76\u001b[0m             progress_bar\u001b[39m=\u001b[39;49mprogress_bar,\n\u001b[1;32m     77\u001b[0m         )\n\u001b[1;32m     78\u001b[0m     \u001b[39melse\u001b[39;00m:\n\u001b[1;32m     79\u001b[0m         \u001b[39mif\u001b[39;00m show_progress_bar:\n",
      "File \u001b[0;32m~/.pyenv/versions/miniforge3-4.10.3-10/envs/media_design/lib/python3.10/site-packages/optuna/study/_optimize.py:163\u001b[0m, in \u001b[0;36m_optimize_sequential\u001b[0;34m(study, func, n_trials, timeout, catch, callbacks, gc_after_trial, reseed_sampler_rng, time_start, progress_bar)\u001b[0m\n\u001b[1;32m    160\u001b[0m         \u001b[39mbreak\u001b[39;00m\n\u001b[1;32m    162\u001b[0m \u001b[39mtry\u001b[39;00m:\n\u001b[0;32m--> 163\u001b[0m     trial \u001b[39m=\u001b[39m _run_trial(study, func, catch)\n\u001b[1;32m    164\u001b[0m \u001b[39mexcept\u001b[39;00m \u001b[39mException\u001b[39;00m:\n\u001b[1;32m    165\u001b[0m     \u001b[39mraise\u001b[39;00m\n",
      "File \u001b[0;32m~/.pyenv/versions/miniforge3-4.10.3-10/envs/media_design/lib/python3.10/site-packages/optuna/study/_optimize.py:213\u001b[0m, in \u001b[0;36m_run_trial\u001b[0;34m(study, func, catch)\u001b[0m\n\u001b[1;32m    210\u001b[0m     thread\u001b[39m.\u001b[39mstart()\n\u001b[1;32m    212\u001b[0m \u001b[39mtry\u001b[39;00m:\n\u001b[0;32m--> 213\u001b[0m     value_or_values \u001b[39m=\u001b[39m func(trial)\n\u001b[1;32m    214\u001b[0m \u001b[39mexcept\u001b[39;00m exceptions\u001b[39m.\u001b[39mTrialPruned \u001b[39mas\u001b[39;00m e:\n\u001b[1;32m    215\u001b[0m     \u001b[39m# TODO(mamu): Handle multi-objective cases.\u001b[39;00m\n\u001b[1;32m    216\u001b[0m     state \u001b[39m=\u001b[39m TrialState\u001b[39m.\u001b[39mPRUNED\n",
      "File \u001b[0;32m~/Projects/MediaDesign/InfoVAE/Tensho_InfoVAE/scripts/tuning.py:81\u001b[0m, in \u001b[0;36mmake_optimizer.<locals>.objective\u001b[0;34m(trial)\u001b[0m\n\u001b[1;32m     79\u001b[0m optimizer\u001b[39m.\u001b[39mzero_grad()\n\u001b[1;32m     80\u001b[0m output \u001b[39m=\u001b[39m model(train_x, training\u001b[39m=\u001b[39m(batch_idx \u001b[39m!=\u001b[39m \u001b[39mlen\u001b[39m(train_loader) \u001b[39m-\u001b[39m \u001b[39m1\u001b[39m))\n\u001b[0;32m---> 81\u001b[0m loss \u001b[39m=\u001b[39m model\u001b[39m.\u001b[39;49mloss_function(\u001b[39m*\u001b[39;49moutput)\n\u001b[1;32m     82\u001b[0m \u001b[39mif\u001b[39;00m isnan(loss[\u001b[39m\"\u001b[39m\u001b[39mloss\u001b[39m\u001b[39m\"\u001b[39m]\u001b[39m.\u001b[39mdata\u001b[39m.\u001b[39mitem()) \u001b[39mor\u001b[39;00m loss[\u001b[39m\"\u001b[39m\u001b[39mloss\u001b[39m\u001b[39m\"\u001b[39m]\u001b[39m.\u001b[39mdata\u001b[39m.\u001b[39mitem() \u001b[39m>\u001b[39m \u001b[39m0.9\u001b[39m:\n\u001b[1;32m     83\u001b[0m     \u001b[39m# raise ValueError(\"Loss is NaN or too large\")\u001b[39;00m\n\u001b[1;32m     84\u001b[0m     \u001b[39mreturn\u001b[39;00m \u001b[39mfloat\u001b[39m(\u001b[39m\"\u001b[39m\u001b[39mnan\u001b[39m\u001b[39m\"\u001b[39m)\n",
      "File \u001b[0;32m~/Projects/MediaDesign/InfoVAE/Tensho_InfoVAE/models/infovae.py:364\u001b[0m, in \u001b[0;36mInfoVAE.loss_function\u001b[0;34m(self, *args, **kwargs)\u001b[0m\n\u001b[1;32m    356\u001b[0m \u001b[39m# mu = args[3]\u001b[39;00m\n\u001b[1;32m    357\u001b[0m \u001b[39m# log_var = args[4]\u001b[39;00m\n\u001b[1;32m    358\u001b[0m \n\u001b[1;32m    359\u001b[0m \u001b[39m# batch_size = input.size(0)\u001b[39;00m\n\u001b[1;32m    360\u001b[0m \u001b[39m# bias_corr = batch_size * (batch_size - 1)\u001b[39;00m\n\u001b[1;32m    361\u001b[0m \u001b[39m# kld_weight = kwargs[\"M_N\"]  # Account for the minibatch samples from the dataset\u001b[39;00m\n\u001b[1;32m    363\u001b[0m recons_loss \u001b[39m=\u001b[39m F\u001b[39m.\u001b[39mmse_loss(recons, \u001b[39minput\u001b[39m)\n\u001b[0;32m--> 364\u001b[0m mmd_loss \u001b[39m=\u001b[39m \u001b[39mself\u001b[39;49m\u001b[39m.\u001b[39;49mcompute_mmd(z)\n\u001b[1;32m    365\u001b[0m \u001b[39m# kld_loss = torch.mean(\u001b[39;00m\n\u001b[1;32m    366\u001b[0m \u001b[39m#     -0.5 * torch.sum(1 + log_var - mu**2 - log_var.exp(), dim=1), dim=0\u001b[39;00m\n\u001b[1;32m    367\u001b[0m \u001b[39m# )\u001b[39;00m\n\u001b[0;32m   (...)\u001b[0m\n\u001b[1;32m    372\u001b[0m \u001b[39m#     + (self.alpha + self.reg_weight - 1.0) / bias_corr * mmd_loss\u001b[39;00m\n\u001b[1;32m    373\u001b[0m \u001b[39m# )\u001b[39;00m\n\u001b[1;32m    374\u001b[0m loss \u001b[39m=\u001b[39m recons_loss \u001b[39m+\u001b[39m \u001b[39mself\u001b[39m\u001b[39m.\u001b[39mreg_weight \u001b[39m*\u001b[39m mmd_loss\n",
      "File \u001b[0;32m~/Projects/MediaDesign/InfoVAE/Tensho_InfoVAE/models/infovae.py:449\u001b[0m, in \u001b[0;36mInfoVAE.compute_mmd\u001b[0;34m(self, z)\u001b[0m\n\u001b[1;32m    447\u001b[0m \u001b[39mdef\u001b[39;00m \u001b[39mcompute_mmd\u001b[39m(\u001b[39mself\u001b[39m, z: Tensor) \u001b[39m-\u001b[39m\u001b[39m>\u001b[39m Tensor:\n\u001b[1;32m    448\u001b[0m     \u001b[39m# Sample from prior (Gaussian) distribution\u001b[39;00m\n\u001b[0;32m--> 449\u001b[0m     prior_z \u001b[39m=\u001b[39m torch\u001b[39m.\u001b[39;49mrandn_like(z, device\u001b[39m=\u001b[39;49mz\u001b[39m.\u001b[39;49mdevice)\n\u001b[1;32m    451\u001b[0m     prior_z__kernel \u001b[39m=\u001b[39m \u001b[39mself\u001b[39m\u001b[39m.\u001b[39mcompute_kernel(prior_z, prior_z)\n\u001b[1;32m    452\u001b[0m     z__kernel \u001b[39m=\u001b[39m \u001b[39mself\u001b[39m\u001b[39m.\u001b[39mcompute_kernel(z, z)\n",
      "\u001b[0;31mKeyboardInterrupt\u001b[0m: "
     ]
    }
   ],
   "source": [
    "\n",
    "for i in range(10):\n",
    "    optimize = make_optimizer(\"learning\")\n",
    "    study = optimize(3)\n",
    "\n",
    "\n"
   ]
  },
  {
   "cell_type": "code",
   "execution_count": 4,
   "metadata": {},
   "outputs": [
    {
     "name": "stdout",
     "output_type": "stream",
     "text": [
      "Shape history:\n",
      "0 initial: (1, 64, 64) = 4096\n",
      "1 Conv2d: (16, 32, 32) = 16384\n",
      "2 Conv2d: (32, 16, 16) = 8192\n",
      "3 Conv2d: (128, 8, 8) = 8192\n",
      "4 Conv2d: (128, 4, 4) = 2048\n",
      "5 Conv2d: (128, 2, 2) = 512\n",
      "6 Flatten: (512, 1, 1) = 512\n",
      "7 Linear: (512, 1, 1) = 512\n",
      "8 Linear: (128, 1, 1) = 128\n",
      "9 Linear: (32, 1, 1) = 32\n",
      "10 Linear: (8, 1, 1) = 8\n",
      "11 Linear: (3, 1, 1) = 3\n",
      "12 Linear: (8, 1, 1) = 8\n",
      "13 Linear: (32, 1, 1) = 32\n",
      "14 Linear: (128, 1, 1) = 128\n",
      "15 Linear: (512, 1, 1) = 512\n",
      "16 Linear: (512, 1, 1) = 512\n",
      "17 reshape: (128, 2, 2) = 512\n",
      "18 ConvTranspose2d: (128, 4, 4) = 2048\n",
      "19 ConvTranspose2d: (128, 8, 8) = 8192\n",
      "20 ConvTranspose2d: (32, 16, 16) = 8192\n",
      "21 ConvTranspose2d: (16, 32, 32) = 16384\n",
      "22 ConvTranspose2d: (16, 64, 64) = 65536\n",
      "23 Conv2d: (1, 64, 64) = 4096\n",
      "Model loaded from /Users/life_mac_43/Projects/MediaDesign/InfoVAE/Tensho_InfoVAE/checkpoints/tuning\n",
      "Model saved to /Users/life_mac_43/Projects/MediaDesign/InfoVAE/Tensho_InfoVAE/checkpoints\n",
      "Using an existing study with name 'tuning_learning_[16, 32, 128, 128, 128]' instead of creating a new one.\n"
     ]
    },
    {
     "name": "stderr",
     "output_type": "stream",
     "text": [
      "\u001b[32m[I 2022-09-26 08:37:05,474]\u001b[0m Using an existing study with name 'tuning_learning_[16, 32, 128, 128, 128]' instead of creating a new one.\u001b[0m\n",
      "/Users/life_mac_43/.pyenv/versions/miniforge3-4.10.3-10/envs/media_design/lib/python3.10/site-packages/optuna/progress_bar.py:47: ExperimentalWarning: Progress bar is experimental (supported from v1.2.0). The interface can change in the future.\n",
      "  self._init_valid()\n"
     ]
    },
    {
     "data": {
      "application/vnd.jupyter.widget-view+json": {
       "model_id": "4db8e856e27747b2948fbedfe7afc55c",
       "version_major": 2,
       "version_minor": 0
      },
      "text/plain": [
       "0it [00:00, ?it/s]"
      ]
     },
     "metadata": {},
     "output_type": "display_data"
    }
   ],
   "source": [
    "optimize = make_optimizer(\"learning\")\n",
    "study = optimize(0)"
   ]
  },
  {
   "cell_type": "code",
   "execution_count": 5,
   "metadata": {},
   "outputs": [
    {
     "name": "stdout",
     "output_type": "stream",
     "text": [
      "Study statistics: \n",
      "  Number of finished trials:  130\n",
      "  Number of pruned trials:  90\n",
      "  Number of complete trials:  28\n",
      "Best trial:\n",
      "  Value:  0.08400183543562889\n",
      "  Params: \n",
      "    learning_rate=0.00036859862595040017,\n"
     ]
    }
   ],
   "source": [
    "report_optuna_study(study)"
   ]
  },
  {
   "cell_type": "code",
   "execution_count": 6,
   "metadata": {},
   "outputs": [
    {
     "data": {
      "application/vnd.plotly.v1+json": {
       "config": {
        "plotlyServerURL": "https://plot.ly"
       },
       "data": [
        {
         "type": "scatter",
         "xaxis": "x",
         "yaxis": "y"
        }
       ],
       "layout": {
        "template": {
         "data": {
          "bar": [
           {
            "error_x": {
             "color": "#2a3f5f"
            },
            "error_y": {
             "color": "#2a3f5f"
            },
            "marker": {
             "line": {
              "color": "#E5ECF6",
              "width": 0.5
             },
             "pattern": {
              "fillmode": "overlay",
              "size": 10,
              "solidity": 0.2
             }
            },
            "type": "bar"
           }
          ],
          "barpolar": [
           {
            "marker": {
             "line": {
              "color": "#E5ECF6",
              "width": 0.5
             },
             "pattern": {
              "fillmode": "overlay",
              "size": 10,
              "solidity": 0.2
             }
            },
            "type": "barpolar"
           }
          ],
          "carpet": [
           {
            "aaxis": {
             "endlinecolor": "#2a3f5f",
             "gridcolor": "white",
             "linecolor": "white",
             "minorgridcolor": "white",
             "startlinecolor": "#2a3f5f"
            },
            "baxis": {
             "endlinecolor": "#2a3f5f",
             "gridcolor": "white",
             "linecolor": "white",
             "minorgridcolor": "white",
             "startlinecolor": "#2a3f5f"
            },
            "type": "carpet"
           }
          ],
          "choropleth": [
           {
            "colorbar": {
             "outlinewidth": 0,
             "ticks": ""
            },
            "type": "choropleth"
           }
          ],
          "contour": [
           {
            "colorbar": {
             "outlinewidth": 0,
             "ticks": ""
            },
            "colorscale": [
             [
              0,
              "#0d0887"
             ],
             [
              0.1111111111111111,
              "#46039f"
             ],
             [
              0.2222222222222222,
              "#7201a8"
             ],
             [
              0.3333333333333333,
              "#9c179e"
             ],
             [
              0.4444444444444444,
              "#bd3786"
             ],
             [
              0.5555555555555556,
              "#d8576b"
             ],
             [
              0.6666666666666666,
              "#ed7953"
             ],
             [
              0.7777777777777778,
              "#fb9f3a"
             ],
             [
              0.8888888888888888,
              "#fdca26"
             ],
             [
              1,
              "#f0f921"
             ]
            ],
            "type": "contour"
           }
          ],
          "contourcarpet": [
           {
            "colorbar": {
             "outlinewidth": 0,
             "ticks": ""
            },
            "type": "contourcarpet"
           }
          ],
          "heatmap": [
           {
            "colorbar": {
             "outlinewidth": 0,
             "ticks": ""
            },
            "colorscale": [
             [
              0,
              "#0d0887"
             ],
             [
              0.1111111111111111,
              "#46039f"
             ],
             [
              0.2222222222222222,
              "#7201a8"
             ],
             [
              0.3333333333333333,
              "#9c179e"
             ],
             [
              0.4444444444444444,
              "#bd3786"
             ],
             [
              0.5555555555555556,
              "#d8576b"
             ],
             [
              0.6666666666666666,
              "#ed7953"
             ],
             [
              0.7777777777777778,
              "#fb9f3a"
             ],
             [
              0.8888888888888888,
              "#fdca26"
             ],
             [
              1,
              "#f0f921"
             ]
            ],
            "type": "heatmap"
           }
          ],
          "heatmapgl": [
           {
            "colorbar": {
             "outlinewidth": 0,
             "ticks": ""
            },
            "colorscale": [
             [
              0,
              "#0d0887"
             ],
             [
              0.1111111111111111,
              "#46039f"
             ],
             [
              0.2222222222222222,
              "#7201a8"
             ],
             [
              0.3333333333333333,
              "#9c179e"
             ],
             [
              0.4444444444444444,
              "#bd3786"
             ],
             [
              0.5555555555555556,
              "#d8576b"
             ],
             [
              0.6666666666666666,
              "#ed7953"
             ],
             [
              0.7777777777777778,
              "#fb9f3a"
             ],
             [
              0.8888888888888888,
              "#fdca26"
             ],
             [
              1,
              "#f0f921"
             ]
            ],
            "type": "heatmapgl"
           }
          ],
          "histogram": [
           {
            "marker": {
             "pattern": {
              "fillmode": "overlay",
              "size": 10,
              "solidity": 0.2
             }
            },
            "type": "histogram"
           }
          ],
          "histogram2d": [
           {
            "colorbar": {
             "outlinewidth": 0,
             "ticks": ""
            },
            "colorscale": [
             [
              0,
              "#0d0887"
             ],
             [
              0.1111111111111111,
              "#46039f"
             ],
             [
              0.2222222222222222,
              "#7201a8"
             ],
             [
              0.3333333333333333,
              "#9c179e"
             ],
             [
              0.4444444444444444,
              "#bd3786"
             ],
             [
              0.5555555555555556,
              "#d8576b"
             ],
             [
              0.6666666666666666,
              "#ed7953"
             ],
             [
              0.7777777777777778,
              "#fb9f3a"
             ],
             [
              0.8888888888888888,
              "#fdca26"
             ],
             [
              1,
              "#f0f921"
             ]
            ],
            "type": "histogram2d"
           }
          ],
          "histogram2dcontour": [
           {
            "colorbar": {
             "outlinewidth": 0,
             "ticks": ""
            },
            "colorscale": [
             [
              0,
              "#0d0887"
             ],
             [
              0.1111111111111111,
              "#46039f"
             ],
             [
              0.2222222222222222,
              "#7201a8"
             ],
             [
              0.3333333333333333,
              "#9c179e"
             ],
             [
              0.4444444444444444,
              "#bd3786"
             ],
             [
              0.5555555555555556,
              "#d8576b"
             ],
             [
              0.6666666666666666,
              "#ed7953"
             ],
             [
              0.7777777777777778,
              "#fb9f3a"
             ],
             [
              0.8888888888888888,
              "#fdca26"
             ],
             [
              1,
              "#f0f921"
             ]
            ],
            "type": "histogram2dcontour"
           }
          ],
          "mesh3d": [
           {
            "colorbar": {
             "outlinewidth": 0,
             "ticks": ""
            },
            "type": "mesh3d"
           }
          ],
          "parcoords": [
           {
            "line": {
             "colorbar": {
              "outlinewidth": 0,
              "ticks": ""
             }
            },
            "type": "parcoords"
           }
          ],
          "pie": [
           {
            "automargin": true,
            "type": "pie"
           }
          ],
          "scatter": [
           {
            "fillpattern": {
             "fillmode": "overlay",
             "size": 10,
             "solidity": 0.2
            },
            "type": "scatter"
           }
          ],
          "scatter3d": [
           {
            "line": {
             "colorbar": {
              "outlinewidth": 0,
              "ticks": ""
             }
            },
            "marker": {
             "colorbar": {
              "outlinewidth": 0,
              "ticks": ""
             }
            },
            "type": "scatter3d"
           }
          ],
          "scattercarpet": [
           {
            "marker": {
             "colorbar": {
              "outlinewidth": 0,
              "ticks": ""
             }
            },
            "type": "scattercarpet"
           }
          ],
          "scattergeo": [
           {
            "marker": {
             "colorbar": {
              "outlinewidth": 0,
              "ticks": ""
             }
            },
            "type": "scattergeo"
           }
          ],
          "scattergl": [
           {
            "marker": {
             "colorbar": {
              "outlinewidth": 0,
              "ticks": ""
             }
            },
            "type": "scattergl"
           }
          ],
          "scattermapbox": [
           {
            "marker": {
             "colorbar": {
              "outlinewidth": 0,
              "ticks": ""
             }
            },
            "type": "scattermapbox"
           }
          ],
          "scatterpolar": [
           {
            "marker": {
             "colorbar": {
              "outlinewidth": 0,
              "ticks": ""
             }
            },
            "type": "scatterpolar"
           }
          ],
          "scatterpolargl": [
           {
            "marker": {
             "colorbar": {
              "outlinewidth": 0,
              "ticks": ""
             }
            },
            "type": "scatterpolargl"
           }
          ],
          "scatterternary": [
           {
            "marker": {
             "colorbar": {
              "outlinewidth": 0,
              "ticks": ""
             }
            },
            "type": "scatterternary"
           }
          ],
          "surface": [
           {
            "colorbar": {
             "outlinewidth": 0,
             "ticks": ""
            },
            "colorscale": [
             [
              0,
              "#0d0887"
             ],
             [
              0.1111111111111111,
              "#46039f"
             ],
             [
              0.2222222222222222,
              "#7201a8"
             ],
             [
              0.3333333333333333,
              "#9c179e"
             ],
             [
              0.4444444444444444,
              "#bd3786"
             ],
             [
              0.5555555555555556,
              "#d8576b"
             ],
             [
              0.6666666666666666,
              "#ed7953"
             ],
             [
              0.7777777777777778,
              "#fb9f3a"
             ],
             [
              0.8888888888888888,
              "#fdca26"
             ],
             [
              1,
              "#f0f921"
             ]
            ],
            "type": "surface"
           }
          ],
          "table": [
           {
            "cells": {
             "fill": {
              "color": "#EBF0F8"
             },
             "line": {
              "color": "white"
             }
            },
            "header": {
             "fill": {
              "color": "#C8D4E3"
             },
             "line": {
              "color": "white"
             }
            },
            "type": "table"
           }
          ]
         },
         "layout": {
          "annotationdefaults": {
           "arrowcolor": "#2a3f5f",
           "arrowhead": 0,
           "arrowwidth": 1
          },
          "autotypenumbers": "strict",
          "coloraxis": {
           "colorbar": {
            "outlinewidth": 0,
            "ticks": ""
           }
          },
          "colorscale": {
           "diverging": [
            [
             0,
             "#8e0152"
            ],
            [
             0.1,
             "#c51b7d"
            ],
            [
             0.2,
             "#de77ae"
            ],
            [
             0.3,
             "#f1b6da"
            ],
            [
             0.4,
             "#fde0ef"
            ],
            [
             0.5,
             "#f7f7f7"
            ],
            [
             0.6,
             "#e6f5d0"
            ],
            [
             0.7,
             "#b8e186"
            ],
            [
             0.8,
             "#7fbc41"
            ],
            [
             0.9,
             "#4d9221"
            ],
            [
             1,
             "#276419"
            ]
           ],
           "sequential": [
            [
             0,
             "#0d0887"
            ],
            [
             0.1111111111111111,
             "#46039f"
            ],
            [
             0.2222222222222222,
             "#7201a8"
            ],
            [
             0.3333333333333333,
             "#9c179e"
            ],
            [
             0.4444444444444444,
             "#bd3786"
            ],
            [
             0.5555555555555556,
             "#d8576b"
            ],
            [
             0.6666666666666666,
             "#ed7953"
            ],
            [
             0.7777777777777778,
             "#fb9f3a"
            ],
            [
             0.8888888888888888,
             "#fdca26"
            ],
            [
             1,
             "#f0f921"
            ]
           ],
           "sequentialminus": [
            [
             0,
             "#0d0887"
            ],
            [
             0.1111111111111111,
             "#46039f"
            ],
            [
             0.2222222222222222,
             "#7201a8"
            ],
            [
             0.3333333333333333,
             "#9c179e"
            ],
            [
             0.4444444444444444,
             "#bd3786"
            ],
            [
             0.5555555555555556,
             "#d8576b"
            ],
            [
             0.6666666666666666,
             "#ed7953"
            ],
            [
             0.7777777777777778,
             "#fb9f3a"
            ],
            [
             0.8888888888888888,
             "#fdca26"
            ],
            [
             1,
             "#f0f921"
            ]
           ]
          },
          "colorway": [
           "#636efa",
           "#EF553B",
           "#00cc96",
           "#ab63fa",
           "#FFA15A",
           "#19d3f3",
           "#FF6692",
           "#B6E880",
           "#FF97FF",
           "#FECB52"
          ],
          "font": {
           "color": "#2a3f5f"
          },
          "geo": {
           "bgcolor": "white",
           "lakecolor": "white",
           "landcolor": "#E5ECF6",
           "showlakes": true,
           "showland": true,
           "subunitcolor": "white"
          },
          "hoverlabel": {
           "align": "left"
          },
          "hovermode": "closest",
          "mapbox": {
           "style": "light"
          },
          "paper_bgcolor": "white",
          "plot_bgcolor": "#E5ECF6",
          "polar": {
           "angularaxis": {
            "gridcolor": "white",
            "linecolor": "white",
            "ticks": ""
           },
           "bgcolor": "#E5ECF6",
           "radialaxis": {
            "gridcolor": "white",
            "linecolor": "white",
            "ticks": ""
           }
          },
          "scene": {
           "xaxis": {
            "backgroundcolor": "#E5ECF6",
            "gridcolor": "white",
            "gridwidth": 2,
            "linecolor": "white",
            "showbackground": true,
            "ticks": "",
            "zerolinecolor": "white"
           },
           "yaxis": {
            "backgroundcolor": "#E5ECF6",
            "gridcolor": "white",
            "gridwidth": 2,
            "linecolor": "white",
            "showbackground": true,
            "ticks": "",
            "zerolinecolor": "white"
           },
           "zaxis": {
            "backgroundcolor": "#E5ECF6",
            "gridcolor": "white",
            "gridwidth": 2,
            "linecolor": "white",
            "showbackground": true,
            "ticks": "",
            "zerolinecolor": "white"
           }
          },
          "shapedefaults": {
           "line": {
            "color": "#2a3f5f"
           }
          },
          "ternary": {
           "aaxis": {
            "gridcolor": "white",
            "linecolor": "white",
            "ticks": ""
           },
           "baxis": {
            "gridcolor": "white",
            "linecolor": "white",
            "ticks": ""
           },
           "bgcolor": "#E5ECF6",
           "caxis": {
            "gridcolor": "white",
            "linecolor": "white",
            "ticks": ""
           }
          },
          "title": {
           "x": 0.05
          },
          "xaxis": {
           "automargin": true,
           "gridcolor": "white",
           "linecolor": "white",
           "ticks": "",
           "title": {
            "standoff": 15
           },
           "zerolinecolor": "white",
           "zerolinewidth": 2
          },
          "yaxis": {
           "automargin": true,
           "gridcolor": "white",
           "linecolor": "white",
           "ticks": "",
           "title": {
            "standoff": 15
           },
           "zerolinecolor": "white",
           "zerolinewidth": 2
          }
         }
        },
        "title": {
         "text": "Contour Plot"
        },
        "xaxis": {
         "anchor": "y",
         "domain": [
          0,
          1
         ],
         "range": [
          -5.230937744503459,
          -3.2393144448820985
         ],
         "title": {
          "text": "learning_rate"
         },
         "type": "log"
        },
        "yaxis": {
         "anchor": "x",
         "domain": [
          0,
          1
         ],
         "range": [
          -5.230937744503459,
          -3.2393144448820985
         ],
         "title": {
          "text": "learning_rate"
         },
         "type": "log"
        }
       }
      }
     },
     "metadata": {},
     "output_type": "display_data"
    },
    {
     "data": {
      "application/vnd.plotly.v1+json": {
       "config": {
        "plotlyServerURL": "https://plot.ly"
       },
       "data": [
        {
         "mode": "lines",
         "name": "tuning_learning_[16, 32, 128, 128, 128]",
         "type": "scatter",
         "x": [
          0.08400183543562889,
          0.10064236917580016,
          0.11728290291597145,
          0.13392343665614273,
          0.150563970396314,
          0.16720450413648527,
          0.18384503787665657,
          0.20048557161682784,
          0.2171261053569991,
          0.23376663909717038,
          0.25040717283734165,
          0.267047706577513,
          0.28368824031768425,
          0.3003287740578555,
          0.3169693077980268,
          0.33360984153819806,
          0.35025037527836933,
          0.3668909090185406,
          0.38353144275871187,
          0.40017197649888314,
          0.4168125102390544,
          0.43345304397922574,
          0.450093577719397,
          0.4667341114595683,
          0.48337464519973955,
          0.5000151789399108,
          0.5166557126800821,
          0.5332962464202533,
          0.5499367801604247,
          0.566577313900596,
          0.5832178476407672,
          0.5998583813809385,
          0.6164989151211098,
          0.633139448861281,
          0.6497799826014523,
          0.6664205163416236,
          0.6830610500817949,
          0.6997015838219661,
          0.7163421175621374,
          0.7329826513023087,
          0.7496231850424799,
          0.7662637187826513,
          0.7829042525228226,
          0.7995447862629939,
          0.8161853200031651,
          0.8328258537433364,
          0.8494663874835077,
          0.8661069212236789,
          0.8827474549638502,
          0.8993879887040215,
          0.9160285224441927,
          0.932669056184364,
          0.9493095899245353,
          0.9659501236647066,
          0.9825906574048778,
          0.9992311911450491,
          1.0158717248852205,
          1.0325122586253919,
          1.049152792365563,
          1.0657933261057342,
          1.0824338598459056,
          1.0990743935860767,
          1.115714927326248,
          1.1323554610664193,
          1.1489959948065906,
          1.165636528546762,
          1.1822770622869332,
          1.1989175960271046,
          1.2155581297672757,
          1.2321986635074471,
          1.2488391972476183,
          1.2654797309877897,
          1.2821202647279608,
          1.2987607984681322,
          1.3154013322083034,
          1.3320418659484747,
          1.348682399688646,
          1.3653229334288173,
          1.3819634671689884,
          1.3986040009091598,
          1.415244534649331,
          1.4318850683895024,
          1.4485256021296737,
          1.465166135869845,
          1.4818066696100163,
          1.4984472033501874,
          1.5150877370903588,
          1.53172827083053,
          1.5483688045707014,
          1.5650093383108725,
          1.581649872051044,
          1.598290405791215,
          1.6149309395313864,
          1.6315714732715576,
          1.648212007011729,
          1.6648525407519001,
          1.6814930744920715,
          1.698133608232243,
          1.714774141972414,
          1.7314146757125854
         ],
         "y": [
          0.03571428571428571,
          0.9642857142857143,
          0.9642857142857143,
          0.9642857142857143,
          0.9642857142857143,
          0.9642857142857143,
          0.9642857142857143,
          0.9642857142857143,
          0.9642857142857143,
          0.9642857142857143,
          0.9642857142857143,
          0.9642857142857143,
          0.9642857142857143,
          0.9642857142857143,
          0.9642857142857143,
          0.9642857142857143,
          0.9642857142857143,
          0.9642857142857143,
          0.9642857142857143,
          0.9642857142857143,
          0.9642857142857143,
          0.9642857142857143,
          0.9642857142857143,
          0.9642857142857143,
          0.9642857142857143,
          0.9642857142857143,
          0.9642857142857143,
          0.9642857142857143,
          0.9642857142857143,
          0.9642857142857143,
          0.9642857142857143,
          0.9642857142857143,
          0.9642857142857143,
          0.9642857142857143,
          0.9642857142857143,
          0.9642857142857143,
          0.9642857142857143,
          0.9642857142857143,
          0.9642857142857143,
          0.9642857142857143,
          0.9642857142857143,
          0.9642857142857143,
          0.9642857142857143,
          0.9642857142857143,
          0.9642857142857143,
          0.9642857142857143,
          0.9642857142857143,
          0.9642857142857143,
          0.9642857142857143,
          0.9642857142857143,
          0.9642857142857143,
          0.9642857142857143,
          0.9642857142857143,
          0.9642857142857143,
          0.9642857142857143,
          0.9642857142857143,
          0.9642857142857143,
          0.9642857142857143,
          0.9642857142857143,
          0.9642857142857143,
          0.9642857142857143,
          0.9642857142857143,
          0.9642857142857143,
          0.9642857142857143,
          0.9642857142857143,
          0.9642857142857143,
          0.9642857142857143,
          0.9642857142857143,
          0.9642857142857143,
          0.9642857142857143,
          0.9642857142857143,
          0.9642857142857143,
          0.9642857142857143,
          0.9642857142857143,
          0.9642857142857143,
          0.9642857142857143,
          0.9642857142857143,
          0.9642857142857143,
          0.9642857142857143,
          0.9642857142857143,
          0.9642857142857143,
          0.9642857142857143,
          0.9642857142857143,
          0.9642857142857143,
          0.9642857142857143,
          0.9642857142857143,
          0.9642857142857143,
          0.9642857142857143,
          0.9642857142857143,
          0.9642857142857143,
          0.9642857142857143,
          0.9642857142857143,
          0.9642857142857143,
          0.9642857142857143,
          0.9642857142857143,
          0.9642857142857143,
          0.9642857142857143,
          0.9642857142857143,
          0.9642857142857143,
          1
         ]
        }
       ],
       "layout": {
        "template": {
         "data": {
          "bar": [
           {
            "error_x": {
             "color": "#2a3f5f"
            },
            "error_y": {
             "color": "#2a3f5f"
            },
            "marker": {
             "line": {
              "color": "#E5ECF6",
              "width": 0.5
             },
             "pattern": {
              "fillmode": "overlay",
              "size": 10,
              "solidity": 0.2
             }
            },
            "type": "bar"
           }
          ],
          "barpolar": [
           {
            "marker": {
             "line": {
              "color": "#E5ECF6",
              "width": 0.5
             },
             "pattern": {
              "fillmode": "overlay",
              "size": 10,
              "solidity": 0.2
             }
            },
            "type": "barpolar"
           }
          ],
          "carpet": [
           {
            "aaxis": {
             "endlinecolor": "#2a3f5f",
             "gridcolor": "white",
             "linecolor": "white",
             "minorgridcolor": "white",
             "startlinecolor": "#2a3f5f"
            },
            "baxis": {
             "endlinecolor": "#2a3f5f",
             "gridcolor": "white",
             "linecolor": "white",
             "minorgridcolor": "white",
             "startlinecolor": "#2a3f5f"
            },
            "type": "carpet"
           }
          ],
          "choropleth": [
           {
            "colorbar": {
             "outlinewidth": 0,
             "ticks": ""
            },
            "type": "choropleth"
           }
          ],
          "contour": [
           {
            "colorbar": {
             "outlinewidth": 0,
             "ticks": ""
            },
            "colorscale": [
             [
              0,
              "#0d0887"
             ],
             [
              0.1111111111111111,
              "#46039f"
             ],
             [
              0.2222222222222222,
              "#7201a8"
             ],
             [
              0.3333333333333333,
              "#9c179e"
             ],
             [
              0.4444444444444444,
              "#bd3786"
             ],
             [
              0.5555555555555556,
              "#d8576b"
             ],
             [
              0.6666666666666666,
              "#ed7953"
             ],
             [
              0.7777777777777778,
              "#fb9f3a"
             ],
             [
              0.8888888888888888,
              "#fdca26"
             ],
             [
              1,
              "#f0f921"
             ]
            ],
            "type": "contour"
           }
          ],
          "contourcarpet": [
           {
            "colorbar": {
             "outlinewidth": 0,
             "ticks": ""
            },
            "type": "contourcarpet"
           }
          ],
          "heatmap": [
           {
            "colorbar": {
             "outlinewidth": 0,
             "ticks": ""
            },
            "colorscale": [
             [
              0,
              "#0d0887"
             ],
             [
              0.1111111111111111,
              "#46039f"
             ],
             [
              0.2222222222222222,
              "#7201a8"
             ],
             [
              0.3333333333333333,
              "#9c179e"
             ],
             [
              0.4444444444444444,
              "#bd3786"
             ],
             [
              0.5555555555555556,
              "#d8576b"
             ],
             [
              0.6666666666666666,
              "#ed7953"
             ],
             [
              0.7777777777777778,
              "#fb9f3a"
             ],
             [
              0.8888888888888888,
              "#fdca26"
             ],
             [
              1,
              "#f0f921"
             ]
            ],
            "type": "heatmap"
           }
          ],
          "heatmapgl": [
           {
            "colorbar": {
             "outlinewidth": 0,
             "ticks": ""
            },
            "colorscale": [
             [
              0,
              "#0d0887"
             ],
             [
              0.1111111111111111,
              "#46039f"
             ],
             [
              0.2222222222222222,
              "#7201a8"
             ],
             [
              0.3333333333333333,
              "#9c179e"
             ],
             [
              0.4444444444444444,
              "#bd3786"
             ],
             [
              0.5555555555555556,
              "#d8576b"
             ],
             [
              0.6666666666666666,
              "#ed7953"
             ],
             [
              0.7777777777777778,
              "#fb9f3a"
             ],
             [
              0.8888888888888888,
              "#fdca26"
             ],
             [
              1,
              "#f0f921"
             ]
            ],
            "type": "heatmapgl"
           }
          ],
          "histogram": [
           {
            "marker": {
             "pattern": {
              "fillmode": "overlay",
              "size": 10,
              "solidity": 0.2
             }
            },
            "type": "histogram"
           }
          ],
          "histogram2d": [
           {
            "colorbar": {
             "outlinewidth": 0,
             "ticks": ""
            },
            "colorscale": [
             [
              0,
              "#0d0887"
             ],
             [
              0.1111111111111111,
              "#46039f"
             ],
             [
              0.2222222222222222,
              "#7201a8"
             ],
             [
              0.3333333333333333,
              "#9c179e"
             ],
             [
              0.4444444444444444,
              "#bd3786"
             ],
             [
              0.5555555555555556,
              "#d8576b"
             ],
             [
              0.6666666666666666,
              "#ed7953"
             ],
             [
              0.7777777777777778,
              "#fb9f3a"
             ],
             [
              0.8888888888888888,
              "#fdca26"
             ],
             [
              1,
              "#f0f921"
             ]
            ],
            "type": "histogram2d"
           }
          ],
          "histogram2dcontour": [
           {
            "colorbar": {
             "outlinewidth": 0,
             "ticks": ""
            },
            "colorscale": [
             [
              0,
              "#0d0887"
             ],
             [
              0.1111111111111111,
              "#46039f"
             ],
             [
              0.2222222222222222,
              "#7201a8"
             ],
             [
              0.3333333333333333,
              "#9c179e"
             ],
             [
              0.4444444444444444,
              "#bd3786"
             ],
             [
              0.5555555555555556,
              "#d8576b"
             ],
             [
              0.6666666666666666,
              "#ed7953"
             ],
             [
              0.7777777777777778,
              "#fb9f3a"
             ],
             [
              0.8888888888888888,
              "#fdca26"
             ],
             [
              1,
              "#f0f921"
             ]
            ],
            "type": "histogram2dcontour"
           }
          ],
          "mesh3d": [
           {
            "colorbar": {
             "outlinewidth": 0,
             "ticks": ""
            },
            "type": "mesh3d"
           }
          ],
          "parcoords": [
           {
            "line": {
             "colorbar": {
              "outlinewidth": 0,
              "ticks": ""
             }
            },
            "type": "parcoords"
           }
          ],
          "pie": [
           {
            "automargin": true,
            "type": "pie"
           }
          ],
          "scatter": [
           {
            "fillpattern": {
             "fillmode": "overlay",
             "size": 10,
             "solidity": 0.2
            },
            "type": "scatter"
           }
          ],
          "scatter3d": [
           {
            "line": {
             "colorbar": {
              "outlinewidth": 0,
              "ticks": ""
             }
            },
            "marker": {
             "colorbar": {
              "outlinewidth": 0,
              "ticks": ""
             }
            },
            "type": "scatter3d"
           }
          ],
          "scattercarpet": [
           {
            "marker": {
             "colorbar": {
              "outlinewidth": 0,
              "ticks": ""
             }
            },
            "type": "scattercarpet"
           }
          ],
          "scattergeo": [
           {
            "marker": {
             "colorbar": {
              "outlinewidth": 0,
              "ticks": ""
             }
            },
            "type": "scattergeo"
           }
          ],
          "scattergl": [
           {
            "marker": {
             "colorbar": {
              "outlinewidth": 0,
              "ticks": ""
             }
            },
            "type": "scattergl"
           }
          ],
          "scattermapbox": [
           {
            "marker": {
             "colorbar": {
              "outlinewidth": 0,
              "ticks": ""
             }
            },
            "type": "scattermapbox"
           }
          ],
          "scatterpolar": [
           {
            "marker": {
             "colorbar": {
              "outlinewidth": 0,
              "ticks": ""
             }
            },
            "type": "scatterpolar"
           }
          ],
          "scatterpolargl": [
           {
            "marker": {
             "colorbar": {
              "outlinewidth": 0,
              "ticks": ""
             }
            },
            "type": "scatterpolargl"
           }
          ],
          "scatterternary": [
           {
            "marker": {
             "colorbar": {
              "outlinewidth": 0,
              "ticks": ""
             }
            },
            "type": "scatterternary"
           }
          ],
          "surface": [
           {
            "colorbar": {
             "outlinewidth": 0,
             "ticks": ""
            },
            "colorscale": [
             [
              0,
              "#0d0887"
             ],
             [
              0.1111111111111111,
              "#46039f"
             ],
             [
              0.2222222222222222,
              "#7201a8"
             ],
             [
              0.3333333333333333,
              "#9c179e"
             ],
             [
              0.4444444444444444,
              "#bd3786"
             ],
             [
              0.5555555555555556,
              "#d8576b"
             ],
             [
              0.6666666666666666,
              "#ed7953"
             ],
             [
              0.7777777777777778,
              "#fb9f3a"
             ],
             [
              0.8888888888888888,
              "#fdca26"
             ],
             [
              1,
              "#f0f921"
             ]
            ],
            "type": "surface"
           }
          ],
          "table": [
           {
            "cells": {
             "fill": {
              "color": "#EBF0F8"
             },
             "line": {
              "color": "white"
             }
            },
            "header": {
             "fill": {
              "color": "#C8D4E3"
             },
             "line": {
              "color": "white"
             }
            },
            "type": "table"
           }
          ]
         },
         "layout": {
          "annotationdefaults": {
           "arrowcolor": "#2a3f5f",
           "arrowhead": 0,
           "arrowwidth": 1
          },
          "autotypenumbers": "strict",
          "coloraxis": {
           "colorbar": {
            "outlinewidth": 0,
            "ticks": ""
           }
          },
          "colorscale": {
           "diverging": [
            [
             0,
             "#8e0152"
            ],
            [
             0.1,
             "#c51b7d"
            ],
            [
             0.2,
             "#de77ae"
            ],
            [
             0.3,
             "#f1b6da"
            ],
            [
             0.4,
             "#fde0ef"
            ],
            [
             0.5,
             "#f7f7f7"
            ],
            [
             0.6,
             "#e6f5d0"
            ],
            [
             0.7,
             "#b8e186"
            ],
            [
             0.8,
             "#7fbc41"
            ],
            [
             0.9,
             "#4d9221"
            ],
            [
             1,
             "#276419"
            ]
           ],
           "sequential": [
            [
             0,
             "#0d0887"
            ],
            [
             0.1111111111111111,
             "#46039f"
            ],
            [
             0.2222222222222222,
             "#7201a8"
            ],
            [
             0.3333333333333333,
             "#9c179e"
            ],
            [
             0.4444444444444444,
             "#bd3786"
            ],
            [
             0.5555555555555556,
             "#d8576b"
            ],
            [
             0.6666666666666666,
             "#ed7953"
            ],
            [
             0.7777777777777778,
             "#fb9f3a"
            ],
            [
             0.8888888888888888,
             "#fdca26"
            ],
            [
             1,
             "#f0f921"
            ]
           ],
           "sequentialminus": [
            [
             0,
             "#0d0887"
            ],
            [
             0.1111111111111111,
             "#46039f"
            ],
            [
             0.2222222222222222,
             "#7201a8"
            ],
            [
             0.3333333333333333,
             "#9c179e"
            ],
            [
             0.4444444444444444,
             "#bd3786"
            ],
            [
             0.5555555555555556,
             "#d8576b"
            ],
            [
             0.6666666666666666,
             "#ed7953"
            ],
            [
             0.7777777777777778,
             "#fb9f3a"
            ],
            [
             0.8888888888888888,
             "#fdca26"
            ],
            [
             1,
             "#f0f921"
            ]
           ]
          },
          "colorway": [
           "#636efa",
           "#EF553B",
           "#00cc96",
           "#ab63fa",
           "#FFA15A",
           "#19d3f3",
           "#FF6692",
           "#B6E880",
           "#FF97FF",
           "#FECB52"
          ],
          "font": {
           "color": "#2a3f5f"
          },
          "geo": {
           "bgcolor": "white",
           "lakecolor": "white",
           "landcolor": "#E5ECF6",
           "showlakes": true,
           "showland": true,
           "subunitcolor": "white"
          },
          "hoverlabel": {
           "align": "left"
          },
          "hovermode": "closest",
          "mapbox": {
           "style": "light"
          },
          "paper_bgcolor": "white",
          "plot_bgcolor": "#E5ECF6",
          "polar": {
           "angularaxis": {
            "gridcolor": "white",
            "linecolor": "white",
            "ticks": ""
           },
           "bgcolor": "#E5ECF6",
           "radialaxis": {
            "gridcolor": "white",
            "linecolor": "white",
            "ticks": ""
           }
          },
          "scene": {
           "xaxis": {
            "backgroundcolor": "#E5ECF6",
            "gridcolor": "white",
            "gridwidth": 2,
            "linecolor": "white",
            "showbackground": true,
            "ticks": "",
            "zerolinecolor": "white"
           },
           "yaxis": {
            "backgroundcolor": "#E5ECF6",
            "gridcolor": "white",
            "gridwidth": 2,
            "linecolor": "white",
            "showbackground": true,
            "ticks": "",
            "zerolinecolor": "white"
           },
           "zaxis": {
            "backgroundcolor": "#E5ECF6",
            "gridcolor": "white",
            "gridwidth": 2,
            "linecolor": "white",
            "showbackground": true,
            "ticks": "",
            "zerolinecolor": "white"
           }
          },
          "shapedefaults": {
           "line": {
            "color": "#2a3f5f"
           }
          },
          "ternary": {
           "aaxis": {
            "gridcolor": "white",
            "linecolor": "white",
            "ticks": ""
           },
           "baxis": {
            "gridcolor": "white",
            "linecolor": "white",
            "ticks": ""
           },
           "bgcolor": "#E5ECF6",
           "caxis": {
            "gridcolor": "white",
            "linecolor": "white",
            "ticks": ""
           }
          },
          "title": {
           "x": 0.05
          },
          "xaxis": {
           "automargin": true,
           "gridcolor": "white",
           "linecolor": "white",
           "ticks": "",
           "title": {
            "standoff": 15
           },
           "zerolinecolor": "white",
           "zerolinewidth": 2
          },
          "yaxis": {
           "automargin": true,
           "gridcolor": "white",
           "linecolor": "white",
           "ticks": "",
           "title": {
            "standoff": 15
           },
           "zerolinecolor": "white",
           "zerolinewidth": 2
          }
         }
        },
        "title": {
         "text": "Empirical Distribution Function Plot"
        },
        "xaxis": {
         "title": {
          "text": "Objective Value"
         }
        },
        "yaxis": {
         "range": [
          0,
          1
         ],
         "title": {
          "text": "Cumulative Probability"
         }
        }
       }
      }
     },
     "metadata": {},
     "output_type": "display_data"
    },
    {
     "data": {
      "application/vnd.plotly.v1+json": {
       "config": {
        "plotlyServerURL": "https://plot.ly"
       },
       "data": [
        {
         "marker": {
          "maxdisplayed": 10
         },
         "mode": "lines+markers",
         "name": "Trial3",
         "type": "scatter",
         "x": [
          0,
          1,
          2,
          3,
          4,
          5,
          6,
          7,
          8,
          9
         ],
         "y": [
          0.1368299126625061,
          0.11946503072977066,
          0.09879912063479424,
          0.09952227398753166,
          0.09520871937274933,
          1.731147289276123,
          1.7280280590057373,
          1.727052628993988,
          1.7300951480865479,
          1.7283552885055542
         ]
        },
        {
         "marker": {
          "maxdisplayed": 10
         },
         "mode": "lines+markers",
         "name": "Trial4",
         "type": "scatter",
         "x": [
          0,
          1,
          2,
          3,
          4,
          5,
          6,
          7,
          8,
          9
         ],
         "y": [
          0.09222706779837608,
          0.09216434136033058,
          0.09125997498631477,
          0.09078244119882584,
          0.09138714149594307,
          0.08984874561429024,
          0.08879027888178825,
          0.08871337026357651,
          0.08834255859255791,
          0.08813659474253654
         ]
        },
        {
         "marker": {
          "maxdisplayed": 10
         },
         "mode": "lines+markers",
         "name": "Trial5",
         "type": "scatter",
         "x": [
          0,
          1,
          2,
          3,
          4,
          5,
          6,
          7,
          8,
          9
         ],
         "y": [
          0.09047036990523338,
          0.09160662814974785,
          0.09089791029691696,
          0.09041018784046173,
          0.0900391973555088,
          0.08877888321876526,
          0.08886049315333366,
          0.08714066818356514,
          0.08795005828142166,
          0.08747873082756996
         ]
        },
        {
         "marker": {
          "maxdisplayed": 10
         },
         "mode": "lines+markers",
         "name": "Trial6",
         "type": "scatter",
         "x": [
          0,
          1
         ],
         "y": [
          0.12971511483192444,
          0.09801970422267914
         ]
        },
        {
         "marker": {
          "maxdisplayed": 10
         },
         "mode": "lines+markers",
         "name": "Trial7",
         "type": "scatter",
         "x": [
          0,
          1,
          2,
          3,
          4,
          5,
          6,
          7,
          8,
          9
         ],
         "y": [
          0.09146285057067871,
          0.09158220887184143,
          0.08936277031898499,
          0.0900595672428608,
          0.08797683194279671,
          0.08774282783269882,
          0.08762805536389351,
          0.08699862286448479,
          0.08745048567652702,
          0.08654112741351128
         ]
        },
        {
         "marker": {
          "maxdisplayed": 10
         },
         "mode": "lines+markers",
         "name": "Trial8",
         "type": "scatter",
         "x": [
          0,
          1
         ],
         "y": [
          0.13638007640838623,
          0.10113224387168884
         ]
        },
        {
         "marker": {
          "maxdisplayed": 10
         },
         "mode": "lines+markers",
         "name": "Trial9",
         "type": "scatter",
         "x": [
          0,
          1,
          2,
          3,
          4,
          5,
          6,
          7,
          8,
          9
         ],
         "y": [
          0.09764250740408897,
          0.09371761977672577,
          0.09072136878967285,
          0.09177554398775101,
          0.09029548242688179,
          0.08957313001155853,
          0.08988644182682037,
          0.09019339829683304,
          0.08981428667902946,
          0.08946770802140236
         ]
        },
        {
         "marker": {
          "maxdisplayed": 10
         },
         "mode": "lines+markers",
         "name": "Trial10",
         "type": "scatter",
         "x": [
          0,
          1,
          2,
          3,
          4,
          5,
          6,
          7,
          8,
          9
         ],
         "y": [
          0.1040751151740551,
          0.09628677740693092,
          0.09566140174865723,
          0.09174327552318573,
          0.09056241065263748,
          0.09047089517116547,
          0.09098297357559204,
          0.09009259939193726,
          0.09075284376740456,
          0.08943166211247444
         ]
        },
        {
         "marker": {
          "maxdisplayed": 10
         },
         "mode": "lines+markers",
         "name": "Trial11",
         "type": "scatter",
         "x": [
          0,
          1,
          2,
          3
         ],
         "y": [
          0.09706053882837296,
          0.09036451950669289,
          0.08980953693389893,
          0.09033824503421783
         ]
        },
        {
         "marker": {
          "maxdisplayed": 10
         },
         "mode": "lines+markers",
         "name": "Trial12",
         "type": "scatter",
         "x": [
          0,
          1,
          2,
          3
         ],
         "y": [
          0.09621468931436539,
          0.09213238954544067,
          0.09059173986315727,
          0.09178516641259193
         ]
        },
        {
         "marker": {
          "maxdisplayed": 10
         },
         "mode": "lines+markers",
         "name": "Trial13",
         "type": "scatter",
         "x": [
          0,
          1,
          2,
          3
         ],
         "y": [
          0.13944066315889359,
          0.13551918417215347,
          0.10567629709839821,
          0.09944729134440422
         ]
        },
        {
         "marker": {
          "maxdisplayed": 10
         },
         "mode": "lines+markers",
         "name": "Trial14",
         "type": "scatter",
         "x": [
          0,
          1,
          2,
          3
         ],
         "y": [
          0.09815238788723946,
          0.0916864313185215,
          0.09096157923340797,
          0.09201078489422798
         ]
        },
        {
         "marker": {
          "maxdisplayed": 10
         },
         "mode": "lines+markers",
         "name": "Trial15",
         "type": "scatter",
         "x": [
          0,
          1,
          2,
          3,
          4,
          5,
          6,
          7,
          8,
          9
         ],
         "y": [
          0.08990341797471046,
          0.08921561017632484,
          0.08915557712316513,
          0.0888233594596386,
          0.08836503326892853,
          0.08850349113345146,
          0.08702448010444641,
          0.08610206842422485,
          0.08578615635633469,
          0.08531840518116951
         ]
        },
        {
         "marker": {
          "maxdisplayed": 10
         },
         "mode": "lines+markers",
         "name": "Trial16",
         "type": "scatter",
         "x": [
          0,
          1,
          2,
          3,
          4,
          5,
          6,
          7,
          8,
          9
         ],
         "y": [
          0.13603365421295166,
          0.10383101180195808,
          0.09608662128448486,
          0.09617964550852776,
          0.09424663335084915,
          0.09284273907542229,
          0.09194910898804665,
          0.09075967594981194,
          0.0907842330634594,
          0.08983316272497177
         ]
        },
        {
         "marker": {
          "maxdisplayed": 10
         },
         "mode": "lines+markers",
         "name": "Trial17",
         "type": "scatter",
         "x": [
          0,
          1,
          2,
          3,
          4,
          5,
          6,
          7
         ],
         "y": [
          0.09531494602560997,
          0.09005565196275711,
          0.09017257019877434,
          0.08867519348859787,
          0.08928737044334412,
          0.08905530348420143,
          0.09103897213935852,
          0.08807287365198135
         ]
        },
        {
         "marker": {
          "maxdisplayed": 10
         },
         "mode": "lines+markers",
         "name": "Trial18",
         "type": "scatter",
         "x": [
          0,
          1,
          2,
          3
         ],
         "y": [
          0.09442887082695961,
          0.09048472717404366,
          0.09048673138022423,
          0.08995470777153969
         ]
        },
        {
         "marker": {
          "maxdisplayed": 10
         },
         "mode": "lines+markers",
         "name": "Trial19",
         "type": "scatter",
         "x": [
          0,
          1,
          2,
          3
         ],
         "y": [
          0.10389607772231102,
          0.09670797735452652,
          0.09276912733912468,
          0.09102993831038475
         ]
        },
        {
         "marker": {
          "maxdisplayed": 10
         },
         "mode": "lines+markers",
         "name": "Trial20",
         "type": "scatter",
         "x": [
          0,
          1
         ],
         "y": [
          0.0956975407898426,
          0.09004134684801102
         ]
        },
        {
         "marker": {
          "maxdisplayed": 10
         },
         "mode": "lines+markers",
         "name": "Trial21",
         "type": "scatter",
         "x": [
          0,
          1
         ],
         "y": [
          0.09204783290624619,
          0.0909225158393383
         ]
        },
        {
         "marker": {
          "maxdisplayed": 10
         },
         "mode": "lines+markers",
         "name": "Trial22",
         "type": "scatter",
         "x": [
          0,
          1
         ],
         "y": [
          0.09430861100554466,
          0.09016461297869682
         ]
        },
        {
         "marker": {
          "maxdisplayed": 10
         },
         "mode": "lines+markers",
         "name": "Trial23",
         "type": "scatter",
         "x": [
          0,
          1
         ],
         "y": [
          0.0929509624838829,
          0.09114880114793777
         ]
        },
        {
         "marker": {
          "maxdisplayed": 10
         },
         "mode": "lines+markers",
         "name": "Trial24",
         "type": "scatter",
         "x": [
          0,
          1
         ],
         "y": [
          0.0922815278172493,
          0.09016329795122147
         ]
        },
        {
         "marker": {
          "maxdisplayed": 10
         },
         "mode": "lines+markers",
         "name": "Trial25",
         "type": "scatter",
         "x": [
          0,
          1,
          2,
          3,
          4,
          5,
          6,
          7,
          8,
          9
         ],
         "y": [
          0.09132881835103035,
          0.09079702198505402,
          0.08955564349889755,
          0.08960585296154022,
          0.08948060125112534,
          0.08825709670782089,
          0.08750040456652641,
          0.08668126165866852,
          0.08669809997081757,
          0.08755990862846375
         ]
        },
        {
         "marker": {
          "maxdisplayed": 10
         },
         "mode": "lines+markers",
         "name": "Trial26",
         "type": "scatter",
         "x": [
          0,
          1,
          2,
          3
         ],
         "y": [
          0.09103633463382721,
          0.0898161381483078,
          0.09039284661412239,
          0.09039244055747986
         ]
        },
        {
         "marker": {
          "maxdisplayed": 10
         },
         "mode": "lines+markers",
         "name": "Trial27",
         "type": "scatter",
         "x": [
          0,
          1
         ],
         "y": [
          0.09632938727736473,
          0.09232823550701141
         ]
        },
        {
         "marker": {
          "maxdisplayed": 10
         },
         "mode": "lines+markers",
         "name": "Trial28",
         "type": "scatter",
         "x": [
          0,
          1
         ],
         "y": [
          0.1336785852909088,
          0.0998515635728836
         ]
        },
        {
         "marker": {
          "maxdisplayed": 10
         },
         "mode": "lines+markers",
         "name": "Trial29",
         "type": "scatter",
         "x": [
          0,
          1,
          2,
          3
         ],
         "y": [
          0.09749288484454155,
          0.0909218043088913,
          0.09125997126102448,
          0.09139406308531761
         ]
        },
        {
         "marker": {
          "maxdisplayed": 10
         },
         "mode": "lines+markers",
         "name": "Trial30",
         "type": "scatter",
         "x": [
          0,
          1,
          2,
          3
         ],
         "y": [
          0.09031518921256065,
          0.08956141397356987,
          0.08950486779212952,
          1.7265004515647888
         ]
        },
        {
         "marker": {
          "maxdisplayed": 10
         },
         "mode": "lines+markers",
         "name": "Trial31",
         "type": "scatter",
         "x": [
          0,
          1,
          2,
          3
         ],
         "y": [
          0.0925954207777977,
          0.09009857848286629,
          0.09104137867689133,
          0.08988410234451294
         ]
        },
        {
         "marker": {
          "maxdisplayed": 10
         },
         "mode": "lines+markers",
         "name": "Trial32",
         "type": "scatter",
         "x": [
          0,
          1,
          2,
          3,
          4,
          5,
          6,
          7,
          8,
          9
         ],
         "y": [
          0.09346168860793114,
          0.09328284114599228,
          0.09172719717025757,
          0.09290291368961334,
          0.09193461015820503,
          0.08941099047660828,
          0.09003029018640518,
          0.09071168676018715,
          0.08878907188773155,
          0.0883035808801651
         ]
        },
        {
         "marker": {
          "maxdisplayed": 10
         },
         "mode": "lines+markers",
         "name": "Trial33",
         "type": "scatter",
         "x": [
          0,
          1
         ],
         "y": [
          0.11131555214524269,
          0.09935115277767181
         ]
        },
        {
         "marker": {
          "maxdisplayed": 10
         },
         "mode": "lines+markers",
         "name": "Trial34",
         "type": "scatter",
         "x": [
          0,
          1,
          2,
          3
         ],
         "y": [
          0.09339282661676407,
          0.09170255810022354,
          0.09214155003428459,
          0.0924902968108654
         ]
        },
        {
         "marker": {
          "maxdisplayed": 10
         },
         "mode": "lines+markers",
         "name": "Trial35",
         "type": "scatter",
         "x": [
          0,
          1
         ],
         "y": [
          0.0946129783987999,
          0.09041140601038933
         ]
        },
        {
         "marker": {
          "maxdisplayed": 10
         },
         "mode": "lines+markers",
         "name": "Trial36",
         "type": "scatter",
         "x": [
          0,
          1
         ],
         "y": [
          0.09048494324088097,
          0.09065545722842216
         ]
        },
        {
         "marker": {
          "maxdisplayed": 10
         },
         "mode": "lines+markers",
         "name": "Trial37",
         "type": "scatter",
         "x": [
          0,
          1
         ],
         "y": [
          0.10265962779521942,
          0.09444872662425041
         ]
        },
        {
         "marker": {
          "maxdisplayed": 10
         },
         "mode": "lines+markers",
         "name": "Trial38",
         "type": "scatter",
         "x": [
          0,
          1,
          2,
          3
         ],
         "y": [
          0.09067199751734734,
          0.08885982260107994,
          0.08907733857631683,
          0.0889064110815525
         ]
        },
        {
         "marker": {
          "maxdisplayed": 10
         },
         "mode": "lines+markers",
         "name": "Trial39",
         "type": "scatter",
         "x": [
          0,
          1,
          2,
          3,
          4
         ],
         "y": [
          0.13483614474534988,
          0.1001867726445198,
          0.09648734331130981,
          0.0965491533279419,
          0.09048430621623993
         ]
        },
        {
         "marker": {
          "maxdisplayed": 10
         },
         "mode": "lines+markers",
         "name": "Trial40",
         "type": "scatter",
         "x": [
          0,
          1
         ],
         "y": [
          0.09070497751235962,
          0.09199115633964539
         ]
        },
        {
         "marker": {
          "maxdisplayed": 10
         },
         "mode": "lines+markers",
         "name": "Trial41",
         "type": "scatter",
         "x": [
          0,
          1
         ],
         "y": [
          0.09925844520330429,
          0.09503062814474106
         ]
        },
        {
         "marker": {
          "maxdisplayed": 10
         },
         "mode": "lines+markers",
         "name": "Trial42",
         "type": "scatter",
         "x": [
          0,
          1
         ],
         "y": [
          0.09239257499575615,
          0.09113632515072823
         ]
        },
        {
         "marker": {
          "maxdisplayed": 10
         },
         "mode": "lines+markers",
         "name": "Trial43",
         "type": "scatter",
         "x": [
          0,
          1
         ],
         "y": [
          0.09104867652058601,
          0.09044599160552025
         ]
        },
        {
         "marker": {
          "maxdisplayed": 10
         },
         "mode": "lines+markers",
         "name": "Trial44",
         "type": "scatter",
         "x": [
          0,
          1
         ],
         "y": [
          0.10194787010550499,
          0.09867928549647331
         ]
        },
        {
         "marker": {
          "maxdisplayed": 10
         },
         "mode": "lines+markers",
         "name": "Trial45",
         "type": "scatter",
         "x": [
          0,
          1
         ],
         "y": [
          0.1398005709052086,
          0.1169123575091362
         ]
        },
        {
         "marker": {
          "maxdisplayed": 10
         },
         "mode": "lines+markers",
         "name": "Trial46",
         "type": "scatter",
         "x": [
          0,
          1
         ],
         "y": [
          0.09234225749969482,
          0.09096287935972214
         ]
        },
        {
         "marker": {
          "maxdisplayed": 10
         },
         "mode": "lines+markers",
         "name": "Trial47",
         "type": "scatter",
         "x": [
          0,
          1
         ],
         "y": [
          0.09082367643713951,
          0.09131375700235367
         ]
        },
        {
         "marker": {
          "maxdisplayed": 10
         },
         "mode": "lines+markers",
         "name": "Trial48",
         "type": "scatter",
         "x": [
          0,
          1,
          2,
          3
         ],
         "y": [
          0.09528649970889091,
          0.08992985635995865,
          1.7340277433395386,
          1.7313648462295532
         ]
        },
        {
         "marker": {
          "maxdisplayed": 10
         },
         "mode": "lines+markers",
         "name": "Trial49",
         "type": "scatter",
         "x": [
          0,
          1
         ],
         "y": [
          0.09185564145445824,
          0.09174086153507233
         ]
        },
        {
         "marker": {
          "maxdisplayed": 10
         },
         "mode": "lines+markers",
         "name": "Trial50",
         "type": "scatter",
         "x": [
          0,
          1
         ],
         "y": [
          0.1357547640800476,
          0.10023527964949608
         ]
        },
        {
         "marker": {
          "maxdisplayed": 10
         },
         "mode": "lines+markers",
         "name": "Trial51",
         "type": "scatter",
         "x": [
          0,
          1,
          2,
          3
         ],
         "y": [
          0.09711576998233795,
          0.09646777808666229,
          0.09144347161054611,
          0.0906715877354145
         ]
        },
        {
         "marker": {
          "maxdisplayed": 10
         },
         "mode": "lines+markers",
         "name": "Trial52",
         "type": "scatter",
         "x": [
          0,
          1,
          2,
          3,
          4,
          5,
          6,
          7,
          8,
          9
         ],
         "y": [
          0.09396892040967941,
          0.08834809809923172,
          0.08860956877470016,
          0.08857747539877892,
          0.08928625658154488,
          0.08901334926486015,
          0.08729424700140953,
          0.08642729371786118,
          0.08478942885994911,
          0.08633904531598091
         ]
        },
        {
         "marker": {
          "maxdisplayed": 10
         },
         "mode": "lines+markers",
         "name": "Trial53",
         "type": "scatter",
         "x": [
          0,
          1,
          2,
          3,
          4,
          5,
          6,
          7,
          8,
          9
         ],
         "y": [
          0.09547803178429604,
          0.08918900042772293,
          0.0884610190987587,
          0.08840459957718849,
          0.08857684209942818,
          0.08874401822686195,
          0.0878165028989315,
          0.08758950233459473,
          0.08649111539125443,
          0.08623767644166946
         ]
        },
        {
         "marker": {
          "maxdisplayed": 10
         },
         "mode": "lines+markers",
         "name": "Trial54",
         "type": "scatter",
         "x": [
          0,
          1,
          2,
          3
         ],
         "y": [
          0.0945357084274292,
          0.08866878226399422,
          0.08787781000137329,
          0.0889676921069622
         ]
        },
        {
         "marker": {
          "maxdisplayed": 10
         },
         "mode": "lines+markers",
         "name": "Trial55",
         "type": "scatter",
         "x": [
          0,
          1,
          2,
          3
         ],
         "y": [
          0.09633545950055122,
          0.09550094977021217,
          1.7317243218421936,
          1.734503149986267
         ]
        },
        {
         "marker": {
          "maxdisplayed": 10
         },
         "mode": "lines+markers",
         "name": "Trial56",
         "type": "scatter",
         "x": [
          0,
          1,
          2,
          3,
          4,
          5,
          6,
          7,
          8,
          9
         ],
         "y": [
          0.09616374224424362,
          0.08932345733046532,
          0.09001994132995605,
          0.08831670507788658,
          0.08940956741571426,
          0.09006953239440918,
          0.08899498358368874,
          0.08702844381332397,
          0.08807099983096123,
          0.08793464675545692
         ]
        },
        {
         "marker": {
          "maxdisplayed": 10
         },
         "mode": "lines+markers",
         "name": "Trial57",
         "type": "scatter",
         "x": [
          0,
          1,
          2,
          3,
          4,
          5,
          6,
          7,
          8
         ],
         "y": [
          0.09144745767116547,
          0.09041076898574829,
          0.09205938503146172,
          0.08917909115552902,
          0.08960884809494019,
          0.0888591855764389,
          0.08878172934055328,
          0.08669019490480423,
          0.08561510220170021
         ]
        },
        {
         "marker": {
          "maxdisplayed": 10
         },
         "mode": "lines+markers",
         "name": "Trial58",
         "type": "scatter",
         "x": [
          0,
          1,
          2,
          3
         ],
         "y": [
          0.09473095461726189,
          0.09159722551703453,
          0.09028253331780434,
          0.0911199040710926
         ]
        },
        {
         "marker": {
          "maxdisplayed": 10
         },
         "mode": "lines+markers",
         "name": "Trial59",
         "type": "scatter",
         "x": [
          0,
          1,
          2,
          3,
          4,
          5,
          6,
          7,
          8,
          9
         ],
         "y": [
          0.09654898196458817,
          0.09138558804988861,
          0.08940165117383003,
          0.08970588073134422,
          0.0903041698038578,
          0.09004450961947441,
          0.09013135358691216,
          0.09079310670495033,
          0.09002865105867386,
          0.08936024829745293
         ]
        },
        {
         "marker": {
          "maxdisplayed": 10
         },
         "mode": "lines+markers",
         "name": "Trial60",
         "type": "scatter",
         "x": [
          0,
          1
         ],
         "y": [
          0.09406497329473495,
          0.0908048003911972
         ]
        },
        {
         "marker": {
          "maxdisplayed": 10
         },
         "mode": "lines+markers",
         "name": "Trial61",
         "type": "scatter",
         "x": [
          0,
          1,
          2,
          3,
          4,
          5,
          6,
          7
         ],
         "y": [
          0.09531735628843307,
          0.09162037819623947,
          0.09014791622757912,
          0.08952700346708298,
          0.09053575620055199,
          0.09104585275053978,
          0.08965840563178062,
          0.08966366946697235
         ]
        },
        {
         "marker": {
          "maxdisplayed": 10
         },
         "mode": "lines+markers",
         "name": "Trial62",
         "type": "scatter",
         "x": [
          0,
          1,
          2,
          3
         ],
         "y": [
          0.09444502741098404,
          0.08999942615628242,
          0.08971581608057022,
          0.0900379829108715
         ]
        },
        {
         "marker": {
          "maxdisplayed": 10
         },
         "mode": "lines+markers",
         "name": "Trial63",
         "type": "scatter",
         "x": [
          0,
          1
         ],
         "y": [
          0.09756387397646904,
          0.09166273474693298
         ]
        },
        {
         "marker": {
          "maxdisplayed": 10
         },
         "mode": "lines+markers",
         "name": "Trial64",
         "type": "scatter",
         "x": [
          0,
          1
         ],
         "y": [
          0.09771427512168884,
          0.09220785647630692
         ]
        },
        {
         "marker": {
          "maxdisplayed": 10
         },
         "mode": "lines+markers",
         "name": "Trial65",
         "type": "scatter",
         "x": [
          0,
          1,
          2,
          3,
          4,
          5,
          6,
          7,
          8,
          9
         ],
         "y": [
          0.09378385916352272,
          0.09002305939793587,
          0.08860651031136513,
          0.08823137357831001,
          0.08878154307603836,
          0.0894395038485527,
          0.08952084928750992,
          0.08838566765189171,
          0.0870811752974987,
          0.0867329016327858
         ]
        },
        {
         "marker": {
          "maxdisplayed": 10
         },
         "mode": "lines+markers",
         "name": "Trial66",
         "type": "scatter",
         "x": [
          0,
          1,
          2,
          3,
          4,
          5,
          6,
          7,
          8,
          9
         ],
         "y": [
          0.12157460302114487,
          0.0965198427438736,
          0.09325870499014854,
          0.0899270698428154,
          0.09096598252654076,
          0.09069107100367546,
          0.08866694942116737,
          0.08979016914963722,
          0.08890809863805771,
          0.09006215631961823
         ]
        },
        {
         "marker": {
          "maxdisplayed": 10
         },
         "mode": "lines+markers",
         "name": "Trial67",
         "type": "scatter",
         "x": [
          0,
          1
         ],
         "y": [
          0.09814129024744034,
          0.09316165372729301
         ]
        },
        {
         "marker": {
          "maxdisplayed": 10
         },
         "mode": "lines+markers",
         "name": "Trial68",
         "type": "scatter",
         "x": [
          0,
          1,
          2,
          3,
          4,
          5,
          6,
          7,
          8,
          9
         ],
         "y": [
          0.0968715138733387,
          0.09059301018714905,
          0.09043505787849426,
          0.09009172767400742,
          0.09063754230737686,
          0.08971962705254555,
          0.0881071649491787,
          0.08785279840230942,
          0.08799244835972786,
          0.08717488497495651
         ]
        },
        {
         "marker": {
          "maxdisplayed": 10
         },
         "mode": "lines+markers",
         "name": "Trial69",
         "type": "scatter",
         "x": [
          0,
          1
         ],
         "y": [
          0.10773785784840584,
          0.0976368673145771
         ]
        },
        {
         "marker": {
          "maxdisplayed": 10
         },
         "mode": "lines+markers",
         "name": "Trial70",
         "type": "scatter",
         "x": [
          0,
          1
         ],
         "y": [
          0.09772830083966255,
          0.0948902852833271
         ]
        },
        {
         "marker": {
          "maxdisplayed": 10
         },
         "mode": "lines+markers",
         "name": "Trial71",
         "type": "scatter",
         "x": [
          0,
          1,
          2,
          3,
          4,
          5,
          6,
          7,
          8,
          9
         ],
         "y": [
          0.0892430916428566,
          0.08798468112945557,
          0.08876324445009232,
          0.08892453834414482,
          0.08885448426008224,
          0.0868673026561737,
          0.08579074963927269,
          0.08676490932703018,
          0.08571989461779594,
          0.08734464645385742
         ]
        },
        {
         "marker": {
          "maxdisplayed": 10
         },
         "mode": "lines+markers",
         "name": "Trial72",
         "type": "scatter",
         "x": [
          0,
          1,
          2,
          3,
          4,
          5,
          6,
          7,
          8,
          9
         ],
         "y": [
          0.089344572275877,
          0.08979014679789543,
          0.08903378620743752,
          0.08927939087152481,
          0.08780902624130249,
          0.08876117318868637,
          0.08589199185371399,
          0.08612514659762383,
          0.08509301766753197,
          0.08546255901455879
         ]
        },
        {
         "marker": {
          "maxdisplayed": 10
         },
         "mode": "lines+markers",
         "name": "Trial73",
         "type": "scatter",
         "x": [
          0,
          1,
          2,
          3
         ],
         "y": [
          0.1349736526608467,
          0.13065431267023087,
          0.1032758392393589,
          0.09473356604576111
         ]
        },
        {
         "marker": {
          "maxdisplayed": 10
         },
         "mode": "lines+markers",
         "name": "Trial74",
         "type": "scatter",
         "x": [
          0,
          1,
          2,
          3
         ],
         "y": [
          0.09117530286312103,
          0.08976942673325539,
          1.7338243126869202,
          1.731231689453125
         ]
        },
        {
         "marker": {
          "maxdisplayed": 10
         },
         "mode": "lines+markers",
         "name": "Trial75",
         "type": "scatter",
         "x": [
          0,
          1,
          2,
          3,
          4,
          5,
          6,
          7,
          8,
          9
         ],
         "y": [
          0.09024452418088913,
          0.0907198004424572,
          0.08982984349131584,
          0.09018575772643089,
          0.08926528319716454,
          0.08869390189647675,
          0.08744994550943375,
          0.08655253052711487,
          0.08785771578550339,
          0.0860985703766346
         ]
        },
        {
         "marker": {
          "maxdisplayed": 10
         },
         "mode": "lines+markers",
         "name": "Trial76",
         "type": "scatter",
         "x": [
          0,
          1,
          2,
          3
         ],
         "y": [
          0.09418968483805656,
          0.09050054103136063,
          0.08928257599473,
          0.09122275933623314
         ]
        },
        {
         "marker": {
          "maxdisplayed": 10
         },
         "mode": "lines+markers",
         "name": "Trial77",
         "type": "scatter",
         "x": [
          0,
          1,
          2,
          3
         ],
         "y": [
          0.08942341059446335,
          0.09014386683702469,
          0.08962620794773102,
          0.08986357226967812
         ]
        },
        {
         "marker": {
          "maxdisplayed": 10
         },
         "mode": "lines+markers",
         "name": "Trial78",
         "type": "scatter",
         "x": [
          0,
          1,
          2,
          3
         ],
         "y": [
          0.09417814761400223,
          0.08879965171217918,
          0.08997245505452156,
          0.08984846994280815
         ]
        },
        {
         "marker": {
          "maxdisplayed": 10
         },
         "mode": "lines+markers",
         "name": "Trial79",
         "type": "scatter",
         "x": [
          0,
          1,
          2,
          3,
          4,
          5,
          6,
          7,
          8,
          9
         ],
         "y": [
          0.10632243007421494,
          0.09496993571519852,
          0.09081365168094635,
          0.090140450745821,
          0.09024865180253983,
          0.08988429233431816,
          0.0896589383482933,
          0.09002435579895973,
          0.08912131190299988,
          0.0891132541000843
         ]
        },
        {
         "marker": {
          "maxdisplayed": 10
         },
         "mode": "lines+markers",
         "name": "Trial80",
         "type": "scatter",
         "x": [
          0,
          1,
          2,
          3
         ],
         "y": [
          0.09078223258256912,
          0.08963041007518768,
          0.09022914618253708,
          0.0903349258005619
         ]
        },
        {
         "marker": {
          "maxdisplayed": 10
         },
         "mode": "lines+markers",
         "name": "Trial81",
         "type": "scatter",
         "x": [
          0,
          1,
          2,
          3,
          4,
          5,
          6,
          7,
          8,
          9
         ],
         "y": [
          0.0944233350455761,
          0.09243273735046387,
          0.09002158418297768,
          0.08955474942922592,
          0.0891573317348957,
          0.08992591500282288,
          0.0888785645365715,
          0.08880872651934624,
          0.08792415261268616,
          0.08787928521633148
         ]
        },
        {
         "marker": {
          "maxdisplayed": 10
         },
         "mode": "lines+markers",
         "name": "Trial82",
         "type": "scatter",
         "x": [
          0,
          1,
          2,
          3
         ],
         "y": [
          0.09154875576496124,
          0.08952991291880608,
          0.08960200473666191,
          0.09056013450026512
         ]
        },
        {
         "marker": {
          "maxdisplayed": 10
         },
         "mode": "lines+markers",
         "name": "Trial83",
         "type": "scatter",
         "x": [
          0,
          1,
          2,
          3,
          4,
          5,
          6,
          7,
          8,
          9
         ],
         "y": [
          0.09106257930397987,
          0.08931663259863853,
          0.08972450718283653,
          0.08810669928789139,
          0.08624765276908875,
          0.08615965396165848,
          0.08532511070370674,
          0.08587678894400597,
          0.0851920023560524,
          0.08515023067593575
         ]
        },
        {
         "marker": {
          "maxdisplayed": 10
         },
         "mode": "lines+markers",
         "name": "Trial84",
         "type": "scatter",
         "x": [
          0,
          1
         ],
         "y": [
          0.13697638362646103,
          0.10995366051793098
         ]
        },
        {
         "marker": {
          "maxdisplayed": 10
         },
         "mode": "lines+markers",
         "name": "Trial85",
         "type": "scatter",
         "x": [
          0,
          1
         ],
         "y": [
          0.13478729128837585,
          0.13396432250738144
         ]
        },
        {
         "marker": {
          "maxdisplayed": 10
         },
         "mode": "lines+markers",
         "name": "Trial86",
         "type": "scatter",
         "x": [
          0,
          1
         ],
         "y": [
          0.09052218869328499,
          0.09101453050971031
         ]
        },
        {
         "marker": {
          "maxdisplayed": 10
         },
         "mode": "lines+markers",
         "name": "Trial87",
         "type": "scatter",
         "x": [
          0,
          1,
          2,
          3,
          4,
          5,
          6,
          7,
          8,
          9
         ],
         "y": [
          0.13500554114580154,
          0.13653303682804108,
          0.10832038894295692,
          0.09750405699014664,
          0.09461518377065659,
          0.09664959460496902,
          0.09671808034181595,
          0.09724120423197746,
          0.09576918184757233,
          0.09435145184397697
         ]
        },
        {
         "marker": {
          "maxdisplayed": 10
         },
         "mode": "lines+markers",
         "name": "Trial88",
         "type": "scatter",
         "x": [
          0,
          1,
          2,
          3,
          4,
          5,
          6,
          7,
          8,
          9
         ],
         "y": [
          0.09116025641560555,
          0.08980369567871094,
          0.08909028023481369,
          0.08947478234767914,
          0.08910416811704636,
          0.08634618669748306,
          0.08705569058656693,
          0.08699829503893852,
          0.08585267141461372,
          0.08706054836511612
         ]
        },
        {
         "marker": {
          "maxdisplayed": 10
         },
         "mode": "lines+markers",
         "name": "Trial89",
         "type": "scatter",
         "x": [
          0,
          1,
          2,
          3
         ],
         "y": [
          0.08956584706902504,
          0.0900852419435978,
          0.09049581736326218,
          0.08936256170272827
         ]
        },
        {
         "marker": {
          "maxdisplayed": 10
         },
         "mode": "lines+markers",
         "name": "Trial90",
         "type": "scatter",
         "x": [
          0,
          1,
          2,
          3,
          4,
          5,
          6,
          7,
          8,
          9
         ],
         "y": [
          0.0953454039990902,
          0.09477102383971214,
          0.0925985537469387,
          0.09028516709804535,
          0.08960025385022163,
          0.08941840752959251,
          0.08914000913500786,
          0.0890013799071312,
          0.08984706923365593,
          0.088808573782444
         ]
        },
        {
         "marker": {
          "maxdisplayed": 10
         },
         "mode": "lines+markers",
         "name": "Trial91",
         "type": "scatter",
         "x": [
          0,
          1,
          2,
          3,
          4,
          5,
          6,
          7,
          8,
          9
         ],
         "y": [
          0.10100516304373741,
          0.09546127915382385,
          0.09134411066770554,
          0.0907953530550003,
          0.08896663784980774,
          0.08987150713801384,
          0.09083447605371475,
          0.08947407454252243,
          0.08976829797029495,
          0.08971463888883591
         ]
        },
        {
         "marker": {
          "maxdisplayed": 10
         },
         "mode": "lines+markers",
         "name": "Trial92",
         "type": "scatter",
         "x": [
          0,
          1,
          2,
          3,
          4,
          5,
          6,
          7,
          8,
          9
         ],
         "y": [
          0.0908183827996254,
          0.09013941884040833,
          0.08983603492379189,
          0.08975030481815338,
          0.08857538178563118,
          0.0860574021935463,
          0.08729808777570724,
          0.08723984658718109,
          0.08521119505167007,
          0.08640026301145554
         ]
        },
        {
         "marker": {
          "maxdisplayed": 10
         },
         "mode": "lines+markers",
         "name": "Trial93",
         "type": "scatter",
         "x": [
          0,
          1,
          2,
          3,
          4,
          5,
          6,
          7,
          8,
          9
         ],
         "y": [
          0.08900732919573784,
          0.09081967175006866,
          0.08987703919410706,
          0.08918755874037743,
          0.08891421929001808,
          0.08920704945921898,
          0.08903540298342705,
          0.08910197019577026,
          0.08746200054883957,
          0.08646779879927635
         ]
        },
        {
         "marker": {
          "maxdisplayed": 10
         },
         "mode": "lines+markers",
         "name": "Trial94",
         "type": "scatter",
         "x": [
          0,
          1
         ],
         "y": [
          0.08988775312900543,
          0.09033390879631042
         ]
        },
        {
         "marker": {
          "maxdisplayed": 10
         },
         "mode": "lines+markers",
         "name": "Trial95",
         "type": "scatter",
         "x": [
          0,
          1,
          2,
          3
         ],
         "y": [
          0.09208474680781364,
          0.09090094640851021,
          0.08990843594074249,
          0.09010950103402138
         ]
        },
        {
         "marker": {
          "maxdisplayed": 10
         },
         "mode": "lines+markers",
         "name": "Trial96",
         "type": "scatter",
         "x": [
          0,
          1,
          2,
          3
         ],
         "y": [
          0.0893106609582901,
          0.09130486473441124,
          0.09016115963459015,
          0.09069094061851501
         ]
        },
        {
         "marker": {
          "maxdisplayed": 10
         },
         "mode": "lines+markers",
         "name": "Trial97",
         "type": "scatter",
         "x": [
          0,
          1
         ],
         "y": [
          0.09103132411837578,
          0.09029676765203476
         ]
        },
        {
         "marker": {
          "maxdisplayed": 10
         },
         "mode": "lines+markers",
         "name": "Trial98",
         "type": "scatter",
         "x": [
          0,
          1
         ],
         "y": [
          0.09224489331245422,
          0.09028739109635353
         ]
        },
        {
         "marker": {
          "maxdisplayed": 10
         },
         "mode": "lines+markers",
         "name": "Trial99",
         "type": "scatter",
         "x": [
          0,
          1,
          2,
          3,
          4,
          5,
          6,
          7,
          8,
          9
         ],
         "y": [
          0.0919167622923851,
          0.08979284763336182,
          0.0907008908689022,
          0.09107690304517746,
          0.08945530280470848,
          0.08798554539680481,
          0.08698893338441849,
          0.08720884472131729,
          0.08682696893811226,
          0.08630500733852386
         ]
        },
        {
         "marker": {
          "maxdisplayed": 10
         },
         "mode": "lines+markers",
         "name": "Trial100",
         "type": "scatter",
         "x": [
          0,
          1,
          2,
          3
         ],
         "y": [
          0.09076032042503357,
          0.09052176028490067,
          0.09041061252355576,
          0.09184043481945992
         ]
        },
        {
         "marker": {
          "maxdisplayed": 10
         },
         "mode": "lines+markers",
         "name": "Trial101",
         "type": "scatter",
         "x": [
          0,
          1,
          2,
          3,
          4,
          5,
          6,
          7,
          8,
          9
         ],
         "y": [
          0.08903039991855621,
          0.08832690492272377,
          0.0894404798746109,
          0.08811696991324425,
          0.087005116045475,
          0.08636188134551048,
          0.08604910224676132,
          0.08592304214835167,
          0.08566375076770782,
          0.08688753843307495
         ]
        },
        {
         "marker": {
          "maxdisplayed": 10
         },
         "mode": "lines+markers",
         "name": "Trial102",
         "type": "scatter",
         "x": [
          0,
          1,
          2,
          3,
          4,
          5,
          6,
          7,
          8,
          9
         ],
         "y": [
          0.08787407353520393,
          0.0894635058939457,
          0.08916924521327019,
          0.08874627947807312,
          0.08629082515835762,
          0.08555670082569122,
          0.0858892910182476,
          0.0874691978096962,
          0.08479797840118408,
          0.08439536392688751
         ]
        },
        {
         "marker": {
          "maxdisplayed": 10
         },
         "mode": "lines+markers",
         "name": "Trial103",
         "type": "scatter",
         "x": [
          0,
          1,
          2,
          3
         ],
         "y": [
          0.08885178714990616,
          0.08976422250270844,
          0.08725122734904289,
          0.08902277052402496
         ]
        },
        {
         "marker": {
          "maxdisplayed": 10
         },
         "mode": "lines+markers",
         "name": "Trial104",
         "type": "scatter",
         "x": [
          0,
          1,
          2,
          3,
          4,
          5,
          6,
          7,
          8,
          9
         ],
         "y": [
          0.0914669968187809,
          0.09208100661635399,
          0.09157022461295128,
          0.09170550853013992,
          0.09011128917336464,
          0.08852165564894676,
          0.08902305364608765,
          0.08812334388494492,
          0.08724530786275864,
          0.08800642937421799
         ]
        },
        {
         "marker": {
          "maxdisplayed": 10
         },
         "mode": "lines+markers",
         "name": "Trial105",
         "type": "scatter",
         "x": [
          0,
          1
         ],
         "y": [
          0.09230967611074448,
          0.09204254299402237
         ]
        },
        {
         "marker": {
          "maxdisplayed": 10
         },
         "mode": "lines+markers",
         "name": "Trial106",
         "type": "scatter",
         "x": [
          0,
          1
         ],
         "y": [
          0.0918901115655899,
          0.09218846634030342
         ]
        },
        {
         "marker": {
          "maxdisplayed": 10
         },
         "mode": "lines+markers",
         "name": "Trial107",
         "type": "scatter",
         "x": [
          0,
          1,
          2,
          3,
          4,
          5,
          6,
          7,
          8
         ],
         "y": [
          0.09138621762394905,
          0.09147413447499275,
          0.09201646968722343,
          0.09027274698019028,
          0.08882742375135422,
          0.08804803714156151,
          0.08674486726522446,
          0.08836130797863007,
          0.08590221032500267
         ]
        },
        {
         "marker": {
          "maxdisplayed": 10
         },
         "mode": "lines+markers",
         "name": "Trial108",
         "type": "scatter",
         "x": [
          0,
          1,
          2,
          3,
          4,
          5,
          6,
          7,
          8,
          9
         ],
         "y": [
          0.08953873068094254,
          0.08998121321201324,
          0.0875558853149414,
          0.09003068134188652,
          0.08853877708315849,
          0.08867788687348366,
          0.08773643150925636,
          0.08628024160861969,
          0.08473873138427734,
          0.08509083092212677
         ]
        },
        {
         "marker": {
          "maxdisplayed": 10
         },
         "mode": "lines+markers",
         "name": "Trial109",
         "type": "scatter",
         "x": [
          0,
          1,
          2,
          3,
          4,
          5,
          6,
          7,
          8,
          9
         ],
         "y": [
          0.09016460925340652,
          0.08867859467864037,
          0.08782438561320305,
          0.08798318356275558,
          0.08992975950241089,
          0.08724329620599747,
          0.08621115982532501,
          0.08557597920298576,
          0.08600053191184998,
          0.08419972285628319
         ]
        },
        {
         "marker": {
          "maxdisplayed": 10
         },
         "mode": "lines+markers",
         "name": "Trial110",
         "type": "scatter",
         "x": [
          0,
          1,
          2,
          3
         ],
         "y": [
          0.08987300097942352,
          0.08914743736386299,
          0.08898406475782394,
          0.08892980590462685
         ]
        },
        {
         "marker": {
          "maxdisplayed": 10
         },
         "mode": "lines+markers",
         "name": "Trial111",
         "type": "scatter",
         "x": [
          0,
          1,
          2,
          3
         ],
         "y": [
          0.09209828078746796,
          0.09026393666863441,
          0.08930858224630356,
          0.09182224795222282
         ]
        },
        {
         "marker": {
          "maxdisplayed": 10
         },
         "mode": "lines+markers",
         "name": "Trial112",
         "type": "scatter",
         "x": [
          0,
          1
         ],
         "y": [
          0.09010493755340576,
          0.090243611484766
         ]
        },
        {
         "marker": {
          "maxdisplayed": 10
         },
         "mode": "lines+markers",
         "name": "Trial113",
         "type": "scatter",
         "x": [
          0,
          1
         ],
         "y": [
          0.09054849296808243,
          0.09076738730072975
         ]
        },
        {
         "marker": {
          "maxdisplayed": 10
         },
         "mode": "lines+markers",
         "name": "Trial115",
         "type": "scatter",
         "x": [
          0,
          1
         ],
         "y": [
          0.09147334843873978,
          0.09132208302617073
         ]
        },
        {
         "marker": {
          "maxdisplayed": 10
         },
         "mode": "lines+markers",
         "name": "Trial117",
         "type": "scatter",
         "x": [
          0,
          1
         ],
         "y": [
          0.09256314113736153,
          0.09054180234670639
         ]
        },
        {
         "marker": {
          "maxdisplayed": 10
         },
         "mode": "lines+markers",
         "name": "Trial118",
         "type": "scatter",
         "x": [
          0,
          1,
          2,
          3
         ],
         "y": [
          0.09157423302531242,
          0.09124476090073586,
          0.09012473374605179,
          0.09063336253166199
         ]
        },
        {
         "marker": {
          "maxdisplayed": 10
         },
         "mode": "lines+markers",
         "name": "Trial119",
         "type": "scatter",
         "x": [
          0,
          1
         ],
         "y": [
          0.09037730097770691,
          0.09035788103938103
         ]
        },
        {
         "marker": {
          "maxdisplayed": 10
         },
         "mode": "lines+markers",
         "name": "Trial120",
         "type": "scatter",
         "x": [
          0,
          1,
          2,
          3,
          4,
          5,
          6,
          7,
          8,
          9
         ],
         "y": [
          0.0902971588075161,
          0.08966688811779022,
          0.08861241117119789,
          0.08741949498653412,
          0.08627957105636597,
          0.08634889498353004,
          0.08531715348362923,
          0.08691169694066048,
          0.08523863926529884,
          0.08466259017586708
         ]
        },
        {
         "marker": {
          "maxdisplayed": 10
         },
         "mode": "lines+markers",
         "name": "Trial121",
         "type": "scatter",
         "x": [
          0,
          1,
          2,
          3,
          4,
          5,
          6,
          7,
          8,
          9
         ],
         "y": [
          0.08854687213897705,
          0.08932413905858994,
          0.08985358104109764,
          0.08982864767313004,
          0.08943459764122963,
          0.08949683979153633,
          0.08964646980166435,
          0.08855650946497917,
          0.08961423859000206,
          0.0894821360707283
         ]
        },
        {
         "marker": {
          "maxdisplayed": 10
         },
         "mode": "lines+markers",
         "name": "Trial122",
         "type": "scatter",
         "x": [
          0,
          1,
          2,
          3,
          4,
          5,
          6,
          7,
          8,
          9
         ],
         "y": [
          0.08935782313346863,
          0.09130433201789856,
          0.0892542228102684,
          0.09001399204134941,
          0.08898704126477242,
          0.0865180529654026,
          0.08643917739391327,
          0.0861208438873291,
          0.08455343544483185,
          0.08756056800484657
         ]
        },
        {
         "marker": {
          "maxdisplayed": 10
         },
         "mode": "lines+markers",
         "name": "Trial123",
         "type": "scatter",
         "x": [
          0,
          1,
          2,
          3,
          4,
          5,
          6,
          7,
          8,
          9
         ],
         "y": [
          0.09132635593414307,
          0.09089942649006844,
          0.09161761030554771,
          0.09021073207259178,
          0.08749917522072792,
          0.08812291547656059,
          0.08648157492280006,
          0.08684435859322548,
          0.0861496701836586,
          0.0860077552497387
         ]
        },
        {
         "marker": {
          "maxdisplayed": 10
         },
         "mode": "lines+markers",
         "name": "Trial124",
         "type": "scatter",
         "x": [
          0,
          1,
          2,
          3
         ],
         "y": [
          0.09209054335951805,
          0.09079631417989731,
          0.09063465148210526,
          0.09095976501703262
         ]
        },
        {
         "marker": {
          "maxdisplayed": 10
         },
         "mode": "lines+markers",
         "name": "Trial125",
         "type": "scatter",
         "x": [
          0,
          1,
          2,
          3
         ],
         "y": [
          0.09200892969965935,
          0.09005981683731079,
          0.09016940370202065,
          0.08871453627943993
         ]
        },
        {
         "marker": {
          "maxdisplayed": 10
         },
         "mode": "lines+markers",
         "name": "Trial126",
         "type": "scatter",
         "x": [
          0,
          1,
          2,
          3
         ],
         "y": [
          0.08994170650839806,
          0.09060539305210114,
          0.09129394963383675,
          0.0914001539349556
         ]
        },
        {
         "marker": {
          "maxdisplayed": 10
         },
         "mode": "lines+markers",
         "name": "Trial127",
         "type": "scatter",
         "x": [
          0,
          1,
          2,
          3,
          4,
          5,
          6,
          7,
          8,
          9
         ],
         "y": [
          0.09115040302276611,
          0.09029348194599152,
          0.09044349938631058,
          0.09112510085105896,
          0.08807731792330742,
          0.08817839995026588,
          0.08764395490288734,
          0.0854380615055561,
          0.0859653428196907,
          0.08516775071620941
         ]
        },
        {
         "marker": {
          "maxdisplayed": 10
         },
         "mode": "lines+markers",
         "name": "Trial128",
         "type": "scatter",
         "x": [
          0,
          1,
          2,
          3,
          4,
          5,
          6,
          7,
          8,
          9
         ],
         "y": [
          0.09266875311732292,
          0.09084727987647057,
          0.08969467505812645,
          0.089811310172081,
          0.08753174915909767,
          0.08731508627533913,
          0.08730172738432884,
          0.08626045659184456,
          0.08632883429527283,
          0.08694332465529442
         ]
        }
       ],
       "layout": {
        "showlegend": false,
        "template": {
         "data": {
          "bar": [
           {
            "error_x": {
             "color": "#2a3f5f"
            },
            "error_y": {
             "color": "#2a3f5f"
            },
            "marker": {
             "line": {
              "color": "#E5ECF6",
              "width": 0.5
             },
             "pattern": {
              "fillmode": "overlay",
              "size": 10,
              "solidity": 0.2
             }
            },
            "type": "bar"
           }
          ],
          "barpolar": [
           {
            "marker": {
             "line": {
              "color": "#E5ECF6",
              "width": 0.5
             },
             "pattern": {
              "fillmode": "overlay",
              "size": 10,
              "solidity": 0.2
             }
            },
            "type": "barpolar"
           }
          ],
          "carpet": [
           {
            "aaxis": {
             "endlinecolor": "#2a3f5f",
             "gridcolor": "white",
             "linecolor": "white",
             "minorgridcolor": "white",
             "startlinecolor": "#2a3f5f"
            },
            "baxis": {
             "endlinecolor": "#2a3f5f",
             "gridcolor": "white",
             "linecolor": "white",
             "minorgridcolor": "white",
             "startlinecolor": "#2a3f5f"
            },
            "type": "carpet"
           }
          ],
          "choropleth": [
           {
            "colorbar": {
             "outlinewidth": 0,
             "ticks": ""
            },
            "type": "choropleth"
           }
          ],
          "contour": [
           {
            "colorbar": {
             "outlinewidth": 0,
             "ticks": ""
            },
            "colorscale": [
             [
              0,
              "#0d0887"
             ],
             [
              0.1111111111111111,
              "#46039f"
             ],
             [
              0.2222222222222222,
              "#7201a8"
             ],
             [
              0.3333333333333333,
              "#9c179e"
             ],
             [
              0.4444444444444444,
              "#bd3786"
             ],
             [
              0.5555555555555556,
              "#d8576b"
             ],
             [
              0.6666666666666666,
              "#ed7953"
             ],
             [
              0.7777777777777778,
              "#fb9f3a"
             ],
             [
              0.8888888888888888,
              "#fdca26"
             ],
             [
              1,
              "#f0f921"
             ]
            ],
            "type": "contour"
           }
          ],
          "contourcarpet": [
           {
            "colorbar": {
             "outlinewidth": 0,
             "ticks": ""
            },
            "type": "contourcarpet"
           }
          ],
          "heatmap": [
           {
            "colorbar": {
             "outlinewidth": 0,
             "ticks": ""
            },
            "colorscale": [
             [
              0,
              "#0d0887"
             ],
             [
              0.1111111111111111,
              "#46039f"
             ],
             [
              0.2222222222222222,
              "#7201a8"
             ],
             [
              0.3333333333333333,
              "#9c179e"
             ],
             [
              0.4444444444444444,
              "#bd3786"
             ],
             [
              0.5555555555555556,
              "#d8576b"
             ],
             [
              0.6666666666666666,
              "#ed7953"
             ],
             [
              0.7777777777777778,
              "#fb9f3a"
             ],
             [
              0.8888888888888888,
              "#fdca26"
             ],
             [
              1,
              "#f0f921"
             ]
            ],
            "type": "heatmap"
           }
          ],
          "heatmapgl": [
           {
            "colorbar": {
             "outlinewidth": 0,
             "ticks": ""
            },
            "colorscale": [
             [
              0,
              "#0d0887"
             ],
             [
              0.1111111111111111,
              "#46039f"
             ],
             [
              0.2222222222222222,
              "#7201a8"
             ],
             [
              0.3333333333333333,
              "#9c179e"
             ],
             [
              0.4444444444444444,
              "#bd3786"
             ],
             [
              0.5555555555555556,
              "#d8576b"
             ],
             [
              0.6666666666666666,
              "#ed7953"
             ],
             [
              0.7777777777777778,
              "#fb9f3a"
             ],
             [
              0.8888888888888888,
              "#fdca26"
             ],
             [
              1,
              "#f0f921"
             ]
            ],
            "type": "heatmapgl"
           }
          ],
          "histogram": [
           {
            "marker": {
             "pattern": {
              "fillmode": "overlay",
              "size": 10,
              "solidity": 0.2
             }
            },
            "type": "histogram"
           }
          ],
          "histogram2d": [
           {
            "colorbar": {
             "outlinewidth": 0,
             "ticks": ""
            },
            "colorscale": [
             [
              0,
              "#0d0887"
             ],
             [
              0.1111111111111111,
              "#46039f"
             ],
             [
              0.2222222222222222,
              "#7201a8"
             ],
             [
              0.3333333333333333,
              "#9c179e"
             ],
             [
              0.4444444444444444,
              "#bd3786"
             ],
             [
              0.5555555555555556,
              "#d8576b"
             ],
             [
              0.6666666666666666,
              "#ed7953"
             ],
             [
              0.7777777777777778,
              "#fb9f3a"
             ],
             [
              0.8888888888888888,
              "#fdca26"
             ],
             [
              1,
              "#f0f921"
             ]
            ],
            "type": "histogram2d"
           }
          ],
          "histogram2dcontour": [
           {
            "colorbar": {
             "outlinewidth": 0,
             "ticks": ""
            },
            "colorscale": [
             [
              0,
              "#0d0887"
             ],
             [
              0.1111111111111111,
              "#46039f"
             ],
             [
              0.2222222222222222,
              "#7201a8"
             ],
             [
              0.3333333333333333,
              "#9c179e"
             ],
             [
              0.4444444444444444,
              "#bd3786"
             ],
             [
              0.5555555555555556,
              "#d8576b"
             ],
             [
              0.6666666666666666,
              "#ed7953"
             ],
             [
              0.7777777777777778,
              "#fb9f3a"
             ],
             [
              0.8888888888888888,
              "#fdca26"
             ],
             [
              1,
              "#f0f921"
             ]
            ],
            "type": "histogram2dcontour"
           }
          ],
          "mesh3d": [
           {
            "colorbar": {
             "outlinewidth": 0,
             "ticks": ""
            },
            "type": "mesh3d"
           }
          ],
          "parcoords": [
           {
            "line": {
             "colorbar": {
              "outlinewidth": 0,
              "ticks": ""
             }
            },
            "type": "parcoords"
           }
          ],
          "pie": [
           {
            "automargin": true,
            "type": "pie"
           }
          ],
          "scatter": [
           {
            "fillpattern": {
             "fillmode": "overlay",
             "size": 10,
             "solidity": 0.2
            },
            "type": "scatter"
           }
          ],
          "scatter3d": [
           {
            "line": {
             "colorbar": {
              "outlinewidth": 0,
              "ticks": ""
             }
            },
            "marker": {
             "colorbar": {
              "outlinewidth": 0,
              "ticks": ""
             }
            },
            "type": "scatter3d"
           }
          ],
          "scattercarpet": [
           {
            "marker": {
             "colorbar": {
              "outlinewidth": 0,
              "ticks": ""
             }
            },
            "type": "scattercarpet"
           }
          ],
          "scattergeo": [
           {
            "marker": {
             "colorbar": {
              "outlinewidth": 0,
              "ticks": ""
             }
            },
            "type": "scattergeo"
           }
          ],
          "scattergl": [
           {
            "marker": {
             "colorbar": {
              "outlinewidth": 0,
              "ticks": ""
             }
            },
            "type": "scattergl"
           }
          ],
          "scattermapbox": [
           {
            "marker": {
             "colorbar": {
              "outlinewidth": 0,
              "ticks": ""
             }
            },
            "type": "scattermapbox"
           }
          ],
          "scatterpolar": [
           {
            "marker": {
             "colorbar": {
              "outlinewidth": 0,
              "ticks": ""
             }
            },
            "type": "scatterpolar"
           }
          ],
          "scatterpolargl": [
           {
            "marker": {
             "colorbar": {
              "outlinewidth": 0,
              "ticks": ""
             }
            },
            "type": "scatterpolargl"
           }
          ],
          "scatterternary": [
           {
            "marker": {
             "colorbar": {
              "outlinewidth": 0,
              "ticks": ""
             }
            },
            "type": "scatterternary"
           }
          ],
          "surface": [
           {
            "colorbar": {
             "outlinewidth": 0,
             "ticks": ""
            },
            "colorscale": [
             [
              0,
              "#0d0887"
             ],
             [
              0.1111111111111111,
              "#46039f"
             ],
             [
              0.2222222222222222,
              "#7201a8"
             ],
             [
              0.3333333333333333,
              "#9c179e"
             ],
             [
              0.4444444444444444,
              "#bd3786"
             ],
             [
              0.5555555555555556,
              "#d8576b"
             ],
             [
              0.6666666666666666,
              "#ed7953"
             ],
             [
              0.7777777777777778,
              "#fb9f3a"
             ],
             [
              0.8888888888888888,
              "#fdca26"
             ],
             [
              1,
              "#f0f921"
             ]
            ],
            "type": "surface"
           }
          ],
          "table": [
           {
            "cells": {
             "fill": {
              "color": "#EBF0F8"
             },
             "line": {
              "color": "white"
             }
            },
            "header": {
             "fill": {
              "color": "#C8D4E3"
             },
             "line": {
              "color": "white"
             }
            },
            "type": "table"
           }
          ]
         },
         "layout": {
          "annotationdefaults": {
           "arrowcolor": "#2a3f5f",
           "arrowhead": 0,
           "arrowwidth": 1
          },
          "autotypenumbers": "strict",
          "coloraxis": {
           "colorbar": {
            "outlinewidth": 0,
            "ticks": ""
           }
          },
          "colorscale": {
           "diverging": [
            [
             0,
             "#8e0152"
            ],
            [
             0.1,
             "#c51b7d"
            ],
            [
             0.2,
             "#de77ae"
            ],
            [
             0.3,
             "#f1b6da"
            ],
            [
             0.4,
             "#fde0ef"
            ],
            [
             0.5,
             "#f7f7f7"
            ],
            [
             0.6,
             "#e6f5d0"
            ],
            [
             0.7,
             "#b8e186"
            ],
            [
             0.8,
             "#7fbc41"
            ],
            [
             0.9,
             "#4d9221"
            ],
            [
             1,
             "#276419"
            ]
           ],
           "sequential": [
            [
             0,
             "#0d0887"
            ],
            [
             0.1111111111111111,
             "#46039f"
            ],
            [
             0.2222222222222222,
             "#7201a8"
            ],
            [
             0.3333333333333333,
             "#9c179e"
            ],
            [
             0.4444444444444444,
             "#bd3786"
            ],
            [
             0.5555555555555556,
             "#d8576b"
            ],
            [
             0.6666666666666666,
             "#ed7953"
            ],
            [
             0.7777777777777778,
             "#fb9f3a"
            ],
            [
             0.8888888888888888,
             "#fdca26"
            ],
            [
             1,
             "#f0f921"
            ]
           ],
           "sequentialminus": [
            [
             0,
             "#0d0887"
            ],
            [
             0.1111111111111111,
             "#46039f"
            ],
            [
             0.2222222222222222,
             "#7201a8"
            ],
            [
             0.3333333333333333,
             "#9c179e"
            ],
            [
             0.4444444444444444,
             "#bd3786"
            ],
            [
             0.5555555555555556,
             "#d8576b"
            ],
            [
             0.6666666666666666,
             "#ed7953"
            ],
            [
             0.7777777777777778,
             "#fb9f3a"
            ],
            [
             0.8888888888888888,
             "#fdca26"
            ],
            [
             1,
             "#f0f921"
            ]
           ]
          },
          "colorway": [
           "#636efa",
           "#EF553B",
           "#00cc96",
           "#ab63fa",
           "#FFA15A",
           "#19d3f3",
           "#FF6692",
           "#B6E880",
           "#FF97FF",
           "#FECB52"
          ],
          "font": {
           "color": "#2a3f5f"
          },
          "geo": {
           "bgcolor": "white",
           "lakecolor": "white",
           "landcolor": "#E5ECF6",
           "showlakes": true,
           "showland": true,
           "subunitcolor": "white"
          },
          "hoverlabel": {
           "align": "left"
          },
          "hovermode": "closest",
          "mapbox": {
           "style": "light"
          },
          "paper_bgcolor": "white",
          "plot_bgcolor": "#E5ECF6",
          "polar": {
           "angularaxis": {
            "gridcolor": "white",
            "linecolor": "white",
            "ticks": ""
           },
           "bgcolor": "#E5ECF6",
           "radialaxis": {
            "gridcolor": "white",
            "linecolor": "white",
            "ticks": ""
           }
          },
          "scene": {
           "xaxis": {
            "backgroundcolor": "#E5ECF6",
            "gridcolor": "white",
            "gridwidth": 2,
            "linecolor": "white",
            "showbackground": true,
            "ticks": "",
            "zerolinecolor": "white"
           },
           "yaxis": {
            "backgroundcolor": "#E5ECF6",
            "gridcolor": "white",
            "gridwidth": 2,
            "linecolor": "white",
            "showbackground": true,
            "ticks": "",
            "zerolinecolor": "white"
           },
           "zaxis": {
            "backgroundcolor": "#E5ECF6",
            "gridcolor": "white",
            "gridwidth": 2,
            "linecolor": "white",
            "showbackground": true,
            "ticks": "",
            "zerolinecolor": "white"
           }
          },
          "shapedefaults": {
           "line": {
            "color": "#2a3f5f"
           }
          },
          "ternary": {
           "aaxis": {
            "gridcolor": "white",
            "linecolor": "white",
            "ticks": ""
           },
           "baxis": {
            "gridcolor": "white",
            "linecolor": "white",
            "ticks": ""
           },
           "bgcolor": "#E5ECF6",
           "caxis": {
            "gridcolor": "white",
            "linecolor": "white",
            "ticks": ""
           }
          },
          "title": {
           "x": 0.05
          },
          "xaxis": {
           "automargin": true,
           "gridcolor": "white",
           "linecolor": "white",
           "ticks": "",
           "title": {
            "standoff": 15
           },
           "zerolinecolor": "white",
           "zerolinewidth": 2
          },
          "yaxis": {
           "automargin": true,
           "gridcolor": "white",
           "linecolor": "white",
           "ticks": "",
           "title": {
            "standoff": 15
           },
           "zerolinecolor": "white",
           "zerolinewidth": 2
          }
         }
        },
        "title": {
         "text": "Intermediate Values Plot"
        },
        "xaxis": {
         "title": {
          "text": "Step"
         }
        },
        "yaxis": {
         "title": {
          "text": "Intermediate Value"
         }
        }
       }
      }
     },
     "metadata": {},
     "output_type": "display_data"
    },
    {
     "data": {
      "application/vnd.plotly.v1+json": {
       "config": {
        "plotlyServerURL": "https://plot.ly"
       },
       "data": [
        {
         "mode": "markers",
         "name": "Objective Value",
         "type": "scatter",
         "x": [
          3,
          4,
          5,
          7,
          15,
          25,
          32,
          52,
          53,
          59,
          65,
          72,
          75,
          83,
          88,
          92,
          93,
          99,
          101,
          102,
          104,
          108,
          109,
          120,
          122,
          123,
          127,
          128
         ],
         "y": [
          1.7314146757125854,
          0.08727431297302246,
          0.0884883925318718,
          0.08635769039392471,
          0.08522934094071388,
          0.08731328323483467,
          0.08847204595804214,
          0.0857175812125206,
          0.08674916997551918,
          0.08790784701704979,
          0.0866650827229023,
          0.08490461483597755,
          0.08617560565471649,
          0.0854639895260334,
          0.08721736446022987,
          0.08533492684364319,
          0.08585657551884651,
          0.0865832269191742,
          0.08525490388274193,
          0.08423054218292236,
          0.08759941533207893,
          0.08400183543562889,
          0.08666981011629105,
          0.08497705683112144,
          0.0867505893111229,
          0.08595944568514824,
          0.08547063544392586,
          0.08589189499616623
         ]
        },
        {
         "name": "Best Value",
         "type": "scatter",
         "x": [
          3,
          4,
          5,
          7,
          15,
          25,
          32,
          52,
          53,
          59,
          65,
          72,
          75,
          83,
          88,
          92,
          93,
          99,
          101,
          102,
          104,
          108,
          109,
          120,
          122,
          123,
          127,
          128
         ],
         "y": [
          1.7314146757125854,
          0.08727431297302246,
          0.08727431297302246,
          0.08635769039392471,
          0.08522934094071388,
          0.08522934094071388,
          0.08522934094071388,
          0.08522934094071388,
          0.08522934094071388,
          0.08522934094071388,
          0.08522934094071388,
          0.08490461483597755,
          0.08490461483597755,
          0.08490461483597755,
          0.08490461483597755,
          0.08490461483597755,
          0.08490461483597755,
          0.08490461483597755,
          0.08490461483597755,
          0.08423054218292236,
          0.08423054218292236,
          0.08400183543562889,
          0.08400183543562889,
          0.08400183543562889,
          0.08400183543562889,
          0.08400183543562889,
          0.08400183543562889,
          0.08400183543562889
         ]
        }
       ],
       "layout": {
        "template": {
         "data": {
          "bar": [
           {
            "error_x": {
             "color": "#2a3f5f"
            },
            "error_y": {
             "color": "#2a3f5f"
            },
            "marker": {
             "line": {
              "color": "#E5ECF6",
              "width": 0.5
             },
             "pattern": {
              "fillmode": "overlay",
              "size": 10,
              "solidity": 0.2
             }
            },
            "type": "bar"
           }
          ],
          "barpolar": [
           {
            "marker": {
             "line": {
              "color": "#E5ECF6",
              "width": 0.5
             },
             "pattern": {
              "fillmode": "overlay",
              "size": 10,
              "solidity": 0.2
             }
            },
            "type": "barpolar"
           }
          ],
          "carpet": [
           {
            "aaxis": {
             "endlinecolor": "#2a3f5f",
             "gridcolor": "white",
             "linecolor": "white",
             "minorgridcolor": "white",
             "startlinecolor": "#2a3f5f"
            },
            "baxis": {
             "endlinecolor": "#2a3f5f",
             "gridcolor": "white",
             "linecolor": "white",
             "minorgridcolor": "white",
             "startlinecolor": "#2a3f5f"
            },
            "type": "carpet"
           }
          ],
          "choropleth": [
           {
            "colorbar": {
             "outlinewidth": 0,
             "ticks": ""
            },
            "type": "choropleth"
           }
          ],
          "contour": [
           {
            "colorbar": {
             "outlinewidth": 0,
             "ticks": ""
            },
            "colorscale": [
             [
              0,
              "#0d0887"
             ],
             [
              0.1111111111111111,
              "#46039f"
             ],
             [
              0.2222222222222222,
              "#7201a8"
             ],
             [
              0.3333333333333333,
              "#9c179e"
             ],
             [
              0.4444444444444444,
              "#bd3786"
             ],
             [
              0.5555555555555556,
              "#d8576b"
             ],
             [
              0.6666666666666666,
              "#ed7953"
             ],
             [
              0.7777777777777778,
              "#fb9f3a"
             ],
             [
              0.8888888888888888,
              "#fdca26"
             ],
             [
              1,
              "#f0f921"
             ]
            ],
            "type": "contour"
           }
          ],
          "contourcarpet": [
           {
            "colorbar": {
             "outlinewidth": 0,
             "ticks": ""
            },
            "type": "contourcarpet"
           }
          ],
          "heatmap": [
           {
            "colorbar": {
             "outlinewidth": 0,
             "ticks": ""
            },
            "colorscale": [
             [
              0,
              "#0d0887"
             ],
             [
              0.1111111111111111,
              "#46039f"
             ],
             [
              0.2222222222222222,
              "#7201a8"
             ],
             [
              0.3333333333333333,
              "#9c179e"
             ],
             [
              0.4444444444444444,
              "#bd3786"
             ],
             [
              0.5555555555555556,
              "#d8576b"
             ],
             [
              0.6666666666666666,
              "#ed7953"
             ],
             [
              0.7777777777777778,
              "#fb9f3a"
             ],
             [
              0.8888888888888888,
              "#fdca26"
             ],
             [
              1,
              "#f0f921"
             ]
            ],
            "type": "heatmap"
           }
          ],
          "heatmapgl": [
           {
            "colorbar": {
             "outlinewidth": 0,
             "ticks": ""
            },
            "colorscale": [
             [
              0,
              "#0d0887"
             ],
             [
              0.1111111111111111,
              "#46039f"
             ],
             [
              0.2222222222222222,
              "#7201a8"
             ],
             [
              0.3333333333333333,
              "#9c179e"
             ],
             [
              0.4444444444444444,
              "#bd3786"
             ],
             [
              0.5555555555555556,
              "#d8576b"
             ],
             [
              0.6666666666666666,
              "#ed7953"
             ],
             [
              0.7777777777777778,
              "#fb9f3a"
             ],
             [
              0.8888888888888888,
              "#fdca26"
             ],
             [
              1,
              "#f0f921"
             ]
            ],
            "type": "heatmapgl"
           }
          ],
          "histogram": [
           {
            "marker": {
             "pattern": {
              "fillmode": "overlay",
              "size": 10,
              "solidity": 0.2
             }
            },
            "type": "histogram"
           }
          ],
          "histogram2d": [
           {
            "colorbar": {
             "outlinewidth": 0,
             "ticks": ""
            },
            "colorscale": [
             [
              0,
              "#0d0887"
             ],
             [
              0.1111111111111111,
              "#46039f"
             ],
             [
              0.2222222222222222,
              "#7201a8"
             ],
             [
              0.3333333333333333,
              "#9c179e"
             ],
             [
              0.4444444444444444,
              "#bd3786"
             ],
             [
              0.5555555555555556,
              "#d8576b"
             ],
             [
              0.6666666666666666,
              "#ed7953"
             ],
             [
              0.7777777777777778,
              "#fb9f3a"
             ],
             [
              0.8888888888888888,
              "#fdca26"
             ],
             [
              1,
              "#f0f921"
             ]
            ],
            "type": "histogram2d"
           }
          ],
          "histogram2dcontour": [
           {
            "colorbar": {
             "outlinewidth": 0,
             "ticks": ""
            },
            "colorscale": [
             [
              0,
              "#0d0887"
             ],
             [
              0.1111111111111111,
              "#46039f"
             ],
             [
              0.2222222222222222,
              "#7201a8"
             ],
             [
              0.3333333333333333,
              "#9c179e"
             ],
             [
              0.4444444444444444,
              "#bd3786"
             ],
             [
              0.5555555555555556,
              "#d8576b"
             ],
             [
              0.6666666666666666,
              "#ed7953"
             ],
             [
              0.7777777777777778,
              "#fb9f3a"
             ],
             [
              0.8888888888888888,
              "#fdca26"
             ],
             [
              1,
              "#f0f921"
             ]
            ],
            "type": "histogram2dcontour"
           }
          ],
          "mesh3d": [
           {
            "colorbar": {
             "outlinewidth": 0,
             "ticks": ""
            },
            "type": "mesh3d"
           }
          ],
          "parcoords": [
           {
            "line": {
             "colorbar": {
              "outlinewidth": 0,
              "ticks": ""
             }
            },
            "type": "parcoords"
           }
          ],
          "pie": [
           {
            "automargin": true,
            "type": "pie"
           }
          ],
          "scatter": [
           {
            "fillpattern": {
             "fillmode": "overlay",
             "size": 10,
             "solidity": 0.2
            },
            "type": "scatter"
           }
          ],
          "scatter3d": [
           {
            "line": {
             "colorbar": {
              "outlinewidth": 0,
              "ticks": ""
             }
            },
            "marker": {
             "colorbar": {
              "outlinewidth": 0,
              "ticks": ""
             }
            },
            "type": "scatter3d"
           }
          ],
          "scattercarpet": [
           {
            "marker": {
             "colorbar": {
              "outlinewidth": 0,
              "ticks": ""
             }
            },
            "type": "scattercarpet"
           }
          ],
          "scattergeo": [
           {
            "marker": {
             "colorbar": {
              "outlinewidth": 0,
              "ticks": ""
             }
            },
            "type": "scattergeo"
           }
          ],
          "scattergl": [
           {
            "marker": {
             "colorbar": {
              "outlinewidth": 0,
              "ticks": ""
             }
            },
            "type": "scattergl"
           }
          ],
          "scattermapbox": [
           {
            "marker": {
             "colorbar": {
              "outlinewidth": 0,
              "ticks": ""
             }
            },
            "type": "scattermapbox"
           }
          ],
          "scatterpolar": [
           {
            "marker": {
             "colorbar": {
              "outlinewidth": 0,
              "ticks": ""
             }
            },
            "type": "scatterpolar"
           }
          ],
          "scatterpolargl": [
           {
            "marker": {
             "colorbar": {
              "outlinewidth": 0,
              "ticks": ""
             }
            },
            "type": "scatterpolargl"
           }
          ],
          "scatterternary": [
           {
            "marker": {
             "colorbar": {
              "outlinewidth": 0,
              "ticks": ""
             }
            },
            "type": "scatterternary"
           }
          ],
          "surface": [
           {
            "colorbar": {
             "outlinewidth": 0,
             "ticks": ""
            },
            "colorscale": [
             [
              0,
              "#0d0887"
             ],
             [
              0.1111111111111111,
              "#46039f"
             ],
             [
              0.2222222222222222,
              "#7201a8"
             ],
             [
              0.3333333333333333,
              "#9c179e"
             ],
             [
              0.4444444444444444,
              "#bd3786"
             ],
             [
              0.5555555555555556,
              "#d8576b"
             ],
             [
              0.6666666666666666,
              "#ed7953"
             ],
             [
              0.7777777777777778,
              "#fb9f3a"
             ],
             [
              0.8888888888888888,
              "#fdca26"
             ],
             [
              1,
              "#f0f921"
             ]
            ],
            "type": "surface"
           }
          ],
          "table": [
           {
            "cells": {
             "fill": {
              "color": "#EBF0F8"
             },
             "line": {
              "color": "white"
             }
            },
            "header": {
             "fill": {
              "color": "#C8D4E3"
             },
             "line": {
              "color": "white"
             }
            },
            "type": "table"
           }
          ]
         },
         "layout": {
          "annotationdefaults": {
           "arrowcolor": "#2a3f5f",
           "arrowhead": 0,
           "arrowwidth": 1
          },
          "autotypenumbers": "strict",
          "coloraxis": {
           "colorbar": {
            "outlinewidth": 0,
            "ticks": ""
           }
          },
          "colorscale": {
           "diverging": [
            [
             0,
             "#8e0152"
            ],
            [
             0.1,
             "#c51b7d"
            ],
            [
             0.2,
             "#de77ae"
            ],
            [
             0.3,
             "#f1b6da"
            ],
            [
             0.4,
             "#fde0ef"
            ],
            [
             0.5,
             "#f7f7f7"
            ],
            [
             0.6,
             "#e6f5d0"
            ],
            [
             0.7,
             "#b8e186"
            ],
            [
             0.8,
             "#7fbc41"
            ],
            [
             0.9,
             "#4d9221"
            ],
            [
             1,
             "#276419"
            ]
           ],
           "sequential": [
            [
             0,
             "#0d0887"
            ],
            [
             0.1111111111111111,
             "#46039f"
            ],
            [
             0.2222222222222222,
             "#7201a8"
            ],
            [
             0.3333333333333333,
             "#9c179e"
            ],
            [
             0.4444444444444444,
             "#bd3786"
            ],
            [
             0.5555555555555556,
             "#d8576b"
            ],
            [
             0.6666666666666666,
             "#ed7953"
            ],
            [
             0.7777777777777778,
             "#fb9f3a"
            ],
            [
             0.8888888888888888,
             "#fdca26"
            ],
            [
             1,
             "#f0f921"
            ]
           ],
           "sequentialminus": [
            [
             0,
             "#0d0887"
            ],
            [
             0.1111111111111111,
             "#46039f"
            ],
            [
             0.2222222222222222,
             "#7201a8"
            ],
            [
             0.3333333333333333,
             "#9c179e"
            ],
            [
             0.4444444444444444,
             "#bd3786"
            ],
            [
             0.5555555555555556,
             "#d8576b"
            ],
            [
             0.6666666666666666,
             "#ed7953"
            ],
            [
             0.7777777777777778,
             "#fb9f3a"
            ],
            [
             0.8888888888888888,
             "#fdca26"
            ],
            [
             1,
             "#f0f921"
            ]
           ]
          },
          "colorway": [
           "#636efa",
           "#EF553B",
           "#00cc96",
           "#ab63fa",
           "#FFA15A",
           "#19d3f3",
           "#FF6692",
           "#B6E880",
           "#FF97FF",
           "#FECB52"
          ],
          "font": {
           "color": "#2a3f5f"
          },
          "geo": {
           "bgcolor": "white",
           "lakecolor": "white",
           "landcolor": "#E5ECF6",
           "showlakes": true,
           "showland": true,
           "subunitcolor": "white"
          },
          "hoverlabel": {
           "align": "left"
          },
          "hovermode": "closest",
          "mapbox": {
           "style": "light"
          },
          "paper_bgcolor": "white",
          "plot_bgcolor": "#E5ECF6",
          "polar": {
           "angularaxis": {
            "gridcolor": "white",
            "linecolor": "white",
            "ticks": ""
           },
           "bgcolor": "#E5ECF6",
           "radialaxis": {
            "gridcolor": "white",
            "linecolor": "white",
            "ticks": ""
           }
          },
          "scene": {
           "xaxis": {
            "backgroundcolor": "#E5ECF6",
            "gridcolor": "white",
            "gridwidth": 2,
            "linecolor": "white",
            "showbackground": true,
            "ticks": "",
            "zerolinecolor": "white"
           },
           "yaxis": {
            "backgroundcolor": "#E5ECF6",
            "gridcolor": "white",
            "gridwidth": 2,
            "linecolor": "white",
            "showbackground": true,
            "ticks": "",
            "zerolinecolor": "white"
           },
           "zaxis": {
            "backgroundcolor": "#E5ECF6",
            "gridcolor": "white",
            "gridwidth": 2,
            "linecolor": "white",
            "showbackground": true,
            "ticks": "",
            "zerolinecolor": "white"
           }
          },
          "shapedefaults": {
           "line": {
            "color": "#2a3f5f"
           }
          },
          "ternary": {
           "aaxis": {
            "gridcolor": "white",
            "linecolor": "white",
            "ticks": ""
           },
           "baxis": {
            "gridcolor": "white",
            "linecolor": "white",
            "ticks": ""
           },
           "bgcolor": "#E5ECF6",
           "caxis": {
            "gridcolor": "white",
            "linecolor": "white",
            "ticks": ""
           }
          },
          "title": {
           "x": 0.05
          },
          "xaxis": {
           "automargin": true,
           "gridcolor": "white",
           "linecolor": "white",
           "ticks": "",
           "title": {
            "standoff": 15
           },
           "zerolinecolor": "white",
           "zerolinewidth": 2
          },
          "yaxis": {
           "automargin": true,
           "gridcolor": "white",
           "linecolor": "white",
           "ticks": "",
           "title": {
            "standoff": 15
           },
           "zerolinecolor": "white",
           "zerolinewidth": 2
          }
         }
        },
        "title": {
         "text": "Optimization History Plot"
        },
        "xaxis": {
         "title": {
          "text": "#Trials"
         }
        },
        "yaxis": {
         "title": {
          "text": "Objective Value"
         }
        }
       }
      }
     },
     "metadata": {},
     "output_type": "display_data"
    },
    {
     "data": {
      "application/vnd.plotly.v1+json": {
       "config": {
        "plotlyServerURL": "https://plot.ly"
       },
       "data": [
        {
         "dimensions": [
          {
           "label": "Objective Value",
           "range": [
            0.08400183543562889,
            1.7314146757125854
           ],
           "values": [
            1.7314146757125854,
            0.08727431297302246,
            0.0884883925318718,
            0.08635769039392471,
            0.08522934094071388,
            0.08731328323483467,
            0.08847204595804214,
            0.0857175812125206,
            0.08674916997551918,
            0.08790784701704979,
            0.0866650827229023,
            0.08490461483597755,
            0.08617560565471649,
            0.0854639895260334,
            0.08721736446022987,
            0.08533492684364319,
            0.08585657551884651,
            0.0865832269191742,
            0.08525490388274193,
            0.08423054218292236,
            0.08759941533207893,
            0.08400183543562889,
            0.08666981011629105,
            0.08497705683112144,
            0.0867505893111229,
            0.08595944568514824,
            0.08547063544392586,
            0.08589189499616623
           ]
          },
          {
           "label": "learning_rate",
           "range": [
            -5.140409412702488,
            -3.3298427766830696
           ],
           "ticktext": [
            "7.24e-06",
            "1e-05",
            "0.0001",
            "0.000468"
           ],
           "tickvals": [
            -5.140409412702488,
            -5,
            -4,
            -3.3298427766830696
           ],
           "values": [
            -5.140409412702488,
            -3.6281780271070727,
            -3.5814044134788623,
            -3.711114204315729,
            -3.5437990496820797,
            -3.7604715808412936,
            -3.7307280154948357,
            -3.996641346351779,
            -4.138173090814174,
            -4.143200502432162,
            -4.050033298612072,
            -3.535258846113868,
            -3.5598871424888325,
            -3.569112135781177,
            -3.546906020023438,
            -3.5065131381254213,
            -3.3769104500243556,
            -3.453821641871443,
            -3.534386166872719,
            -3.4960514772368083,
            -3.3298427766830696,
            -3.4334462880623366,
            -3.5671221281595398,
            -3.4806843847702513,
            -3.4148204200790264,
            -3.523913263516105,
            -3.526718468526749,
            -3.5377854544654523
           ]
          }
         ],
         "labelangle": 30,
         "labelside": "bottom",
         "line": {
          "color": [
           1.7314146757125854,
           0.08727431297302246,
           0.0884883925318718,
           0.08635769039392471,
           0.08522934094071388,
           0.08731328323483467,
           0.08847204595804214,
           0.0857175812125206,
           0.08674916997551918,
           0.08790784701704979,
           0.0866650827229023,
           0.08490461483597755,
           0.08617560565471649,
           0.0854639895260334,
           0.08721736446022987,
           0.08533492684364319,
           0.08585657551884651,
           0.0865832269191742,
           0.08525490388274193,
           0.08423054218292236,
           0.08759941533207893,
           0.08400183543562889,
           0.08666981011629105,
           0.08497705683112144,
           0.0867505893111229,
           0.08595944568514824,
           0.08547063544392586,
           0.08589189499616623
          ],
          "colorbar": {
           "title": {
            "text": "Objective Value"
           }
          },
          "colorscale": [
           [
            0,
            "rgb(247,251,255)"
           ],
           [
            0.125,
            "rgb(222,235,247)"
           ],
           [
            0.25,
            "rgb(198,219,239)"
           ],
           [
            0.375,
            "rgb(158,202,225)"
           ],
           [
            0.5,
            "rgb(107,174,214)"
           ],
           [
            0.625,
            "rgb(66,146,198)"
           ],
           [
            0.75,
            "rgb(33,113,181)"
           ],
           [
            0.875,
            "rgb(8,81,156)"
           ],
           [
            1,
            "rgb(8,48,107)"
           ]
          ],
          "reversescale": true,
          "showscale": true
         },
         "type": "parcoords"
        }
       ],
       "layout": {
        "template": {
         "data": {
          "bar": [
           {
            "error_x": {
             "color": "#2a3f5f"
            },
            "error_y": {
             "color": "#2a3f5f"
            },
            "marker": {
             "line": {
              "color": "#E5ECF6",
              "width": 0.5
             },
             "pattern": {
              "fillmode": "overlay",
              "size": 10,
              "solidity": 0.2
             }
            },
            "type": "bar"
           }
          ],
          "barpolar": [
           {
            "marker": {
             "line": {
              "color": "#E5ECF6",
              "width": 0.5
             },
             "pattern": {
              "fillmode": "overlay",
              "size": 10,
              "solidity": 0.2
             }
            },
            "type": "barpolar"
           }
          ],
          "carpet": [
           {
            "aaxis": {
             "endlinecolor": "#2a3f5f",
             "gridcolor": "white",
             "linecolor": "white",
             "minorgridcolor": "white",
             "startlinecolor": "#2a3f5f"
            },
            "baxis": {
             "endlinecolor": "#2a3f5f",
             "gridcolor": "white",
             "linecolor": "white",
             "minorgridcolor": "white",
             "startlinecolor": "#2a3f5f"
            },
            "type": "carpet"
           }
          ],
          "choropleth": [
           {
            "colorbar": {
             "outlinewidth": 0,
             "ticks": ""
            },
            "type": "choropleth"
           }
          ],
          "contour": [
           {
            "colorbar": {
             "outlinewidth": 0,
             "ticks": ""
            },
            "colorscale": [
             [
              0,
              "#0d0887"
             ],
             [
              0.1111111111111111,
              "#46039f"
             ],
             [
              0.2222222222222222,
              "#7201a8"
             ],
             [
              0.3333333333333333,
              "#9c179e"
             ],
             [
              0.4444444444444444,
              "#bd3786"
             ],
             [
              0.5555555555555556,
              "#d8576b"
             ],
             [
              0.6666666666666666,
              "#ed7953"
             ],
             [
              0.7777777777777778,
              "#fb9f3a"
             ],
             [
              0.8888888888888888,
              "#fdca26"
             ],
             [
              1,
              "#f0f921"
             ]
            ],
            "type": "contour"
           }
          ],
          "contourcarpet": [
           {
            "colorbar": {
             "outlinewidth": 0,
             "ticks": ""
            },
            "type": "contourcarpet"
           }
          ],
          "heatmap": [
           {
            "colorbar": {
             "outlinewidth": 0,
             "ticks": ""
            },
            "colorscale": [
             [
              0,
              "#0d0887"
             ],
             [
              0.1111111111111111,
              "#46039f"
             ],
             [
              0.2222222222222222,
              "#7201a8"
             ],
             [
              0.3333333333333333,
              "#9c179e"
             ],
             [
              0.4444444444444444,
              "#bd3786"
             ],
             [
              0.5555555555555556,
              "#d8576b"
             ],
             [
              0.6666666666666666,
              "#ed7953"
             ],
             [
              0.7777777777777778,
              "#fb9f3a"
             ],
             [
              0.8888888888888888,
              "#fdca26"
             ],
             [
              1,
              "#f0f921"
             ]
            ],
            "type": "heatmap"
           }
          ],
          "heatmapgl": [
           {
            "colorbar": {
             "outlinewidth": 0,
             "ticks": ""
            },
            "colorscale": [
             [
              0,
              "#0d0887"
             ],
             [
              0.1111111111111111,
              "#46039f"
             ],
             [
              0.2222222222222222,
              "#7201a8"
             ],
             [
              0.3333333333333333,
              "#9c179e"
             ],
             [
              0.4444444444444444,
              "#bd3786"
             ],
             [
              0.5555555555555556,
              "#d8576b"
             ],
             [
              0.6666666666666666,
              "#ed7953"
             ],
             [
              0.7777777777777778,
              "#fb9f3a"
             ],
             [
              0.8888888888888888,
              "#fdca26"
             ],
             [
              1,
              "#f0f921"
             ]
            ],
            "type": "heatmapgl"
           }
          ],
          "histogram": [
           {
            "marker": {
             "pattern": {
              "fillmode": "overlay",
              "size": 10,
              "solidity": 0.2
             }
            },
            "type": "histogram"
           }
          ],
          "histogram2d": [
           {
            "colorbar": {
             "outlinewidth": 0,
             "ticks": ""
            },
            "colorscale": [
             [
              0,
              "#0d0887"
             ],
             [
              0.1111111111111111,
              "#46039f"
             ],
             [
              0.2222222222222222,
              "#7201a8"
             ],
             [
              0.3333333333333333,
              "#9c179e"
             ],
             [
              0.4444444444444444,
              "#bd3786"
             ],
             [
              0.5555555555555556,
              "#d8576b"
             ],
             [
              0.6666666666666666,
              "#ed7953"
             ],
             [
              0.7777777777777778,
              "#fb9f3a"
             ],
             [
              0.8888888888888888,
              "#fdca26"
             ],
             [
              1,
              "#f0f921"
             ]
            ],
            "type": "histogram2d"
           }
          ],
          "histogram2dcontour": [
           {
            "colorbar": {
             "outlinewidth": 0,
             "ticks": ""
            },
            "colorscale": [
             [
              0,
              "#0d0887"
             ],
             [
              0.1111111111111111,
              "#46039f"
             ],
             [
              0.2222222222222222,
              "#7201a8"
             ],
             [
              0.3333333333333333,
              "#9c179e"
             ],
             [
              0.4444444444444444,
              "#bd3786"
             ],
             [
              0.5555555555555556,
              "#d8576b"
             ],
             [
              0.6666666666666666,
              "#ed7953"
             ],
             [
              0.7777777777777778,
              "#fb9f3a"
             ],
             [
              0.8888888888888888,
              "#fdca26"
             ],
             [
              1,
              "#f0f921"
             ]
            ],
            "type": "histogram2dcontour"
           }
          ],
          "mesh3d": [
           {
            "colorbar": {
             "outlinewidth": 0,
             "ticks": ""
            },
            "type": "mesh3d"
           }
          ],
          "parcoords": [
           {
            "line": {
             "colorbar": {
              "outlinewidth": 0,
              "ticks": ""
             }
            },
            "type": "parcoords"
           }
          ],
          "pie": [
           {
            "automargin": true,
            "type": "pie"
           }
          ],
          "scatter": [
           {
            "fillpattern": {
             "fillmode": "overlay",
             "size": 10,
             "solidity": 0.2
            },
            "type": "scatter"
           }
          ],
          "scatter3d": [
           {
            "line": {
             "colorbar": {
              "outlinewidth": 0,
              "ticks": ""
             }
            },
            "marker": {
             "colorbar": {
              "outlinewidth": 0,
              "ticks": ""
             }
            },
            "type": "scatter3d"
           }
          ],
          "scattercarpet": [
           {
            "marker": {
             "colorbar": {
              "outlinewidth": 0,
              "ticks": ""
             }
            },
            "type": "scattercarpet"
           }
          ],
          "scattergeo": [
           {
            "marker": {
             "colorbar": {
              "outlinewidth": 0,
              "ticks": ""
             }
            },
            "type": "scattergeo"
           }
          ],
          "scattergl": [
           {
            "marker": {
             "colorbar": {
              "outlinewidth": 0,
              "ticks": ""
             }
            },
            "type": "scattergl"
           }
          ],
          "scattermapbox": [
           {
            "marker": {
             "colorbar": {
              "outlinewidth": 0,
              "ticks": ""
             }
            },
            "type": "scattermapbox"
           }
          ],
          "scatterpolar": [
           {
            "marker": {
             "colorbar": {
              "outlinewidth": 0,
              "ticks": ""
             }
            },
            "type": "scatterpolar"
           }
          ],
          "scatterpolargl": [
           {
            "marker": {
             "colorbar": {
              "outlinewidth": 0,
              "ticks": ""
             }
            },
            "type": "scatterpolargl"
           }
          ],
          "scatterternary": [
           {
            "marker": {
             "colorbar": {
              "outlinewidth": 0,
              "ticks": ""
             }
            },
            "type": "scatterternary"
           }
          ],
          "surface": [
           {
            "colorbar": {
             "outlinewidth": 0,
             "ticks": ""
            },
            "colorscale": [
             [
              0,
              "#0d0887"
             ],
             [
              0.1111111111111111,
              "#46039f"
             ],
             [
              0.2222222222222222,
              "#7201a8"
             ],
             [
              0.3333333333333333,
              "#9c179e"
             ],
             [
              0.4444444444444444,
              "#bd3786"
             ],
             [
              0.5555555555555556,
              "#d8576b"
             ],
             [
              0.6666666666666666,
              "#ed7953"
             ],
             [
              0.7777777777777778,
              "#fb9f3a"
             ],
             [
              0.8888888888888888,
              "#fdca26"
             ],
             [
              1,
              "#f0f921"
             ]
            ],
            "type": "surface"
           }
          ],
          "table": [
           {
            "cells": {
             "fill": {
              "color": "#EBF0F8"
             },
             "line": {
              "color": "white"
             }
            },
            "header": {
             "fill": {
              "color": "#C8D4E3"
             },
             "line": {
              "color": "white"
             }
            },
            "type": "table"
           }
          ]
         },
         "layout": {
          "annotationdefaults": {
           "arrowcolor": "#2a3f5f",
           "arrowhead": 0,
           "arrowwidth": 1
          },
          "autotypenumbers": "strict",
          "coloraxis": {
           "colorbar": {
            "outlinewidth": 0,
            "ticks": ""
           }
          },
          "colorscale": {
           "diverging": [
            [
             0,
             "#8e0152"
            ],
            [
             0.1,
             "#c51b7d"
            ],
            [
             0.2,
             "#de77ae"
            ],
            [
             0.3,
             "#f1b6da"
            ],
            [
             0.4,
             "#fde0ef"
            ],
            [
             0.5,
             "#f7f7f7"
            ],
            [
             0.6,
             "#e6f5d0"
            ],
            [
             0.7,
             "#b8e186"
            ],
            [
             0.8,
             "#7fbc41"
            ],
            [
             0.9,
             "#4d9221"
            ],
            [
             1,
             "#276419"
            ]
           ],
           "sequential": [
            [
             0,
             "#0d0887"
            ],
            [
             0.1111111111111111,
             "#46039f"
            ],
            [
             0.2222222222222222,
             "#7201a8"
            ],
            [
             0.3333333333333333,
             "#9c179e"
            ],
            [
             0.4444444444444444,
             "#bd3786"
            ],
            [
             0.5555555555555556,
             "#d8576b"
            ],
            [
             0.6666666666666666,
             "#ed7953"
            ],
            [
             0.7777777777777778,
             "#fb9f3a"
            ],
            [
             0.8888888888888888,
             "#fdca26"
            ],
            [
             1,
             "#f0f921"
            ]
           ],
           "sequentialminus": [
            [
             0,
             "#0d0887"
            ],
            [
             0.1111111111111111,
             "#46039f"
            ],
            [
             0.2222222222222222,
             "#7201a8"
            ],
            [
             0.3333333333333333,
             "#9c179e"
            ],
            [
             0.4444444444444444,
             "#bd3786"
            ],
            [
             0.5555555555555556,
             "#d8576b"
            ],
            [
             0.6666666666666666,
             "#ed7953"
            ],
            [
             0.7777777777777778,
             "#fb9f3a"
            ],
            [
             0.8888888888888888,
             "#fdca26"
            ],
            [
             1,
             "#f0f921"
            ]
           ]
          },
          "colorway": [
           "#636efa",
           "#EF553B",
           "#00cc96",
           "#ab63fa",
           "#FFA15A",
           "#19d3f3",
           "#FF6692",
           "#B6E880",
           "#FF97FF",
           "#FECB52"
          ],
          "font": {
           "color": "#2a3f5f"
          },
          "geo": {
           "bgcolor": "white",
           "lakecolor": "white",
           "landcolor": "#E5ECF6",
           "showlakes": true,
           "showland": true,
           "subunitcolor": "white"
          },
          "hoverlabel": {
           "align": "left"
          },
          "hovermode": "closest",
          "mapbox": {
           "style": "light"
          },
          "paper_bgcolor": "white",
          "plot_bgcolor": "#E5ECF6",
          "polar": {
           "angularaxis": {
            "gridcolor": "white",
            "linecolor": "white",
            "ticks": ""
           },
           "bgcolor": "#E5ECF6",
           "radialaxis": {
            "gridcolor": "white",
            "linecolor": "white",
            "ticks": ""
           }
          },
          "scene": {
           "xaxis": {
            "backgroundcolor": "#E5ECF6",
            "gridcolor": "white",
            "gridwidth": 2,
            "linecolor": "white",
            "showbackground": true,
            "ticks": "",
            "zerolinecolor": "white"
           },
           "yaxis": {
            "backgroundcolor": "#E5ECF6",
            "gridcolor": "white",
            "gridwidth": 2,
            "linecolor": "white",
            "showbackground": true,
            "ticks": "",
            "zerolinecolor": "white"
           },
           "zaxis": {
            "backgroundcolor": "#E5ECF6",
            "gridcolor": "white",
            "gridwidth": 2,
            "linecolor": "white",
            "showbackground": true,
            "ticks": "",
            "zerolinecolor": "white"
           }
          },
          "shapedefaults": {
           "line": {
            "color": "#2a3f5f"
           }
          },
          "ternary": {
           "aaxis": {
            "gridcolor": "white",
            "linecolor": "white",
            "ticks": ""
           },
           "baxis": {
            "gridcolor": "white",
            "linecolor": "white",
            "ticks": ""
           },
           "bgcolor": "#E5ECF6",
           "caxis": {
            "gridcolor": "white",
            "linecolor": "white",
            "ticks": ""
           }
          },
          "title": {
           "x": 0.05
          },
          "xaxis": {
           "automargin": true,
           "gridcolor": "white",
           "linecolor": "white",
           "ticks": "",
           "title": {
            "standoff": 15
           },
           "zerolinecolor": "white",
           "zerolinewidth": 2
          },
          "yaxis": {
           "automargin": true,
           "gridcolor": "white",
           "linecolor": "white",
           "ticks": "",
           "title": {
            "standoff": 15
           },
           "zerolinecolor": "white",
           "zerolinewidth": 2
          }
         }
        },
        "title": {
         "text": "Parallel Coordinate Plot"
        }
       }
      }
     },
     "metadata": {},
     "output_type": "display_data"
    },
    {
     "data": {
      "application/vnd.plotly.v1+json": {
       "config": {
        "plotlyServerURL": "https://plot.ly"
       },
       "data": [
        {
         "cliponaxis": false,
         "hovertemplate": [],
         "marker": {
          "color": "rgb(66,146,198)"
         },
         "orientation": "h",
         "text": [],
         "textposition": "outside",
         "texttemplate": "%{text:.2f}",
         "type": "bar",
         "x": [],
         "y": []
        }
       ],
       "layout": {
        "showlegend": false,
        "template": {
         "data": {
          "bar": [
           {
            "error_x": {
             "color": "#2a3f5f"
            },
            "error_y": {
             "color": "#2a3f5f"
            },
            "marker": {
             "line": {
              "color": "#E5ECF6",
              "width": 0.5
             },
             "pattern": {
              "fillmode": "overlay",
              "size": 10,
              "solidity": 0.2
             }
            },
            "type": "bar"
           }
          ],
          "barpolar": [
           {
            "marker": {
             "line": {
              "color": "#E5ECF6",
              "width": 0.5
             },
             "pattern": {
              "fillmode": "overlay",
              "size": 10,
              "solidity": 0.2
             }
            },
            "type": "barpolar"
           }
          ],
          "carpet": [
           {
            "aaxis": {
             "endlinecolor": "#2a3f5f",
             "gridcolor": "white",
             "linecolor": "white",
             "minorgridcolor": "white",
             "startlinecolor": "#2a3f5f"
            },
            "baxis": {
             "endlinecolor": "#2a3f5f",
             "gridcolor": "white",
             "linecolor": "white",
             "minorgridcolor": "white",
             "startlinecolor": "#2a3f5f"
            },
            "type": "carpet"
           }
          ],
          "choropleth": [
           {
            "colorbar": {
             "outlinewidth": 0,
             "ticks": ""
            },
            "type": "choropleth"
           }
          ],
          "contour": [
           {
            "colorbar": {
             "outlinewidth": 0,
             "ticks": ""
            },
            "colorscale": [
             [
              0,
              "#0d0887"
             ],
             [
              0.1111111111111111,
              "#46039f"
             ],
             [
              0.2222222222222222,
              "#7201a8"
             ],
             [
              0.3333333333333333,
              "#9c179e"
             ],
             [
              0.4444444444444444,
              "#bd3786"
             ],
             [
              0.5555555555555556,
              "#d8576b"
             ],
             [
              0.6666666666666666,
              "#ed7953"
             ],
             [
              0.7777777777777778,
              "#fb9f3a"
             ],
             [
              0.8888888888888888,
              "#fdca26"
             ],
             [
              1,
              "#f0f921"
             ]
            ],
            "type": "contour"
           }
          ],
          "contourcarpet": [
           {
            "colorbar": {
             "outlinewidth": 0,
             "ticks": ""
            },
            "type": "contourcarpet"
           }
          ],
          "heatmap": [
           {
            "colorbar": {
             "outlinewidth": 0,
             "ticks": ""
            },
            "colorscale": [
             [
              0,
              "#0d0887"
             ],
             [
              0.1111111111111111,
              "#46039f"
             ],
             [
              0.2222222222222222,
              "#7201a8"
             ],
             [
              0.3333333333333333,
              "#9c179e"
             ],
             [
              0.4444444444444444,
              "#bd3786"
             ],
             [
              0.5555555555555556,
              "#d8576b"
             ],
             [
              0.6666666666666666,
              "#ed7953"
             ],
             [
              0.7777777777777778,
              "#fb9f3a"
             ],
             [
              0.8888888888888888,
              "#fdca26"
             ],
             [
              1,
              "#f0f921"
             ]
            ],
            "type": "heatmap"
           }
          ],
          "heatmapgl": [
           {
            "colorbar": {
             "outlinewidth": 0,
             "ticks": ""
            },
            "colorscale": [
             [
              0,
              "#0d0887"
             ],
             [
              0.1111111111111111,
              "#46039f"
             ],
             [
              0.2222222222222222,
              "#7201a8"
             ],
             [
              0.3333333333333333,
              "#9c179e"
             ],
             [
              0.4444444444444444,
              "#bd3786"
             ],
             [
              0.5555555555555556,
              "#d8576b"
             ],
             [
              0.6666666666666666,
              "#ed7953"
             ],
             [
              0.7777777777777778,
              "#fb9f3a"
             ],
             [
              0.8888888888888888,
              "#fdca26"
             ],
             [
              1,
              "#f0f921"
             ]
            ],
            "type": "heatmapgl"
           }
          ],
          "histogram": [
           {
            "marker": {
             "pattern": {
              "fillmode": "overlay",
              "size": 10,
              "solidity": 0.2
             }
            },
            "type": "histogram"
           }
          ],
          "histogram2d": [
           {
            "colorbar": {
             "outlinewidth": 0,
             "ticks": ""
            },
            "colorscale": [
             [
              0,
              "#0d0887"
             ],
             [
              0.1111111111111111,
              "#46039f"
             ],
             [
              0.2222222222222222,
              "#7201a8"
             ],
             [
              0.3333333333333333,
              "#9c179e"
             ],
             [
              0.4444444444444444,
              "#bd3786"
             ],
             [
              0.5555555555555556,
              "#d8576b"
             ],
             [
              0.6666666666666666,
              "#ed7953"
             ],
             [
              0.7777777777777778,
              "#fb9f3a"
             ],
             [
              0.8888888888888888,
              "#fdca26"
             ],
             [
              1,
              "#f0f921"
             ]
            ],
            "type": "histogram2d"
           }
          ],
          "histogram2dcontour": [
           {
            "colorbar": {
             "outlinewidth": 0,
             "ticks": ""
            },
            "colorscale": [
             [
              0,
              "#0d0887"
             ],
             [
              0.1111111111111111,
              "#46039f"
             ],
             [
              0.2222222222222222,
              "#7201a8"
             ],
             [
              0.3333333333333333,
              "#9c179e"
             ],
             [
              0.4444444444444444,
              "#bd3786"
             ],
             [
              0.5555555555555556,
              "#d8576b"
             ],
             [
              0.6666666666666666,
              "#ed7953"
             ],
             [
              0.7777777777777778,
              "#fb9f3a"
             ],
             [
              0.8888888888888888,
              "#fdca26"
             ],
             [
              1,
              "#f0f921"
             ]
            ],
            "type": "histogram2dcontour"
           }
          ],
          "mesh3d": [
           {
            "colorbar": {
             "outlinewidth": 0,
             "ticks": ""
            },
            "type": "mesh3d"
           }
          ],
          "parcoords": [
           {
            "line": {
             "colorbar": {
              "outlinewidth": 0,
              "ticks": ""
             }
            },
            "type": "parcoords"
           }
          ],
          "pie": [
           {
            "automargin": true,
            "type": "pie"
           }
          ],
          "scatter": [
           {
            "fillpattern": {
             "fillmode": "overlay",
             "size": 10,
             "solidity": 0.2
            },
            "type": "scatter"
           }
          ],
          "scatter3d": [
           {
            "line": {
             "colorbar": {
              "outlinewidth": 0,
              "ticks": ""
             }
            },
            "marker": {
             "colorbar": {
              "outlinewidth": 0,
              "ticks": ""
             }
            },
            "type": "scatter3d"
           }
          ],
          "scattercarpet": [
           {
            "marker": {
             "colorbar": {
              "outlinewidth": 0,
              "ticks": ""
             }
            },
            "type": "scattercarpet"
           }
          ],
          "scattergeo": [
           {
            "marker": {
             "colorbar": {
              "outlinewidth": 0,
              "ticks": ""
             }
            },
            "type": "scattergeo"
           }
          ],
          "scattergl": [
           {
            "marker": {
             "colorbar": {
              "outlinewidth": 0,
              "ticks": ""
             }
            },
            "type": "scattergl"
           }
          ],
          "scattermapbox": [
           {
            "marker": {
             "colorbar": {
              "outlinewidth": 0,
              "ticks": ""
             }
            },
            "type": "scattermapbox"
           }
          ],
          "scatterpolar": [
           {
            "marker": {
             "colorbar": {
              "outlinewidth": 0,
              "ticks": ""
             }
            },
            "type": "scatterpolar"
           }
          ],
          "scatterpolargl": [
           {
            "marker": {
             "colorbar": {
              "outlinewidth": 0,
              "ticks": ""
             }
            },
            "type": "scatterpolargl"
           }
          ],
          "scatterternary": [
           {
            "marker": {
             "colorbar": {
              "outlinewidth": 0,
              "ticks": ""
             }
            },
            "type": "scatterternary"
           }
          ],
          "surface": [
           {
            "colorbar": {
             "outlinewidth": 0,
             "ticks": ""
            },
            "colorscale": [
             [
              0,
              "#0d0887"
             ],
             [
              0.1111111111111111,
              "#46039f"
             ],
             [
              0.2222222222222222,
              "#7201a8"
             ],
             [
              0.3333333333333333,
              "#9c179e"
             ],
             [
              0.4444444444444444,
              "#bd3786"
             ],
             [
              0.5555555555555556,
              "#d8576b"
             ],
             [
              0.6666666666666666,
              "#ed7953"
             ],
             [
              0.7777777777777778,
              "#fb9f3a"
             ],
             [
              0.8888888888888888,
              "#fdca26"
             ],
             [
              1,
              "#f0f921"
             ]
            ],
            "type": "surface"
           }
          ],
          "table": [
           {
            "cells": {
             "fill": {
              "color": "#EBF0F8"
             },
             "line": {
              "color": "white"
             }
            },
            "header": {
             "fill": {
              "color": "#C8D4E3"
             },
             "line": {
              "color": "white"
             }
            },
            "type": "table"
           }
          ]
         },
         "layout": {
          "annotationdefaults": {
           "arrowcolor": "#2a3f5f",
           "arrowhead": 0,
           "arrowwidth": 1
          },
          "autotypenumbers": "strict",
          "coloraxis": {
           "colorbar": {
            "outlinewidth": 0,
            "ticks": ""
           }
          },
          "colorscale": {
           "diverging": [
            [
             0,
             "#8e0152"
            ],
            [
             0.1,
             "#c51b7d"
            ],
            [
             0.2,
             "#de77ae"
            ],
            [
             0.3,
             "#f1b6da"
            ],
            [
             0.4,
             "#fde0ef"
            ],
            [
             0.5,
             "#f7f7f7"
            ],
            [
             0.6,
             "#e6f5d0"
            ],
            [
             0.7,
             "#b8e186"
            ],
            [
             0.8,
             "#7fbc41"
            ],
            [
             0.9,
             "#4d9221"
            ],
            [
             1,
             "#276419"
            ]
           ],
           "sequential": [
            [
             0,
             "#0d0887"
            ],
            [
             0.1111111111111111,
             "#46039f"
            ],
            [
             0.2222222222222222,
             "#7201a8"
            ],
            [
             0.3333333333333333,
             "#9c179e"
            ],
            [
             0.4444444444444444,
             "#bd3786"
            ],
            [
             0.5555555555555556,
             "#d8576b"
            ],
            [
             0.6666666666666666,
             "#ed7953"
            ],
            [
             0.7777777777777778,
             "#fb9f3a"
            ],
            [
             0.8888888888888888,
             "#fdca26"
            ],
            [
             1,
             "#f0f921"
            ]
           ],
           "sequentialminus": [
            [
             0,
             "#0d0887"
            ],
            [
             0.1111111111111111,
             "#46039f"
            ],
            [
             0.2222222222222222,
             "#7201a8"
            ],
            [
             0.3333333333333333,
             "#9c179e"
            ],
            [
             0.4444444444444444,
             "#bd3786"
            ],
            [
             0.5555555555555556,
             "#d8576b"
            ],
            [
             0.6666666666666666,
             "#ed7953"
            ],
            [
             0.7777777777777778,
             "#fb9f3a"
            ],
            [
             0.8888888888888888,
             "#fdca26"
            ],
            [
             1,
             "#f0f921"
            ]
           ]
          },
          "colorway": [
           "#636efa",
           "#EF553B",
           "#00cc96",
           "#ab63fa",
           "#FFA15A",
           "#19d3f3",
           "#FF6692",
           "#B6E880",
           "#FF97FF",
           "#FECB52"
          ],
          "font": {
           "color": "#2a3f5f"
          },
          "geo": {
           "bgcolor": "white",
           "lakecolor": "white",
           "landcolor": "#E5ECF6",
           "showlakes": true,
           "showland": true,
           "subunitcolor": "white"
          },
          "hoverlabel": {
           "align": "left"
          },
          "hovermode": "closest",
          "mapbox": {
           "style": "light"
          },
          "paper_bgcolor": "white",
          "plot_bgcolor": "#E5ECF6",
          "polar": {
           "angularaxis": {
            "gridcolor": "white",
            "linecolor": "white",
            "ticks": ""
           },
           "bgcolor": "#E5ECF6",
           "radialaxis": {
            "gridcolor": "white",
            "linecolor": "white",
            "ticks": ""
           }
          },
          "scene": {
           "xaxis": {
            "backgroundcolor": "#E5ECF6",
            "gridcolor": "white",
            "gridwidth": 2,
            "linecolor": "white",
            "showbackground": true,
            "ticks": "",
            "zerolinecolor": "white"
           },
           "yaxis": {
            "backgroundcolor": "#E5ECF6",
            "gridcolor": "white",
            "gridwidth": 2,
            "linecolor": "white",
            "showbackground": true,
            "ticks": "",
            "zerolinecolor": "white"
           },
           "zaxis": {
            "backgroundcolor": "#E5ECF6",
            "gridcolor": "white",
            "gridwidth": 2,
            "linecolor": "white",
            "showbackground": true,
            "ticks": "",
            "zerolinecolor": "white"
           }
          },
          "shapedefaults": {
           "line": {
            "color": "#2a3f5f"
           }
          },
          "ternary": {
           "aaxis": {
            "gridcolor": "white",
            "linecolor": "white",
            "ticks": ""
           },
           "baxis": {
            "gridcolor": "white",
            "linecolor": "white",
            "ticks": ""
           },
           "bgcolor": "#E5ECF6",
           "caxis": {
            "gridcolor": "white",
            "linecolor": "white",
            "ticks": ""
           }
          },
          "title": {
           "x": 0.05
          },
          "xaxis": {
           "automargin": true,
           "gridcolor": "white",
           "linecolor": "white",
           "ticks": "",
           "title": {
            "standoff": 15
           },
           "zerolinecolor": "white",
           "zerolinewidth": 2
          },
          "yaxis": {
           "automargin": true,
           "gridcolor": "white",
           "linecolor": "white",
           "ticks": "",
           "title": {
            "standoff": 15
           },
           "zerolinecolor": "white",
           "zerolinewidth": 2
          }
         }
        },
        "title": {
         "text": "Hyperparameter Importances"
        },
        "xaxis": {
         "title": {
          "text": "Importance for Objective Value"
         }
        },
        "yaxis": {
         "title": {
          "text": "Hyperparameter"
         }
        }
       }
      }
     },
     "metadata": {},
     "output_type": "display_data"
    },
    {
     "data": {
      "application/vnd.plotly.v1+json": {
       "config": {
        "plotlyServerURL": "https://plot.ly"
       },
       "data": [
        {
         "marker": {
          "color": [
           3,
           4,
           5,
           7,
           15,
           25,
           32,
           52,
           53,
           59,
           65,
           72,
           75,
           83,
           88,
           92,
           93,
           99,
           101,
           102,
           104,
           108,
           109,
           120,
           122,
           123,
           127,
           128
          ],
          "colorbar": {
           "title": {
            "text": "#Trials"
           },
           "x": 1,
           "xpad": 40
          },
          "colorscale": [
           [
            0,
            "rgb(247,251,255)"
           ],
           [
            0.125,
            "rgb(222,235,247)"
           ],
           [
            0.25,
            "rgb(198,219,239)"
           ],
           [
            0.375,
            "rgb(158,202,225)"
           ],
           [
            0.5,
            "rgb(107,174,214)"
           ],
           [
            0.625,
            "rgb(66,146,198)"
           ],
           [
            0.75,
            "rgb(33,113,181)"
           ],
           [
            0.875,
            "rgb(8,81,156)"
           ],
           [
            1,
            "rgb(8,48,107)"
           ]
          ],
          "line": {
           "color": "Grey",
           "width": 0.5
          }
         },
         "mode": "markers",
         "showlegend": false,
         "type": "scatter",
         "x": [
          0.000007237533506012401,
          0.0002354084093897907,
          0.000262177601781057,
          0.00019448485869629425,
          0.0002858913071344036,
          0.00017359148531372268,
          0.00018589683019838702,
          0.0001007763567235872,
          0.00007274898010852018,
          0.00007191169038408558,
          0.00008911826059702329,
          0.0002915688701228557,
          0.0002754944521292493,
          0.00026970429601666355,
          0.00028385332117533837,
          0.00031152066544014605,
          0.0004198455457227971,
          0.0003517048506977636,
          0.00029215534295768753,
          0.000319115958224586,
          0.00046790450144787893,
          0.00036859862595040017,
          0.0002709429604752284,
          0.00033060971805981456,
          0.0003847508428803102,
          0.000299286230580105,
          0.00029735930392827374,
          0.00028987752561223783
         ],
         "y": [
          1.7314146757125854,
          0.08727431297302246,
          0.0884883925318718,
          0.08635769039392471,
          0.08522934094071388,
          0.08731328323483467,
          0.08847204595804214,
          0.0857175812125206,
          0.08674916997551918,
          0.08790784701704979,
          0.0866650827229023,
          0.08490461483597755,
          0.08617560565471649,
          0.0854639895260334,
          0.08721736446022987,
          0.08533492684364319,
          0.08585657551884651,
          0.0865832269191742,
          0.08525490388274193,
          0.08423054218292236,
          0.08759941533207893,
          0.08400183543562889,
          0.08666981011629105,
          0.08497705683112144,
          0.0867505893111229,
          0.08595944568514824,
          0.08547063544392586,
          0.08589189499616623
         ]
        }
       ],
       "layout": {
        "template": {
         "data": {
          "bar": [
           {
            "error_x": {
             "color": "#2a3f5f"
            },
            "error_y": {
             "color": "#2a3f5f"
            },
            "marker": {
             "line": {
              "color": "#E5ECF6",
              "width": 0.5
             },
             "pattern": {
              "fillmode": "overlay",
              "size": 10,
              "solidity": 0.2
             }
            },
            "type": "bar"
           }
          ],
          "barpolar": [
           {
            "marker": {
             "line": {
              "color": "#E5ECF6",
              "width": 0.5
             },
             "pattern": {
              "fillmode": "overlay",
              "size": 10,
              "solidity": 0.2
             }
            },
            "type": "barpolar"
           }
          ],
          "carpet": [
           {
            "aaxis": {
             "endlinecolor": "#2a3f5f",
             "gridcolor": "white",
             "linecolor": "white",
             "minorgridcolor": "white",
             "startlinecolor": "#2a3f5f"
            },
            "baxis": {
             "endlinecolor": "#2a3f5f",
             "gridcolor": "white",
             "linecolor": "white",
             "minorgridcolor": "white",
             "startlinecolor": "#2a3f5f"
            },
            "type": "carpet"
           }
          ],
          "choropleth": [
           {
            "colorbar": {
             "outlinewidth": 0,
             "ticks": ""
            },
            "type": "choropleth"
           }
          ],
          "contour": [
           {
            "colorbar": {
             "outlinewidth": 0,
             "ticks": ""
            },
            "colorscale": [
             [
              0,
              "#0d0887"
             ],
             [
              0.1111111111111111,
              "#46039f"
             ],
             [
              0.2222222222222222,
              "#7201a8"
             ],
             [
              0.3333333333333333,
              "#9c179e"
             ],
             [
              0.4444444444444444,
              "#bd3786"
             ],
             [
              0.5555555555555556,
              "#d8576b"
             ],
             [
              0.6666666666666666,
              "#ed7953"
             ],
             [
              0.7777777777777778,
              "#fb9f3a"
             ],
             [
              0.8888888888888888,
              "#fdca26"
             ],
             [
              1,
              "#f0f921"
             ]
            ],
            "type": "contour"
           }
          ],
          "contourcarpet": [
           {
            "colorbar": {
             "outlinewidth": 0,
             "ticks": ""
            },
            "type": "contourcarpet"
           }
          ],
          "heatmap": [
           {
            "colorbar": {
             "outlinewidth": 0,
             "ticks": ""
            },
            "colorscale": [
             [
              0,
              "#0d0887"
             ],
             [
              0.1111111111111111,
              "#46039f"
             ],
             [
              0.2222222222222222,
              "#7201a8"
             ],
             [
              0.3333333333333333,
              "#9c179e"
             ],
             [
              0.4444444444444444,
              "#bd3786"
             ],
             [
              0.5555555555555556,
              "#d8576b"
             ],
             [
              0.6666666666666666,
              "#ed7953"
             ],
             [
              0.7777777777777778,
              "#fb9f3a"
             ],
             [
              0.8888888888888888,
              "#fdca26"
             ],
             [
              1,
              "#f0f921"
             ]
            ],
            "type": "heatmap"
           }
          ],
          "heatmapgl": [
           {
            "colorbar": {
             "outlinewidth": 0,
             "ticks": ""
            },
            "colorscale": [
             [
              0,
              "#0d0887"
             ],
             [
              0.1111111111111111,
              "#46039f"
             ],
             [
              0.2222222222222222,
              "#7201a8"
             ],
             [
              0.3333333333333333,
              "#9c179e"
             ],
             [
              0.4444444444444444,
              "#bd3786"
             ],
             [
              0.5555555555555556,
              "#d8576b"
             ],
             [
              0.6666666666666666,
              "#ed7953"
             ],
             [
              0.7777777777777778,
              "#fb9f3a"
             ],
             [
              0.8888888888888888,
              "#fdca26"
             ],
             [
              1,
              "#f0f921"
             ]
            ],
            "type": "heatmapgl"
           }
          ],
          "histogram": [
           {
            "marker": {
             "pattern": {
              "fillmode": "overlay",
              "size": 10,
              "solidity": 0.2
             }
            },
            "type": "histogram"
           }
          ],
          "histogram2d": [
           {
            "colorbar": {
             "outlinewidth": 0,
             "ticks": ""
            },
            "colorscale": [
             [
              0,
              "#0d0887"
             ],
             [
              0.1111111111111111,
              "#46039f"
             ],
             [
              0.2222222222222222,
              "#7201a8"
             ],
             [
              0.3333333333333333,
              "#9c179e"
             ],
             [
              0.4444444444444444,
              "#bd3786"
             ],
             [
              0.5555555555555556,
              "#d8576b"
             ],
             [
              0.6666666666666666,
              "#ed7953"
             ],
             [
              0.7777777777777778,
              "#fb9f3a"
             ],
             [
              0.8888888888888888,
              "#fdca26"
             ],
             [
              1,
              "#f0f921"
             ]
            ],
            "type": "histogram2d"
           }
          ],
          "histogram2dcontour": [
           {
            "colorbar": {
             "outlinewidth": 0,
             "ticks": ""
            },
            "colorscale": [
             [
              0,
              "#0d0887"
             ],
             [
              0.1111111111111111,
              "#46039f"
             ],
             [
              0.2222222222222222,
              "#7201a8"
             ],
             [
              0.3333333333333333,
              "#9c179e"
             ],
             [
              0.4444444444444444,
              "#bd3786"
             ],
             [
              0.5555555555555556,
              "#d8576b"
             ],
             [
              0.6666666666666666,
              "#ed7953"
             ],
             [
              0.7777777777777778,
              "#fb9f3a"
             ],
             [
              0.8888888888888888,
              "#fdca26"
             ],
             [
              1,
              "#f0f921"
             ]
            ],
            "type": "histogram2dcontour"
           }
          ],
          "mesh3d": [
           {
            "colorbar": {
             "outlinewidth": 0,
             "ticks": ""
            },
            "type": "mesh3d"
           }
          ],
          "parcoords": [
           {
            "line": {
             "colorbar": {
              "outlinewidth": 0,
              "ticks": ""
             }
            },
            "type": "parcoords"
           }
          ],
          "pie": [
           {
            "automargin": true,
            "type": "pie"
           }
          ],
          "scatter": [
           {
            "fillpattern": {
             "fillmode": "overlay",
             "size": 10,
             "solidity": 0.2
            },
            "type": "scatter"
           }
          ],
          "scatter3d": [
           {
            "line": {
             "colorbar": {
              "outlinewidth": 0,
              "ticks": ""
             }
            },
            "marker": {
             "colorbar": {
              "outlinewidth": 0,
              "ticks": ""
             }
            },
            "type": "scatter3d"
           }
          ],
          "scattercarpet": [
           {
            "marker": {
             "colorbar": {
              "outlinewidth": 0,
              "ticks": ""
             }
            },
            "type": "scattercarpet"
           }
          ],
          "scattergeo": [
           {
            "marker": {
             "colorbar": {
              "outlinewidth": 0,
              "ticks": ""
             }
            },
            "type": "scattergeo"
           }
          ],
          "scattergl": [
           {
            "marker": {
             "colorbar": {
              "outlinewidth": 0,
              "ticks": ""
             }
            },
            "type": "scattergl"
           }
          ],
          "scattermapbox": [
           {
            "marker": {
             "colorbar": {
              "outlinewidth": 0,
              "ticks": ""
             }
            },
            "type": "scattermapbox"
           }
          ],
          "scatterpolar": [
           {
            "marker": {
             "colorbar": {
              "outlinewidth": 0,
              "ticks": ""
             }
            },
            "type": "scatterpolar"
           }
          ],
          "scatterpolargl": [
           {
            "marker": {
             "colorbar": {
              "outlinewidth": 0,
              "ticks": ""
             }
            },
            "type": "scatterpolargl"
           }
          ],
          "scatterternary": [
           {
            "marker": {
             "colorbar": {
              "outlinewidth": 0,
              "ticks": ""
             }
            },
            "type": "scatterternary"
           }
          ],
          "surface": [
           {
            "colorbar": {
             "outlinewidth": 0,
             "ticks": ""
            },
            "colorscale": [
             [
              0,
              "#0d0887"
             ],
             [
              0.1111111111111111,
              "#46039f"
             ],
             [
              0.2222222222222222,
              "#7201a8"
             ],
             [
              0.3333333333333333,
              "#9c179e"
             ],
             [
              0.4444444444444444,
              "#bd3786"
             ],
             [
              0.5555555555555556,
              "#d8576b"
             ],
             [
              0.6666666666666666,
              "#ed7953"
             ],
             [
              0.7777777777777778,
              "#fb9f3a"
             ],
             [
              0.8888888888888888,
              "#fdca26"
             ],
             [
              1,
              "#f0f921"
             ]
            ],
            "type": "surface"
           }
          ],
          "table": [
           {
            "cells": {
             "fill": {
              "color": "#EBF0F8"
             },
             "line": {
              "color": "white"
             }
            },
            "header": {
             "fill": {
              "color": "#C8D4E3"
             },
             "line": {
              "color": "white"
             }
            },
            "type": "table"
           }
          ]
         },
         "layout": {
          "annotationdefaults": {
           "arrowcolor": "#2a3f5f",
           "arrowhead": 0,
           "arrowwidth": 1
          },
          "autotypenumbers": "strict",
          "coloraxis": {
           "colorbar": {
            "outlinewidth": 0,
            "ticks": ""
           }
          },
          "colorscale": {
           "diverging": [
            [
             0,
             "#8e0152"
            ],
            [
             0.1,
             "#c51b7d"
            ],
            [
             0.2,
             "#de77ae"
            ],
            [
             0.3,
             "#f1b6da"
            ],
            [
             0.4,
             "#fde0ef"
            ],
            [
             0.5,
             "#f7f7f7"
            ],
            [
             0.6,
             "#e6f5d0"
            ],
            [
             0.7,
             "#b8e186"
            ],
            [
             0.8,
             "#7fbc41"
            ],
            [
             0.9,
             "#4d9221"
            ],
            [
             1,
             "#276419"
            ]
           ],
           "sequential": [
            [
             0,
             "#0d0887"
            ],
            [
             0.1111111111111111,
             "#46039f"
            ],
            [
             0.2222222222222222,
             "#7201a8"
            ],
            [
             0.3333333333333333,
             "#9c179e"
            ],
            [
             0.4444444444444444,
             "#bd3786"
            ],
            [
             0.5555555555555556,
             "#d8576b"
            ],
            [
             0.6666666666666666,
             "#ed7953"
            ],
            [
             0.7777777777777778,
             "#fb9f3a"
            ],
            [
             0.8888888888888888,
             "#fdca26"
            ],
            [
             1,
             "#f0f921"
            ]
           ],
           "sequentialminus": [
            [
             0,
             "#0d0887"
            ],
            [
             0.1111111111111111,
             "#46039f"
            ],
            [
             0.2222222222222222,
             "#7201a8"
            ],
            [
             0.3333333333333333,
             "#9c179e"
            ],
            [
             0.4444444444444444,
             "#bd3786"
            ],
            [
             0.5555555555555556,
             "#d8576b"
            ],
            [
             0.6666666666666666,
             "#ed7953"
            ],
            [
             0.7777777777777778,
             "#fb9f3a"
            ],
            [
             0.8888888888888888,
             "#fdca26"
            ],
            [
             1,
             "#f0f921"
            ]
           ]
          },
          "colorway": [
           "#636efa",
           "#EF553B",
           "#00cc96",
           "#ab63fa",
           "#FFA15A",
           "#19d3f3",
           "#FF6692",
           "#B6E880",
           "#FF97FF",
           "#FECB52"
          ],
          "font": {
           "color": "#2a3f5f"
          },
          "geo": {
           "bgcolor": "white",
           "lakecolor": "white",
           "landcolor": "#E5ECF6",
           "showlakes": true,
           "showland": true,
           "subunitcolor": "white"
          },
          "hoverlabel": {
           "align": "left"
          },
          "hovermode": "closest",
          "mapbox": {
           "style": "light"
          },
          "paper_bgcolor": "white",
          "plot_bgcolor": "#E5ECF6",
          "polar": {
           "angularaxis": {
            "gridcolor": "white",
            "linecolor": "white",
            "ticks": ""
           },
           "bgcolor": "#E5ECF6",
           "radialaxis": {
            "gridcolor": "white",
            "linecolor": "white",
            "ticks": ""
           }
          },
          "scene": {
           "xaxis": {
            "backgroundcolor": "#E5ECF6",
            "gridcolor": "white",
            "gridwidth": 2,
            "linecolor": "white",
            "showbackground": true,
            "ticks": "",
            "zerolinecolor": "white"
           },
           "yaxis": {
            "backgroundcolor": "#E5ECF6",
            "gridcolor": "white",
            "gridwidth": 2,
            "linecolor": "white",
            "showbackground": true,
            "ticks": "",
            "zerolinecolor": "white"
           },
           "zaxis": {
            "backgroundcolor": "#E5ECF6",
            "gridcolor": "white",
            "gridwidth": 2,
            "linecolor": "white",
            "showbackground": true,
            "ticks": "",
            "zerolinecolor": "white"
           }
          },
          "shapedefaults": {
           "line": {
            "color": "#2a3f5f"
           }
          },
          "ternary": {
           "aaxis": {
            "gridcolor": "white",
            "linecolor": "white",
            "ticks": ""
           },
           "baxis": {
            "gridcolor": "white",
            "linecolor": "white",
            "ticks": ""
           },
           "bgcolor": "#E5ECF6",
           "caxis": {
            "gridcolor": "white",
            "linecolor": "white",
            "ticks": ""
           }
          },
          "title": {
           "x": 0.05
          },
          "xaxis": {
           "automargin": true,
           "gridcolor": "white",
           "linecolor": "white",
           "ticks": "",
           "title": {
            "standoff": 15
           },
           "zerolinecolor": "white",
           "zerolinewidth": 2
          },
          "yaxis": {
           "automargin": true,
           "gridcolor": "white",
           "linecolor": "white",
           "ticks": "",
           "title": {
            "standoff": 15
           },
           "zerolinecolor": "white",
           "zerolinewidth": 2
          }
         }
        },
        "title": {
         "text": "Slice Plot"
        },
        "xaxis": {
         "title": {
          "text": "learning_rate"
         },
         "type": "log"
        },
        "yaxis": {
         "title": {
          "text": "Objective Value"
         }
        }
       }
      }
     },
     "metadata": {},
     "output_type": "display_data"
    },
    {
     "data": {
      "text/plain": [
       "[None, None, None, None, None, None, None]"
      ]
     },
     "execution_count": 6,
     "metadata": {},
     "output_type": "execute_result"
    }
   ],
   "source": [
    "[p.show() for p in plot_all_graphs(study)]"
   ]
  },
  {
   "cell_type": "code",
   "execution_count": null,
   "metadata": {},
   "outputs": [
    {
     "name": "stdout",
     "output_type": "stream",
     "text": [
      "0 0.08984477072954178\n",
      "latent_var=13.339285534494932\n",
      "learning_rate=0.009252959936155412\n",
      "1 0.09185034781694412\n",
      "latent_var=9.187041861689142\n",
      "learning_rate=0.008271958605178608\n",
      "2 0.13691693544387817\n",
      "latent_var=10.857922464884126\n",
      "learning_rate=0.007551443799887486\n",
      "3 0.090205118060112\n",
      "latent_var=6.597635792863475\n",
      "learning_rate=0.00664035270179558\n",
      "4 0.09486766904592514\n",
      "latent_var=15.488541474093097\n",
      "learning_rate=0.000551997400142105\n",
      "5 0.09263670444488525\n",
      "latent_var=7.952653078259665\n",
      "learning_rate=0.0031855697378757146\n",
      "6 0.09362006187438965\n",
      "latent_var=0.3398423667666477\n",
      "learning_rate=0.0006553373401379021\n",
      "7 0.08878293633460999\n",
      "latent_var=8.572822116509224\n",
      "learning_rate=0.00521848319814735\n",
      "8 0.08879867941141129\n",
      "latent_var=19.374125372018135\n",
      "learning_rate=0.008462451968032077\n",
      "9 0.08884141594171524\n",
      "latent_var=7.830222927973974\n",
      "learning_rate=0.008986793123177636\n",
      "10 0.09059719741344452\n",
      "latent_var=14.372692230507264\n",
      "learning_rate=0.006086947635984334\n",
      "11 0.08910026401281357\n",
      "latent_var=10.160571301426893\n",
      "learning_rate=0.0037763239139272085\n",
      "12 0.0878392681479454\n",
      "latent_var=3.6866278135394097\n",
      "learning_rate=0.004745485134702535\n",
      "13 0.08942393958568573\n",
      "latent_var=11.440509985795197\n",
      "learning_rate=0.005231511937604309\n",
      "14 0.09006502479314804\n",
      "latent_var=7.415519031514834\n",
      "learning_rate=0.0028486262629021436\n",
      "15 0.09069792181253433\n",
      "latent_var=3.5630277760164955\n",
      "learning_rate=0.004482724927563602\n",
      "16 0.09106888622045517\n",
      "latent_var=2.2062509243826023\n",
      "learning_rate=0.005343139650069926\n",
      "17 0.08904247730970383\n",
      "latent_var=11.824005554034512\n",
      "learning_rate=0.006572923502673919\n",
      "18 0.09142008423805237\n",
      "latent_var=4.202579003097859\n",
      "learning_rate=0.0015252976601666302\n",
      "19 0.09078272432088852\n",
      "latent_var=13.157054017621103\n",
      "learning_rate=0.009833674704634122\n",
      "20 None\n",
      "latent_var=18.616114284129733\n",
      "learning_rate=0.00831448421819524\n",
      "21 None\n",
      "latent_var=5.413161778722386\n",
      "learning_rate=0.004168879270977447\n",
      "22 0.09366471320390701\n",
      "learning_rate=0.002181449010996265\n",
      "23 0.09195179492235184\n",
      "learning_rate=0.005305469144076739\n",
      "24 0.09173581004142761\n",
      "learning_rate=0.007905031841346395\n",
      "25 0.08979155123233795\n",
      "learning_rate=0.004096524733933738\n",
      "26 0.08911366015672684\n",
      "learning_rate=0.004308038944298213\n",
      "27 0.09016500413417816\n",
      "learning_rate=0.006203663365536476\n",
      "28 0.09319379180669785\n",
      "learning_rate=0.0074421712770919935\n",
      "29 0.094014011323452\n",
      "learning_rate=0.0071739725151601635\n",
      "30 0.09235415607690811\n",
      "learning_rate=0.002771752826066394\n",
      "31 0.09089115262031555\n",
      "learning_rate=0.009564524469896713\n",
      "32 0.0902697741985321\n",
      "learning_rate=0.004708615666910425\n",
      "33 0.09256621450185776\n",
      "learning_rate=0.0035752773509829857\n",
      "34 0.09162291139364243\n",
      "learning_rate=0.008810170579220459\n",
      "35 0.09154237806797028\n",
      "learning_rate=0.009437662023256231\n",
      "36 0.09025866538286209\n",
      "learning_rate=0.00984175713486467\n",
      "37 0.09303883463144302\n",
      "learning_rate=0.0057547181782970315\n",
      "38 0.09090610593557358\n",
      "learning_rate=0.0038420076859802237\n",
      "39 0.09013881534337997\n",
      "learning_rate=0.007508869529877883\n",
      "40 0.09063998609781265\n",
      "learning_rate=0.004899381830175817\n",
      "41 0.09361304342746735\n",
      "learning_rate=0.0016278453924711014\n",
      "42 0.09103047102689743\n",
      "learning_rate=0.002155947349577266\n",
      "43 0.08908738195896149\n",
      "learning_rate=0.008935366305767719\n",
      "44 0.09048968553543091\n",
      "learning_rate=0.006992400104524394\n",
      "45 0.08953971415758133\n",
      "learning_rate=0.009477083963608806\n",
      "46 0.0937112346291542\n",
      "learning_rate=0.008179292694107936\n",
      "47 0.09238503128290176\n",
      "learning_rate=0.00862052637666681\n",
      "48 0.0886339545249939\n",
      "learning_rate=0.003787649316850325\n",
      "49 0.0913177877664566\n",
      "learning_rate=0.009024575914766526\n",
      "50 0.0896134153008461\n",
      "learning_rate=0.0069794814588735226\n",
      "51 0.09072092175483704\n",
      "learning_rate=0.005803913827771293\n"
     ]
    }
   ],
   "source": [
    "for trial in study.trials:\n",
    "    # if trial.number == 8:\n",
    "    print(trial.number, trial.value)\n",
    "    for k,v in trial.params.items():\n",
    "        print(f\"{k}={v}\")\n",
    "    "
   ]
  },
  {
   "cell_type": "code",
   "execution_count": null,
   "metadata": {},
   "outputs": [
    {
     "data": {
      "text/plain": [
       "[(\"<class 'dict'>\", 73000),\n",
       " (\"<class 'function'>\", 69410),\n",
       " (\"<class 'tuple'>\", 54705),\n",
       " (\"<class 'list'>\", 45177),\n",
       " (\"<class 'asttokens.util.Token'>\", 25669),\n",
       " (\"<class 'cell'>\", 20542),\n",
       " (\"<class 'weakref.ReferenceType'>\", 18109),\n",
       " (\"<class 'builtin_function_or_method'>\", 14593),\n",
       " (\"<class 'getset_descriptor'>\", 11306),\n",
       " (\"<class 'parso.python.tree.Operator'>\", 7926),\n",
       " (\"<class 'type'>\", 7269),\n",
       " (\"<class 'method_descriptor'>\", 7219),\n",
       " (\"<class 'set'>\", 6069),\n",
       " (\"<class 'parso.pgen2.generator.DFAPlan'>\", 5418),\n",
       " (\"<class 'inspect.Parameter'>\", 5033),\n",
       " (\"<class 'parso.python.tree.Name'>\", 4987),\n",
       " (\"<class 'wrapper_descriptor'>\", 4710),\n",
       " (\"<class 'parso.python.tree.PythonNode'>\", 4288),\n",
       " (\"<class 'ast.Name'>\", 4113),\n",
       " (\"<class 'property'>\", 3428),\n",
       " (\"<class 'module'>\", 3391),\n",
       " (\"<class '_frozen_importlib.ModuleSpec'>\", 3370),\n",
       " (\"<class '_frozen_importlib_external.SourceFileLoader'>\", 3074),\n",
       " (\"<class 'member_descriptor'>\", 2973),\n",
       " (\"<class 'parso.pgen2.grammar_parser.NFAArc'>\", 2738),\n",
       " (\"<class 'parso.pgen2.grammar_parser.NFAState'>\", 2382),\n",
       " (\"<class 'staticmethod'>\", 2133),\n",
       " (\"<class 'method'>\", 1633),\n",
       " (\"<class 'frozenset'>\", 1630),\n",
       " (\"<class 'ast.Attribute'>\", 1528),\n",
       " (\"<class 'classmethod'>\", 1489),\n",
       " (\"<class 'parso.python.tree.Param'>\", 1415),\n",
       " (\"<class 'ast.Constant'>\", 1317),\n",
       " (\"<class 'instancemethod'>\", 1287),\n",
       " (\"<class 'collections.OrderedDict'>\", 1263),\n",
       " (\"<class 'fused_cython_function'>\", 1199),\n",
       " (\"<class 'ast.Call'>\", 1123),\n",
       " (\"<class 'parso.python.tree.Newline'>\", 1084),\n",
       " (\"<class 'torch._ops.OpOverload'>\", 1066),\n",
       " (\"<class 'builtin_method'>\", 997),\n",
       " (\"<class 'typing._GenericAlias'>\", 977),\n",
       " (\"<class 'typing._UnionGenericAlias'>\", 971),\n",
       " (\"<class 'parso.python.tree.Keyword'>\", 959),\n",
       " (\"<class '_abc._abc_data'>\", 881),\n",
       " (\"<class '_collections._tuplegetter'>\", 878),\n",
       " (\"<class 'abc.ABCMeta'>\", 813),\n",
       " (\"<class 'parso.pgen2.generator.DFAState'>\", 805),\n",
       " (\"<class 'ast.Assign'>\", 703),\n",
       " (\"<class 'parso.python.tree.Function'>\", 688),\n",
       " (\"<class 're.Pattern'>\", 667),\n",
       " (\"<class 'functools.partial'>\", 597),\n",
       " (\"<class 'ast.arg'>\", 535),\n",
       " (\"<class 'mappingproxy'>\", 530),\n",
       " (\"<class 'inspect.Signature'>\", 517),\n",
       " (\"<class 'numpy.vectorize'>\", 510),\n",
       " (\"<class 'torch._ops.OpOverloadPacket'>\", 484),\n",
       " (\"<class 'ast.Expr'>\", 456),\n",
       " (\"<class 'types.FontEntry'>\", 455),\n",
       " (\"<class 'collections.deque'>\", 418),\n",
       " (\"<class '_frozen_importlib_external.FileFinder'>\", 406),\n",
       " (\"<class 'sqlalchemy.sql.visitors.TraversibleType'>\", 349),\n",
       " (\"<class 'torch.Tensor'>\", 342),\n",
       " (\"<class 'cython_function_or_method'>\", 327),\n",
       " (\"<class 'pygments.lexer.include'>\", 324),\n",
       " (\"<class 'jedi.inference.gradual.typeshed.PathInfo'>\", 321),\n",
       " (\"<class 'ast.keyword'>\", 299),\n",
       " (\"<class 'traitlets.traitlets.Unicode'>\", 294),\n",
       " (\"<class 'pkg_resources._vendor.pyparsing.core.ParserElement.DebugActions'>\",\n",
       "  286),\n",
       " (\"<class 'setuptools._vendor.pyparsing.core.ParserElement.DebugActions'>\",\n",
       "  286),\n",
       " (\"<class 'ast.If'>\", 272),\n",
       " (\"<class 'operator.attrgetter'>\", 267),\n",
       " (\"<class 'typing.ForwardRef'>\", 266),\n",
       " (\"<class '_frozen_importlib_external.ExtensionFileLoader'>\", 259),\n",
       " (\"<class 'pybind11_builtins.pybind11_type'>\", 252),\n",
       " (\"<class 'sqlalchemy.sql.elements.BindParameter'>\", 235),\n",
       " (\"<class 'ast.Subscript'>\", 234),\n",
       " (\"<class 'sqlalchemy.event.attr._EmptyListener'>\", 222),\n",
       " (\"<class 'ast.arguments'>\", 219),\n",
       " (\"<class 'ast.FunctionDef'>\", 213),\n",
       " (\"<class 'sqlalchemy.orm.attributes.AttributeEvent'>\", 211),\n",
       " (\"<class 'pyparsing.core.ParserElement.DebugActions'>\", 210),\n",
       " (\"<class 'operator.itemgetter'>\", 209),\n",
       " (\"<class 'ast.alias'>\", 208),\n",
       " (\"<class 'ast.Tuple'>\", 204),\n",
       " (\"<class 'typing._CallableGenericAlias'>\", 201),\n",
       " (\"<class 'traitlets.traitlets.MetaHasTraits'>\", 198),\n",
       " (\"<class 'sqlalchemy.sql.compiler._CompileLabel'>\", 196),\n",
       " (\"<class 'sqlalchemy.cimmutabledict.immutabledict'>\", 180),\n",
       " (\"<class 'pygments.token._TokenType'>\", 179),\n",
       " (\"<class 'sqlalchemy.event.base.DDLEventsDispatch'>\", 175),\n",
       " (\"<class 'ast.Compare'>\", 171),\n",
       " (\"<class 'parso.pgen2.generator.ReservedString'>\", 167),\n",
       " (\"<class 'parso.python.tree.Decorator'>\", 165),\n",
       " (\"<class 'sqlalchemy.sql.sqltypes.Integer'>\", 165),\n",
       " (\"<class 'sqlalchemy.util.langhelpers.memoized_property'>\", 162),\n",
       " (\"<class 'torchvision.models._api.Weights'>\", 161),\n",
       " (\"<class 'ast.Return'>\", 160),\n",
       " (\"<class 'sqlalchemy.util.langhelpers._symbol'>\", 157),\n",
       " (\"<class 'weakref.WeakKeyDictionary'>\", 154),\n",
       " (\"<class 'traitlets.traitlets.Bool'>\", 153),\n",
       " (\"<class 'sqlalchemy.sql.elements.BinaryExpression'>\", 153),\n",
       " (\"<enum 'Keys'>\", 151),\n",
       " (\"<class 'typing.TypeVar'>\", 149),\n",
       " (\"<class 'pkg_resources.PathMetadata'>\", 147),\n",
       " (\"<class 'pandas._libs.properties.CachedProperty'>\", 143),\n",
       " (\"<class 'pkg_resources.DistInfoDistribution'>\", 133),\n",
       " (\"<class 'slice'>\", 132),\n",
       " (\"<class 'sqlalchemy.event.attr._ListenerCollection'>\", 132),\n",
       " (\"<class 'enum.EnumMeta'>\", 126),\n",
       " (\"<class 'matplotlib.colors.LinearSegmentedColormap'>\", 126),\n",
       " (\"<class 'ast.ImportFrom'>\", 125),\n",
       " (\"<class 'ast.BinOp'>\", 124),\n",
       " (\"<class 'functools._lru_cache_wrapper'>\", 121),\n",
       " (\"<class 'torchvision._utils.StrEnumMeta'>\", 119),\n",
       " (\"<class 'sqlalchemy.sql.base.prefix_anon_map'>\", 115),\n",
       " (\"<class 'PIL.TiffTags.TagInfo'>\", 114),\n",
       " (\"<class 'logging.Logger'>\", 113),\n",
       " (\"<class 'pygments.lexer.words'>\", 111),\n",
       " (\"<class 'classmethod_descriptor'>\", 110),\n",
       " (\"<class 'torch._prims_common.wrappers.elementwise_type_promotion_wrapper'>\",\n",
       "  110),\n",
       " (\"<class 'frame'>\", 107),\n",
       " (\"<class 'dataclasses.Field'>\", 106),\n",
       " (\"<class 'pkg_resources._vendor.pyparsing.core.And'>\", 106),\n",
       " (\"<class 'setuptools._vendor.pyparsing.core.And'>\", 106),\n",
       " (\"<class 'sqlalchemy.sql.selectable.Select'>\", 106),\n",
       " (\"<class 'sqlalchemy.event.attr._ClsLevelDispatch'>\", 103),\n",
       " (\"<enum 'SocketOption'>\", 102),\n",
       " (\"<class 'parso.python.tree.ExprStmt'>\", 99),\n",
       " (\"<class 'pygments.lexer.RegexLexerMeta'>\", 97),\n",
       " (\"<class 'parso.python.tree.Class'>\", 95),\n",
       " (\"<class 'sqlalchemy.dialects.sqlite.base.SQLiteCompiler'>\", 95),\n",
       " (\"<class 'traitlets.config.loader.Config'>\", 94),\n",
       " (\"<class 'torch.utils._pytree.NodeDef'>\", 94),\n",
       " (\"<class 'pyparsing.core.And'>\", 92),\n",
       " (\"<class 'sqlalchemy.orm.attributes.InstrumentedAttribute'>\", 92),\n",
       " (\"<class '_thread.lock'>\", 88),\n",
       " (\"<class 'six.MovedAttribute'>\", 88),\n",
       " (\"<class 'urllib3.packages.six.MovedAttribute'>\", 88),\n",
       " (\"<class 'sqlalchemy.sql.elements._anonymous_label'>\", 87),\n",
       " (\"<class 'traitlets.traitlets.Instance'>\", 82),\n",
       " (\"<class 'stack_data.core.Line'>\", 79),\n",
       " (\"<class 'pandas._config.config.RegisteredOption'>\", 78),\n",
       " (\"<class 'sqlalchemy.sql.functions._GenericMeta'>\", 76),\n",
       " (\"<class 'sqlalchemy.sql.schema.Column'>\", 76),\n",
       " (\"<class 'IPython.core.magic_arguments.argument'>\", 75),\n",
       " (\"<class 'sqlalchemy.sql.base.DedupeColumnCollection'>\", 75),\n",
       " (\"<class 'sre_constants._NamedIntConstant'>\", 74),\n",
       " (\"<class 'torch.autograd.function.FunctionMeta'>\", 73),\n",
       " (\"<class 'sqlalchemy.orm.properties.ColumnProperty.Comparator'>\", 72),\n",
       " (\"<class 'sqlalchemy.orm.properties.ColumnProperty'>\", 72),\n",
       " (\"<class 'sqlalchemy.sql.sqltypes._LookupExpressionAdapter.Comparator'>\", 70),\n",
       " (\"<class 'torch.nn.parameter.Parameter'>\", 70),\n",
       " (\"<class 'traitlets.traitlets.ObserveHandler'>\", 69),\n",
       " (\"<class 'pickletools.OpcodeInfo'>\", 68),\n",
       " (\"<class 'sqlalchemy.event.base.AttributeEventsDispatch'>\", 68),\n",
       " (\"<class 'sqlalchemy.util.langhelpers.HasMemoized.memoized_attribute'>\", 65),\n",
       " (\"<class 'ast.ExceptHandler'>\", 65),\n",
       " (\"<class 'ast.UnaryOp'>\", 64),\n",
       " (\"<class 'sqlalchemy.sql.annotation.AnnotatedColumn'>\", 63),\n",
       " (\"<class 'pygments.lexer.default'>\", 62),\n",
       " (\"<enum 'HTTPStatus'>\", 62),\n",
       " (\"<class 'sqlalchemy.sql.traversals.CacheKey'>\", 62),\n",
       " (\"<class 'matplotlib._api.deprecation.deprecated.<locals>.deprecate.<locals>._deprecated_property'>\",\n",
       "  61),\n",
       " (\"<class 'ast.Try'>\", 59),\n",
       " (\"<class 'optuna.trial._frozen.FrozenTrial'>\", 58),\n",
       " (\"<class 'optuna.distributions.LogUniformDistribution'>\", 58),\n",
       " (\"<class 'ast.Raise'>\", 58),\n",
       " (\"<class '_thread.RLock'>\", 57),\n",
       " (\"<class 'pkg_resources._vendor.pyparsing.core._SingleCharLiteral'>\", 56),\n",
       " (\"<class 'pyparsing.core.Regex'>\", 56),\n",
       " (\"<class 'setuptools._vendor.pyparsing.core._SingleCharLiteral'>\", 56),\n",
       " (\"<class 'traitlets.traitlets.Any'>\", 55),\n",
       " (\"<class 'pkg_resources._vendor.pyparsing.core.Regex'>\", 55),\n",
       " (\"<class 'parso.python.tree.Number'>\", 55),\n",
       " (\"<class 'sqlalchemy.orm.clsregistry._MultipleClassMarker'>\", 55),\n",
       " (\"<class 'setuptools._vendor.pyparsing.core.Regex'>\", 55),\n",
       " (\"<class 'ipykernel.comm.comm.Comm'>\", 55),\n",
       " (\"<class 'sqlalchemy.sql.compiler.FromLinter'>\", 55),\n",
       " (\"<class 'sqlalchemy.orm.path_registry.PropRegistry'>\", 53),\n",
       " (\"<class 'pybind11_builtins.pybind11_static_property'>\", 51),\n",
       " (\"<class 'pyparsing.core._SingleCharLiteral'>\", 51),\n",
       " (\"<class 'sqlalchemy.orm.context.ORMSelectCompileState'>\", 51),\n",
       " (\"<class 'sqlalchemy.engine.cursor.CursorResultMetaData'>\", 51),\n",
       " (\"<class 'sqlalchemy.orm.context.ORMCompileState.default_compile_options'>\",\n",
       "  51),\n",
       " (\"<class 'logging.PlaceHolder'>\", 50),\n",
       " (\"<class 'prompt_toolkit.key_binding.key_bindings.Binding'>\", 49),\n",
       " (\"<class 'ast.List'>\", 48),\n",
       " (\"<class 'sqlalchemy.orm.strategies.ColumnLoader'>\", 47),\n",
       " (\"<class 'sqlalchemy.orm.attributes.ScalarAttributeImpl'>\", 47),\n",
       " (\"<class 'sqlalchemy.orm.context._MapperEntity'>\", 47),\n",
       " (\"<class 'sqlalchemy.engine.util.tuplegetter'>\", 47),\n",
       " (\"<class 'six.MovedModule'>\", 46),\n",
       " (\"<class 'urllib3.packages.six.MovedModule'>\", 46),\n",
       " (\"<class 'ast.For'>\", 46),\n",
       " (\"<class 'StgDict'>\", 45),\n",
       " (\"<class 'traitlets.traitlets.Int'>\", 44),\n",
       " (\"<class 'sqlalchemy.sql.sqltypes.String'>\", 44),\n",
       " (\"<class 'ipaddress.IPv6Address'>\", 43),\n",
       " (\"<class 'sklearn.metrics._scorer._PredictScorer'>\", 43),\n",
       " (\"<class 'traitlets.traitlets.List'>\", 41),\n",
       " (\"<class 'traitlets.traitlets.DefaultHandler'>\", 41),\n",
       " (\"<class 'argparse._StoreAction'>\", 41),\n",
       " (\"<class 'pkg_resources._vendor.pyparsing.core.Opt'>\", 41),\n",
       " (\"<class 'setuptools._vendor.pyparsing.core.Opt'>\", 41),\n",
       " (\"<class 'matplotlib.colors.ListedColormap'>\", 40),\n",
       " (\"<class 'sqlalchemy.orm.relationships.RelationshipProperty.Comparator'>\",\n",
       "  40),\n",
       " (\"<class 'sqlalchemy.sql.elements._truncated_label'>\", 40),\n",
       " (\"<class 'ast.Import'>\", 39),\n",
       " (\"<class '_struct.Struct'>\", 39),\n",
       " (\"<enum 'Event'>\", 39),\n",
       " (\"<class 'typing._SpecialGenericAlias'>\", 38),\n",
       " (\"<class 'traitlets.traitlets.Dict'>\", 38),\n",
       " (\"<class 'pygments.lexer.combined'>\", 38),\n",
       " (\"<class 'argparse._ArgumentGroup'>\", 38),\n",
       " (\"<class 'torch.Size'>\", 38),\n",
       " (\"<class 'sqlalchemy.util._collections.OrderedSet'>\", 38),\n",
       " (\"<class 'torch.utils.data.datapipes._typing._IterDataPipeMeta'>\", 37),\n",
       " (\"<class 'pyparsing.core.Opt'>\", 37),\n",
       " (\"<class 'sqlalchemy.sql.elements.quoted_name'>\", 37),\n",
       " (\"<class 'traitlets.traitlets.CaselessStrEnum'>\", 35),\n",
       " (\"<class 'pkg_resources._vendor.pyparsing.core.Literal'>\", 35),\n",
       " (\"<class 'torch.ao.quantization.observer._PartialWrapper'>\", 35),\n",
       " (\"<class 'torchvision.datasets.cityscapes.CityscapesClass'>\", 35),\n",
       " (\"<class 'setuptools._vendor.pyparsing.core.Literal'>\", 35),\n",
       " (\"<class 'threading.Condition'>\", 34),\n",
       " (\"<enum '_TLSAlertType'>\", 34),\n",
       " (\"<class 'traitlets.traitlets.ValidateHandler'>\", 34),\n",
       " (\"<class 'dataclasses._DataclassParams'>\", 34),\n",
       " (\"<class 'PIL.ImageMode.ModeDescriptor'>\", 34),\n",
       " (\"<class 'collections.defaultdict'>\", 33),\n",
       " (\"<class 'sqlalchemy.event.base.QueryEventsDispatch'>\", 32),\n",
       " (\"<enum 'Signals'>\", 31),\n",
       " (\"<class 'operator.methodcaller'>\", 31),\n",
       " (\"<enum 'Negsignal'>\", 31),\n",
       " (\"<class 'torch.storage._LegacyStorageMeta'>\", 31),\n",
       " (\"<class 'torchvision.models._utils._ModelURLs'>\", 31),\n",
       " (\"<class 'matplotlib.RcParams'>\", 31),\n",
       " (\"<class 'ast.BoolOp'>\", 31),\n",
       " (\"<class 'traitlets.traitlets.Type'>\", 30),\n",
       " (\"<class 'prompt_toolkit.filters.base.Condition'>\", 30),\n",
       " (\"<class 'torch.distributions.utils.lazy_property'>\", 30),\n",
       " (\"<class 'ipaddress.IPv4Address'>\", 30),\n",
       " (\"<class 'sqlalchemy.sql.dml.InsertDMLState'>\", 30),\n",
       " (\"<class 'weakref.KeyedRef'>\", 29),\n",
       " (\"<class 'torch._utils._ClassPropertyDescriptor'>\", 29),\n",
       " (\"<class 'sqlalchemy.sql.base.ColumnCollection'>\", 29),\n",
       " (\"<class 'torch._sources.SourceContext'>\", 28),\n",
       " (\"<class 'ipaddress.IPv6Network'>\", 28),\n",
       " (\"<class 'uarray._Function'>\", 28),\n",
       " (\"<enum 'AlertDescription'>\", 27),\n",
       " (\"<class '_ctypes.PyCSimpleType'>\", 27),\n",
       " (\"<class 'sqlalchemy.util.langhelpers.portable_instancemethod'>\", 27),\n",
       " (\"<class 'numpy.ma.core._MaskedUnaryOperation'>\", 26),\n",
       " (\"<class 'numpy.ma.core._frommethod'>\", 26),\n",
       " (\"<class 'matplotlib.rcsetup.ValidateInStrings'>\", 26),\n",
       " (\"<class 'sqlalchemy.sql.sqltypes.Text'>\", 26),\n",
       " (\"<class 'sqlalchemy.util._collections.WeakSequence'>\", 26),\n",
       " (\"<enum 'Errno'>\", 25),\n",
       " (\"<class 'abc.abstractproperty'>\", 25),\n",
       " (\"<class 'argparse._StoreTrueAction'>\", 25),\n",
       " (\"<class 'sqlalchemy.engine.result.SimpleResultMetaData'>\", 25),\n",
       " (\"<enum 'RegexFlag'>\", 24),\n",
       " (\"<enum 'Diagnostics'>\", 24),\n",
       " (\"<class 'pkg_resources._vendor.pyparsing.core.MatchFirst'>\", 24),\n",
       " (\"<class 'pickletools.ArgumentDescriptor'>\", 24),\n",
       " (\"<class 'pandas.compat.numpy.function.CompatValidator'>\", 24),\n",
       " (\"<class 'setuptools._vendor.pyparsing.core.MatchFirst'>\", 24),\n",
       " (\"<class 'parso.python.tree.IfStmt'>\", 23),\n",
       " (\"<class 'sqlalchemy.orm.clsregistry._ModuleMarker'>\", 23),\n",
       " (\"<class 'sqlalchemy.orm.clsregistry._ModNS'>\", 23),\n",
       " (\"<class 'sqlalchemy.sql.schema.Table'>\", 23),\n",
       " (\"<class 'sqlalchemy.sql.schema.PrimaryKeyConstraint'>\", 23),\n",
       " (\"<class 'sqlalchemy.sql.base.ImmutableColumnCollection'>\", 23),\n",
       " (\"<class 'ast.withitem'>\", 23),\n",
       " (\"<enum '_TLSMessageType'>\", 22),\n",
       " (\"<class 'torch.autograd.grad_mode.no_grad'>\", 22),\n",
       " (\"<class 'torch.distributions.constraints._DependentProperty'>\", 22),\n",
       " (\"<class 'sqlalchemy.sql.sqltypes.Float'>\", 22),\n",
       " (\"<class 'sqlalchemy.orm.decl_api.DeclarativeMeta'>\", 22),\n",
       " (\"<class 'pandas._libs.missing.__pyx_scope_struct___create_binary_propagating_op'>\",\n",
       "  22),\n",
       " (\"<class 'scipy._lib._testutils.PytestTester'>\", 22),\n",
       " (\"<class 'scipy.spatial.distance.MetricInfo'>\", 22),\n",
       " (\"<class 'sklearn.utils.metaestimators._AvailableIfDescriptor'>\", 22),\n",
       " (\"<class 'torch.nn.modules.container.Sequential'>\", 22),\n",
       " (\"<class 'ast.With'>\", 22),\n",
       " (\"<class 'ast.Dict'>\", 22),\n",
       " (\"<class '_contextvars.Context'>\", 21),\n",
       " (\"<enum 'SocketType'>\", 21),\n",
       " (\"<class 'pkg_resources._vendor.pyparsing.core.Suppress'>\", 21),\n",
       " (\"<class 'parso.python.tree.String'>\", 21),\n",
       " (\"<class 'torch.ao.quantization.qconfig.QConfig'>\", 21),\n",
       " (\"<class 'setuptools._vendor.pyparsing.core.Suppress'>\", 21),\n",
       " (\"<class 'ast.Pass'>\", 21),\n",
       " (\"<class 'typing._ProtocolMeta'>\", 20),\n",
       " (\"<class 'weakref.WeakValueDictionary'>\", 20),\n",
       " (\"<class 'jedi.inference.filters._OverwriteMeta'>\", 20),\n",
       " (\"<class 'sqlalchemy.event.base.InstanceEventsDispatch'>\", 20),\n",
       " (\"<class 'sqlalchemy.event.base.MapperEventsDispatch'>\", 20),\n",
       " (\"<class 'sqlalchemy.orm.relationships.RelationshipProperty'>\", 20),\n",
       " (\"<class 'sqlalchemy.orm.util.CascadeOptions'>\", 20),\n",
       " (\"<class 'pandas.core.dtypes.generic.ABCBase'>\", 20),\n",
       " (\"<class 'sqlalchemy.orm.relationships.JoinCondition'>\", 20),\n",
       " (\"<class 'sqlalchemy.orm.strategies.LazyLoader'>\", 20),\n",
       " (\"<class 'ipywidgets.widgets.widget_layout.Layout'>\", 20),\n",
       " (\"<class 'ipywidgets.widgets.widget.CallbackDispatcher'>\", 20),\n",
       " (\"<class 'sqlalchemy.orm.strategy_options._UnboundLoad'>\", 20),\n",
       " (\"<class 'itertools.count'>\", 19),\n",
       " (\"<class 'IPython.core.magic_arguments.MagicArgumentParser'>\", 19),\n",
       " (\"<class 'ipaddress.IPv4Network'>\", 19),\n",
       " (\"<class 'matplotlib.path.Path'>\", 19),\n",
       " (\"<class 'sqlalchemy.ext.compiler._dispatcher'>\", 19),\n",
       " (\"<class 'sqlalchemy.orm.instrumentation.ClassManager'>\", 19),\n",
       " (\"<class 'sqlalchemy.orm.mapper.Mapper'>\", 19),\n",
       " (\"<class 'sqlalchemy.orm.mapper._ColumnMapping'>\", 19),\n",
       " (\"<class 'ast.FormattedValue'>\", 19),\n",
       " (\"<class 'coroutine'>\", 18),\n",
       " (\"<class 'stack_data.utils.cached_property'>\", 18),\n",
       " (\"<class 'pkg_resources._vendor.pyparsing.core.Combine'>\", 18),\n",
       " (\"<class 'numpy.ma.core._MaskedBinaryOperation'>\", 18),\n",
       " (\"<class 'pickletools.StackObject'>\", 18),\n",
       " (\"<class 'traitlets.traitlets.CFloat'>\", 18),\n",
       " (\"<class 'setuptools._vendor.pyparsing.core.Combine'>\", 18),\n",
       " (\"<class 'torch.nn.modules.activation.LeakyReLU'>\", 18),\n",
       " (\"<enum '_Precedence'>\", 17),\n",
       " (\"<enum 'JitScalarType'>\", 17),\n",
       " (\"<class 'ast.Delete'>\", 17),\n",
       " (\"<class 'typing._LiteralGenericAlias'>\", 16),\n",
       " (\"<class 'cycler.Cycler'>\", 16),\n",
       " (\"<class 'sqlalchemy.sql.operators.custom_op'>\", 16),\n",
       " (\"<class 'pandas._libs.tslibs.offsets.__pyx_scope_struct_2_apply_wraps'>\",\n",
       "  16),\n",
       " (\"<class 'ast.Starred'>\", 16),\n",
       " (\"<class '_thread._local'>\", 15),\n",
       " (\"<class 'pyparsing.core.Combine'>\", 15),\n",
       " (\"<class 'sqlalchemy.orm.strategy_options.loader_option'>\", 15),\n",
       " (\"<class 'sqlalchemy.sql.schema.ForeignKeyConstraint'>\", 15),\n",
       " (\"<class 'sqlalchemy.sql.schema.ForeignKey'>\", 15),\n",
       " (\"<class 'ast.Assert'>\", 15),\n",
       " (\"<class 'zmq.sugar.frame.Frame'>\", 14),\n",
       " (\"<class 'asyncio.events.Handle'>\", 14),\n",
       " (\"<class 'zmq.sugar.socket.Socket'>\", 14),\n",
       " (\"<class 'method-wrapper'>\", 14),\n",
       " (\"<class 'functools.cached_property'>\", 14),\n",
       " (\"<class 'IPython.utils.ipstruct.Struct'>\", 14),\n",
       " (\"<class 'pygments.lexer.LexerMeta'>\", 14),\n",
       " (\"<class 'types.GenericAlias'>\", 14),\n",
       " (\"<class 'pkg_resources._vendor.pyparsing.core._WordRegex'>\", 14),\n",
       " (\"<class 'pkg_resources.EggInfoDistribution'>\", 14),\n",
       " (\"<class 'numpy.ma.core._convert2ma'>\", 14),\n",
       " (\"<class 'traitlets.traitlets.CInt'>\", 14),\n",
       " (\"<class 'pyparsing.core.MatchFirst'>\", 14),\n",
       " (\"<class 'sqlalchemy.sql.sqltypes.Enum'>\", 14),\n",
       " (\"<class 'scipy.spatial.distance.CDistMetricWrapper'>\", 14),\n",
       " (\"<class 'scipy.spatial.distance.PDistMetricWrapper'>\", 14),\n",
       " (\"<class 'setuptools._vendor.pyparsing.core._WordRegex'>\", 14),\n",
       " (\"<class 'threading.Event'>\", 13),\n",
       " (\"<class 'traceback'>\", 13),\n",
       " (\"<class '_ctypes.PyCFuncPtrType'>\", 13),\n",
       " (\"<class 'traitlets.traitlets.ObjectName'>\", 13),\n",
       " (\"<enum 'PythonTokenTypes'>\", 13),\n",
       " (\"<class 'parso.python.token.TokenType'>\", 13),\n",
       " (\"<class 'ipywidgets.widgets.trait_types.TypedTuple'>\", 13),\n",
       " (\"<class 'sqlalchemy.event.base._EventMeta'>\", 13),\n",
       " (\"<class 'sqlalchemy.event.base.dispatcher'>\", 13),\n",
       " (\"<class 'sqlalchemy.sql.elements.ClauseList'>\", 13),\n",
       " (\"<enum 'FreqGroup'>\", 13),\n",
       " (\"<class 'sqlalchemy.sql.elements.BooleanClauseList'>\", 13),\n",
       " (\"<class 'ast.IfExp'>\", 13),\n",
       " (\"<class '_weakrefset.WeakSet'>\", 12),\n",
       " (\"<enum 'Options'>\", 12),\n",
       " (\"<class 'traitlets.traitlets.CUnicode'>\", 12),\n",
       " (\"<class 'IPython.utils.coloransi.ColorScheme'>\", 12),\n",
       " (\"<class 'pathlib.PosixPath'>\", 12),\n",
       " (\"<enum 'CompilerFlags'>\", 12),\n",
       " (\"<class 'IPython.core.alias.Alias'>\", 12),\n",
       " (\"<class 'ipywidgets.widgets.trait_types.InstanceDict'>\", 12),\n",
       " (\"<class 'torch.library.Library'>\", 12),\n",
       " (\"<class 'pyparsing.core.Suppress'>\", 12),\n",
       " (\"<class 'sqlalchemy.sql.schema.UniqueConstraint'>\", 12),\n",
       " (\"<class 'sqlalchemy.sql.annotation.AnnotatedBindParameter'>\", 12),\n",
       " (\"<class 'ast.ClassDef'>\", 12),\n",
       " (\"<class '_pydevd_bundle.pydevd_constants.ForkSafeLock'>\", 11),\n",
       " (\"<enum 'Compare'>\", 11),\n",
       " (\"<class 'IPython.core.hooks.CommandChainDispatcher'>\", 11),\n",
       " (\"<class 'functools.partialmethod'>\", 11),\n",
       " (\"<class 'pandas.core.nanops.disallow'>\", 11),\n",
       " (\"<class 'torch.nn.modules.linear.Linear'>\", 11),\n",
       " (\"<class 'ast.AnnAssign'>\", 11),\n",
       " (\"<class 'ast.JoinedStr'>\", 11),\n",
       " (\"<class 'ast.comprehension'>\", 10),\n",
       " (\"<class 'stack_data.core.FrameInfo'>\", 10),\n",
       " (\"<class 'executing.executing.Executing'>\", 10),\n",
       " (\"<enum 'AddressFamily'>\", 10),\n",
       " (\"<enum 'MsgFlag'>\", 10),\n",
       " (\"<enum 'AddressInfo'>\", 10),\n",
       " (\"<class '__future__._Feature'>\", 10),\n",
       " (\"<class 'abc.SignalDict'>\", 10),\n",
       " (\"<class 'traitlets.traitlets.Float'>\", 10),\n",
       " (\"<enum 'MouseButton'>\", 10),\n",
       " (\"<class 'argparse._StoreFalseAction'>\", 10),\n",
       " (\"<class 'numpy._pytesttester.PytestTester'>\", 10),\n",
       " (\"<class 'torch.testing._legacy._dispatch_dtypes'>\", 10),\n",
       " (\"<class 'importlib.metadata._text.FoldedCase'>\", 10),\n",
       " (\"<class 'sqlalchemy.util._collections.PopulateDict'>\", 10),\n",
       " (\"<class 'sqlalchemy.util._collections.LRUCache'>\", 10),\n",
       " (\"<class 'mako.parsetree._TagMeta'>\", 10),\n",
       " (\"<enum 'Resolution'>\", 10),\n",
       " (\"<class 'sqlalchemy.orm.dependency.ManyToOneDP'>\", 10),\n",
       " (\"<class 'sqlalchemy.orm.dependency.DetectKeySwitch'>\", 10),\n",
       " (\"<class 'sqlalchemy.orm.dependency.OneToManyDP'>\", 10),\n",
       " (\"<class 'sqlalchemy.orm.attributes.CollectionAttributeImpl'>\", 10),\n",
       " (\"<class 'sqlalchemy.orm.attributes.ScalarObjectAttributeImpl'>\", 10),\n",
       " (\"<class 'ipywidgets.widgets.widget_string.HTML'>\", 10),\n",
       " (\"<class 'ipywidgets.widgets.widget_description.DescriptionStyle'>\", 10),\n",
       " (\"<class 'sqlalchemy.sql.dml.UpdateDMLState'>\", 10),\n",
       " (\"<class 'sqlalchemy.dialects.sqlite.base.DATETIME'>\", 10),\n",
       " (\"<class 'sqlalchemy.orm.strategy_options.Load'>\", 10),\n",
       " (\"<class 'sqlalchemy.sql.annotation.AnnotatedClauseList'>\", 10),\n",
       " (\"<class 'sqlalchemy.orm.context._BundleEntity'>\", 10),\n",
       " (\"<class 'sqlalchemy.orm.util.Bundle'>\", 10),\n",
       " (\"<class 'sqlalchemy.orm.path_registry.SlotsEntityRegistry'>\", 10),\n",
       " (\"<class 'sqlalchemy.orm.context._RawColumnEntity'>\", 10),\n",
       " (\"<class 'torch.nn.modules.batchnorm.BatchNorm2d'>\", 10),\n",
       " (\"<class '_asyncio.Future'>\", 9),\n",
       " (\"<class 'ast.Module'>\", 9),\n",
       " (\"<class 'typing._SpecialForm'>\", 9),\n",
       " (\"<enum 'SSLErrorNumber'>\", 9),\n",
       " (\"<enum 'ContextOption'>\", 9),\n",
       " (\"<class 'traitlets.traitlets.DottedObjectName'>\", 9),\n",
       " (\"<enum 'SortKey'>\", 9),\n",
       " (\"<class 'psutil._psosx.scputimes'>\", 9),\n",
       " (\"<class 'torch.utils.data.datapipes._typing._DataPipeMeta'>\", 9),\n",
       " (\"<enum 'DLDeviceType'>\", 9),\n",
       " (\"<class 'sqlalchemy.orm.path_registry.CachingEntityRegistry'>\", 9),\n",
       " (\"<class 'sqlalchemy.sql.annotation.AnnotatedTable'>\", 9),\n",
       " (\"<class 'ast.Slice'>\", 9),\n",
       " (\"<class 'ast.Break'>\", 9),\n",
       " (\"<class 'pkg_resources._vendor.pyparsing.core.ZeroOrMore'>\", 8),\n",
       " (\"<class 'selectors.SelectorKey'>\", 8),\n",
       " (\"<class 'pyparsing.core._WordRegex'>\", 8),\n",
       " (\"<class 'matplotlib._mathtext._GlueSpec'>\", 8),\n",
       " (\"<class 'sqlalchemy.util.langhelpers.hybridmethod'>\", 8),\n",
       " (\"<class 'sqlalchemy.sql.schema.MetaData'>\", 8),\n",
       " (\"<class 'sqlalchemy.util._collections.FacadeDict'>\", 8),\n",
       " (\"<class 'pandas._libs.tslibs.offsets.__pyx_scope_struct__apply_index_wraps'>\",\n",
       "  8),\n",
       " (\"<class 'pandas._libs.tslibs.offsets.__pyx_scope_struct_1_apply_array_wraps'>\",\n",
       "  8),\n",
       " (\"<class 'pandas.core.accessor.CachedAccessor'>\", 8),\n",
       " (\"<class 'setuptools._vendor.pyparsing.core.ZeroOrMore'>\", 8),\n",
       " (\"<class 'torch.nn.modules.batchnorm.BatchNorm1d'>\", 8),\n",
       " (\"<class 'ast.AugAssign'>\", 8),\n",
       " (\"<class 'IPython.core.interactiveshell.ExecutionInfo'>\", 7),\n",
       " (\"<class 'IPython.core.interactiveshell.ExecutionResult'>\", 7),\n",
       " (\"<class 'stack_data.core.Source'>\", 7),\n",
       " (\"<class 'asttokens.asttokens.ASTTokens'>\", 7),\n",
       " (\"<class 'asttokens.line_numbers.LineNumbers'>\", 7),\n",
       " (\"<enum 'VerifyFlags'>\", 7),\n",
       " (\"<enum 'TLSVersion'>\", 7),\n",
       " (\"<class 'dateutil._common.weekday'>\", 7),\n",
       " (\"<enum 'CursorShape'>\", 7),\n",
       " (\"<class 'pkg_resources._vendor.pyparsing.unicode._lazyclassproperty'>\", 7),\n",
       " (\"<enum 'PackagingErrorReason'>\", 7),\n",
       " (\"<class 'traitlets.traitlets.Tuple'>\", 7),\n",
       " (\"<class 'parso.python.tree.ImportFrom'>\", 7),\n",
       " (\"<class 'torch.fx.graph._CustomBuiltin'>\", 7),\n",
       " (\"<enum 'Transpose'>\", 7),\n",
       " (\"<class 'pyparsing.unicode._lazyclassproperty'>\", 7),\n",
       " (\"<class 'pyparsing.core.Literal'>\", 7),\n",
       " (\"<enum 'Cursors'>\", 7),\n",
       " (\"<class 'dateutil.rrule.weekday'>\", 7),\n",
       " (\"<class 'sqlalchemy.sql.visitors._InternalTraversalType'>\", 7),\n",
       " (\"<class 'sqlalchemy.sql.base._MetaOptions'>\", 7),\n",
       " (\"<class 'sqlalchemy.sql.sqltypes.DateTime'>\", 7),\n",
       " (\"<class 'alembic.ddl.impl.ImplMeta'>\", 7),\n",
       " (\"<class 'alembic.util.langhelpers.Dispatcher'>\", 7),\n",
       " (\"<class 'scipy._lib._threadsafety.ReentrancyLock'>\", 7),\n",
       " (\"<class 'setuptools._vendor.pyparsing.unicode._lazyclassproperty'>\", 7),\n",
       " (\"<class 'sklearn.metrics._scorer._ProbaScorer'>\", 7),\n",
       " (\"<class 'sqlalchemy.util._collections.ImmutableProperties'>\", 7),\n",
       " (\"<class 'sqlalchemy.sql.dml.Insert'>\", 7),\n",
       " (\"<class 'sqlalchemy.sql.dml.Update'>\", 7),\n",
       " (\"<class 'concurrent.futures._base.Future'>\", 6),\n",
       " (\"<class 'ast.GeneratorExp'>\", 6),\n",
       " (\"<class 'codecs.CodecInfo'>\", 6),\n",
       " (\"<class 'logging.PercentStyle'>\", 6),\n",
       " (\"<enum '_SSLMethod'>\", 6),\n",
       " (\"<enum '_TLSContentType'>\", 6),\n",
       " (\"<class 'ctypes.CFUNCTYPE.<locals>.CFunctionType'>\", 6),\n",
       " (\"<enum 'PollEvent'>\", 6),\n",
       " (\"<class 'traitlets.traitlets.Enum'>\", 6),\n",
       " (\"<class 'traitlets.traitlets.Set'>\", 6),\n",
       " (\"<class 'pkg_resources._vendor.pyparsing.core.Empty'>\", 6),\n",
       " (\"<enum 'OpAssoc'>\", 6),\n",
       " (\"<class 'socket.socket'>\", 6),\n",
       " (\"<class 'IPython.core.magic.MagicAlias'>\", 6),\n",
       " (\"<class 'numpy.ma.core._DomainedBinaryOperation'>\", 6),\n",
       " (\"<class 'numpy.ma.core._DomainSafeDivide'>\", 6),\n",
       " (\"<class 'numpy.core.getlimits.MachArLike'>\", 6),\n",
       " (\"<enum '_ModuleProviderAction'>\", 6),\n",
       " (\"<class 'torch._ops._OpNamespace'>\", 6),\n",
       " (\"<enum 'ELEMENTWISE_TYPE_PROMOTION_KIND'>\", 6),\n",
       " (\"<enum 'Resampling'>\", 6),\n",
       " (\"<enum 'InterpolationMode'>\", 6),\n",
       " (\"<enum 'Raft_Large_Weights'>\", 6),\n",
       " (\"<class 'pyparsing.core.ZeroOrMore'>\", 6),\n",
       " (\"<class 'sqlalchemy.sql.sqltypes.NullType'>\", 6),\n",
       " (\"<class 'optuna._imports._DeferredImportExceptionContextManager'>\", 6),\n",
       " (\"<class 'pandas.core.nanops.bottleneck_switch'>\", 6),\n",
       " (\"<class 'setuptools._vendor.pyparsing.core.Empty'>\", 6),\n",
       " (\"<class 'sqlalchemy.sql.dml.Delete'>\", 6),\n",
       " (\"<class 'sqlalchemy.sql.annotation.AnnotatedBinaryExpression'>\", 6),\n",
       " (\"<class 'tqdm.std.EMA'>\", 6),\n",
       " (\"<class 'torch.nn.modules.conv.Conv2d'>\", 6),\n",
       " (\"<class 'list_iterator'>\", 5),\n",
       " (\"<class 'pygments.style.StyleMeta'>\", 5),\n",
       " (\"<class '_io.TextIOWrapper'>\", 5),\n",
       " (\"<class '_io.FileIO'>\", 5),\n",
       " (\"<class 'ast._ABC'>\", 5),\n",
       " (\"<enum '_ParameterKind'>\", 5),\n",
       " (\"<enum 'SocketKind'>\", 5),\n",
       " (\"<class 'prompt_toolkit.cache.SimpleCache'>\", 5),\n",
       " (\"<enum 'InputMode'>\", 5),\n",
       " (\"<enum 'MouseEventType'>\", 5),\n",
       " (\"<class 'generator'>\", 5),\n",
       " (\"<class 'traitlets.traitlets.CBool'>\", 5),\n",
       " (\"<class 'traceback.FrameSummary'>\", 5),\n",
       " (\"<class 'pkg_resources._vendor.pyparsing.core.Group'>\", 5),\n",
       " (\"<class 'logging.StreamHandler'>\", 5),\n",
       " (\"<class 'zmq.eventloop.zmqstream.ZMQStream'>\", 5),\n",
       " (\"<class 'zmq.sugar.poll.Poller'>\", 5),\n",
       " (\"<class 'queue.Queue'>\", 5),\n",
       " (\"<class 'tornado.locks.Event'>\", 5),\n",
       " (\"<class 'sqlite3.Node'>\", 5),\n",
       " (\"<class 'sqlite3.Statement'>\", 5),\n",
       " (\"<class 'numpy.core.numerictypes._typedict'>\", 5),\n",
       " (\"<class 'numpy.random._generator.Enum'>\", 5),\n",
       " (\"<class 'numpy.ma.extras._fromnxfunction_seq'>\", 5),\n",
       " (\"<class 'torch.backends.ContextProp'>\", 5),\n",
       " (\"<class 'ipywidgets.widgets.trait_types.NumberFormat'>\", 5),\n",
       " (\"<class 'torch.distributions.constraints._IndependentConstraint'>\", 5),\n",
       " (\"<enum 'Transform'>\", 5),\n",
       " (\"<enum 'ImageReadMode'>\", 5),\n",
       " (\"<class '_cffi_backend.CType'>\", 5),\n",
       " (\"<enum 'DviState'>\", 5),\n",
       " (\"<enum 'TrialState'>\", 5),\n",
       " (\"<class 'sqlalchemy.util.langhelpers.EnsureKWArgType'>\", 5),\n",
       " (\"<class 'pandas._libs.tslibs.timezones.Enum'>\", 5),\n",
       " (\"<class 'pandas._libs.tslibs.tzconversion.Enum'>\", 5),\n",
       " (\"<class 'pandas._libs.tslibs.strptime.Enum'>\", 5),\n",
       " (\"<class 'pandas._libs.tslibs.fields.Enum'>\", 5),\n",
       " (\"<class 'pandas._libs.tslibs.timedeltas.Enum'>\", 5),\n",
       " (\"<class 'pandas._libs.tslibs.timestamps.Enum'>\", 5),\n",
       " (\"<class 'pandas._libs.tslibs.offsets.Enum'>\", 5),\n",
       " (\"<class 'pandas._libs.tslibs.parsing.Enum'>\", 5),\n",
       " (\"<class 'pandas._libs.tslibs.conversion.Enum'>\", 5),\n",
       " (\"<class 'pandas._libs.tslibs.period.Enum'>\", 5),\n",
       " (\"<class 'pandas._libs.tslibs.vectorized.Enum'>\", 5),\n",
       " (\"<class 'pandas._libs.hashtable.Enum'>\", 5),\n",
       " (\"<class 'pandas._libs.algos.Enum'>\", 5),\n",
       " (\"<class 'pandas._libs.interval.Enum'>\", 5),\n",
       " (\"<class 'pandas._libs.lib.Enum'>\", 5),\n",
       " (\"<class 'pandas._libs.hashing.Enum'>\", 5),\n",
       " (\"<class 'pandas._libs.ops.Enum'>\", 5),\n",
       " (\"<class 'pandas._libs.index.Enum'>\", 5),\n",
       " (\"<class 'pandas._libs.join.Enum'>\", 5),\n",
       " (\"<class 'pandas._libs.sparse.Enum'>\", 5),\n",
       " (\"<class 'pandas._libs.internals.Enum'>\", 5),\n",
       " (\"<class 'pandas._libs.writers.Enum'>\", 5),\n",
       " (\"<class 'pandas._libs.window.aggregations.Enum'>\", 5),\n",
       " (\"<class 'pandas._libs.window.indexers.Enum'>\", 5),\n",
       " (\"<class 'pandas._libs.reshape.Enum'>\", 5),\n",
       " (\"<class 'pandas._libs.groupby.Enum'>\", 5),\n",
       " (\"<class 'pandas._libs.parsers.Enum'>\", 5),\n",
       " (\"<class 'scipy.linalg._cythonized_array_utils.Enum'>\", 5),\n",
       " (\"<class 'scipy.linalg._solve_toeplitz.Enum'>\", 5),\n",
       " (\"<class 'scipy.linalg.cython_blas.Enum'>\", 5),\n",
       " (\"<class 'scipy.linalg._matfuncs_expm.Enum'>\", 5),\n",
       " (\"<class 'scipy.sparse._csparsetools.Enum'>\", 5),\n",
       " (\"<class 'scipy.sparse.csgraph._shortest_path.Enum'>\", 5),\n",
       " (\"<class 'scipy.sparse.csgraph._min_spanning_tree.Enum'>\", 5),\n",
       " (\"<class 'scipy.sparse.csgraph._flow.Enum'>\", 5),\n",
       " (\"<class 'scipy.sparse.csgraph._matching.Enum'>\", 5),\n",
       " (\"<class 'scipy.sparse.csgraph._reordering.Enum'>\", 5),\n",
       " (\"<class 'scipy.spatial._ckdtree.Enum'>\", 5),\n",
       " (\"<class 'scipy.spatial._qhull.Enum'>\", 5),\n",
       " (\"<class 'scipy.spatial._voronoi.Enum'>\", 5),\n",
       " (\"<class 'scipy.spatial._hausdorff.Enum'>\", 5),\n",
       " (\"<class 'scipy.spatial.transform._rotation.Enum'>\", 5),\n",
       " (\"<class '_ni_label.Enum'>\", 5),\n",
       " (\"<class 'scipy.optimize._trlib._trlib.Enum'>\", 5),\n",
       " (\"<class 'scipy.optimize._lsq.givens_elimination.Enum'>\", 5),\n",
       " (\"<class 'scipy.optimize._highs.cython.src._highs_wrapper.Enum'>\", 5),\n",
       " (\"<class 'scipy.optimize._bglu_dense.Enum'>\", 5),\n",
       " (\"<class 'scipy.stats._stats.Enum'>\", 5),\n",
       " (\"<class 'scipy.interpolate._bspl.Enum'>\", 5),\n",
       " (\"<class 'scipy.interpolate._ppoly.Enum'>\", 5),\n",
       " (\"<class 'scipy.interpolate.interpnd.Enum'>\", 5),\n",
       " (\"<class 'scipy.stats._sobol.Enum'>\", 5),\n",
       " (\"<class 'scipy.stats._qmc_cy.Enum'>\", 5),\n",
       " (\"<class 'scipy.stats._unuran.unuran_wrapper.Enum'>\", 5),\n",
       " (\"<class 'setuptools._vendor.pyparsing.core.Group'>\", 5),\n",
       " (\"<class 'sklearn.utils._logistic_sigmoid.Enum'>\", 5),\n",
       " (\"<class 'sklearn.utils.sparsefuncs_fast.Enum'>\", 5),\n",
       " (\"<class 'sklearn.preprocessing._csr_polynomial_expansion.Enum'>\", 5),\n",
       " (\"<class 'sklearn.utils._readonly_array_wrapper.Enum'>\", 5),\n",
       " (\"<class 'sklearn.metrics._dist_metrics.Enum'>\", 5),\n",
       " (\"<class 'sklearn.utils._cython_blas.Enum'>\", 5),\n",
       " (\"<class 'sklearn.metrics._pairwise_distances_reduction.Enum'>\", 5),\n",
       " (\"<class 'sklearn.metrics._pairwise_fast.Enum'>\", 5),\n",
       " (\"<class 'sklearn.neighbors._ball_tree.Enum'>\", 5),\n",
       " (\"<class 'sklearn.neighbors._kd_tree.Enum'>\", 5),\n",
       " (\"<class 'sklearn.decomposition._cdnmf_fast.Enum'>\", 5),\n",
       " (\"<class 'sklearn.utils.arrayfuncs.Enum'>\", 5),\n",
       " (\"<class 'sklearn.linear_model._cd_fast.Enum'>\", 5),\n",
       " (\"<class 'sklearn._loss._loss.Enum'>\", 5),\n",
       " (\"<class 'sklearn.utils._weight_vector.Enum'>\", 5),\n",
       " (\"<class 'sklearn.linear_model._sgd_fast.Enum'>\", 5),\n",
       " (\"<class 'sklearn.tree._utils.Enum'>\", 5),\n",
       " (\"<class 'sklearn.neighbors._quad_tree.Enum'>\", 5),\n",
       " (\"<class 'sklearn.tree._tree.Enum'>\", 5),\n",
       " (\"<class 'sklearn.tree._splitter.Enum'>\", 5),\n",
       " (\"<class 'sklearn.tree._criterion.Enum'>\", 5),\n",
       " (\"<class 'sklearn.ensemble._gradient_boosting.Enum'>\", 5),\n",
       " (\"<class 'sklearn.ensemble._hist_gradient_boosting._gradient_boosting.Enum'>\",\n",
       "  5),\n",
       " (\"<class 'sklearn.ensemble._hist_gradient_boosting._binning.Enum'>\", 5),\n",
       " (\"<class 'sklearn.ensemble._hist_gradient_boosting._bitset.Enum'>\", 5),\n",
       " (\"<class 'sklearn.ensemble._hist_gradient_boosting.splitting.Enum'>\", 5),\n",
       " (\"<class 'sklearn.ensemble._hist_gradient_boosting.histogram.Enum'>\", 5),\n",
       " (\"<class 'sklearn.ensemble._hist_gradient_boosting._predictor.Enum'>\", 5),\n",
       " (\"<class 'sklearn.ensemble._hist_gradient_boosting.utils.Enum'>\", 5),\n",
       " (\"<class 'ipywidgets.widgets.widget_int.ProgressStyle'>\", 5),\n",
       " (\"<class 'tqdm.notebook.TqdmHBox'>\", 5),\n",
       " (\"<class 'sqlalchemy.orm.strategies.SelectInLoader'>\", 5),\n",
       " (\"<class 'sqlalchemy.orm.strategies.queryinfo'>\", 5),\n",
       " (\"<class 'ipywidgets.widgets.widget_float.FloatProgress'>\", 5),\n",
       " (\"<class 'weakref.ProxyType'>\", 5),\n",
       " (\"<class 'sqlalchemy.dialects.sqlite.pysqlite.SQLiteDialect_pysqlite'>\", 5),\n",
       " (\"<class 'sqlalchemy.dialects.sqlite.base.SQLiteIdentifierPreparer'>\", 5),\n",
       " (\"<class 'sqlalchemy.dialects.sqlite.base.SQLiteTypeCompiler'>\", 5),\n",
       " (\"<class 'torch.nn.modules.conv.ConvTranspose2d'>\", 5),\n",
       " (\"<class 'alembic.script.base.Script'>\", 5),\n",
       " (\"<class 'ast.Continue'>\", 5),\n",
       " (\"<class '_io.StringIO'>\", 4),\n",
       " (\"<class 'encodings.utf_8.IncrementalEncoder'>\", 4),\n",
       " (\"<enum '_OptType'>\", 4),\n",
       " (\"<enum 'SecurityMechanism'>\", 4),\n",
       " (\"<class 'uuid.UUID'>\", 4),\n",
       " (\"<enum '_ShutdownStatus'>\", 4),\n",
       " (\"<enum 'ColorDepth'>\", 4),\n",
       " (\"<enum 'VerticalAlign'>\", 4),\n",
       " (\"<enum 'HorizontalAlign'>\", 4),\n",
       " (\"<enum 'TextObjectType'>\", 4),\n",
       " (\"<class 'parso.normalizer._NormalizerMeta'>\", 4),\n",
       " (\"<class 'ctypes.CDLL.__init__.<locals>._FuncPtr'>\", 4),\n",
       " (\"<class 'tornado.queues.Queue'>\", 4),\n",
       " (\"<enum 'RPCExecMode'>\", 4),\n",
       " (\"<class 'torch.jit._script.ScriptMeta'>\", 4),\n",
       " (\"<class 'ipywidgets.widgets.trait_types.Color'>\", 4),\n",
       " (\"<enum 'ProfilerAction'>\", 4),\n",
       " (\"<enum 'QuantType'>\", 4),\n",
       " (\"<enum 'REDUCTION_OUTPUT_TYPE_KIND'>\", 4),\n",
       " (\"<enum 'Dither'>\", 4),\n",
       " (\"<enum 'Quantize'>\", 4),\n",
       " (\"<class 'logging.NullHandler'>\", 4),\n",
       " (\"<enum 'RegNet_Y_16GF_Weights'>\", 4),\n",
       " (\"<enum 'RegNet_Y_32GF_Weights'>\", 4),\n",
       " (\"<enum '_MathStyle'>\", 4),\n",
       " (\"<class 'matplotlib.category.StrCategoryConverter'>\", 4),\n",
       " (\"<class 'matplotlib.cbook.Grouper'>\", 4),\n",
       " (\"<class 'sqlalchemy.sql.sqltypes.Numeric'>\", 4),\n",
       " (\"<class 'alembic.util.langhelpers._ModuleClsMeta'>\", 4),\n",
       " (\"<class 'sqlalchemy.dialects.postgresql.array.ARRAY'>\", 4),\n",
       " (\"<class 'sqlalchemy.orm.decl_api.registry'>\", 4),\n",
       " (\"<class 'pandas._config.config.CallableDynamicDoc'>\", 4),\n",
       " (\"<class 'pandas._libs.tslibs.timedeltas.Timedelta'>\", 4),\n",
       " (\"<class 'pandas._libs.tslibs.timedeltas.__pyx_scope_struct_1__binary_op_method_timedeltalike'>\",\n",
       "  4),\n",
       " (\"<class 'pandas.io.parsers.readers._DeprecationConfig'>\", 4),\n",
       " (\"<class 'numpy.poly1d'>\", 4),\n",
       " (\"<class '_ctypes.CField'>\", 4),\n",
       " (\"<class 'sklearn._loss.link.Interval'>\", 4),\n",
       " (\"<class 'sqlalchemy.sql.selectable.SelectState'>\", 4),\n",
       " (\"<class 'sqlalchemy.engine.cursor.LegacyCursorResultMetaData'>\", 4),\n",
       " (\"<class 'sqlalchemy.orm.context._ORMColumnEntity'>\", 4),\n",
       " (\"<class 'ast.While'>\", 4),\n",
       " (\"<class 'ast.ListComp'>\", 4),\n",
       " (\"<class '_asyncio.FutureIter'>\", 3),\n",
       " (\"<class 'ast.Lambda'>\", 3),\n",
       " (\"<class 'zmq.sugar.context.Context'>\", 3),\n",
       " (\"<class '_sitebuiltins._Printer'>\", 3),\n",
       " (\"<class '_frozen_importlib_external._NamespaceLoader'>\", 3),\n",
       " (\"<class '_frozen_importlib_external._NamespacePath'>\", 3),\n",
       " (\"<class 're.Match'>\", 3),\n",
       " (\"<enum 'Sigmasks'>\", 3),\n",
       " (\"<class 'logging.Formatter'>\", 3),\n",
       " (\"<enum 'VerifyMode'>\", 3),\n",
       " (\"<enum '_SendfileMode'>\", 3),\n",
       " (\"<class 'ctypes.PYFUNCTYPE.<locals>.CFunctionType'>\", 3),\n",
       " (\"<class '_ctypes.PyCPointerType'>\", 3),\n",
       " (\"<class 'random.Random'>\", 3),\n",
       " (\"<enum 'MessageOption'>\", 3),\n",
       " (\"<enum 'Flag'>\", 3),\n",
       " (\"<enum 'DeviceType'>\", 3),\n",
       " (\"<class 'dataclasses._FIELD_BASE'>\", 3),\n",
       " (\"<enum 'SafeUUID'>\", 3),\n",
       " (\"<class 'traitlets.traitlets.CBytes'>\", 3),\n",
       " (\"<enum 'BlankLines'>\", 3),\n",
       " (\"<class 'IPython.utils.coloransi.ColorSchemeTable'>\", 3),\n",
       " (\"<class 'IPython.core.interactiveshell.SeparateUnicode'>\", 3),\n",
       " (\"<enum 'SelectionType'>\", 3),\n",
       " (\"<enum 'PasteMode'>\", 3),\n",
       " (\"<enum 'MouseModifier'>\", 3),\n",
       " (\"<enum 'ValidationState'>\", 3),\n",
       " (\"<enum 'WindowAlign'>\", 3),\n",
       " (\"<enum 'CPR_Support'>\", 3),\n",
       " (\"<enum 'CompleteStyle'>\", 3),\n",
       " (\"<class 'jedi.inference.flow_analysis.Status'>\", 3),\n",
       " (\"<class 'jedi.inference.compiled.value.CheckAttribute'>\", 3),\n",
       " (\"<class 'jedi.inference.cache.CachedMetaClass'>\", 3),\n",
       " (\"<class 'contextlib._GeneratorContextManager'>\", 3),\n",
       " (\"<enum 'NicDuplex'>\", 3),\n",
       " (\"<class 'traitlets.traitlets.Bytes'>\", 3),\n",
       " (\"<class 'pkg_resources._vendor.pyparsing.core.LineEnd'>\", 3),\n",
       " (\"<class 'pkg_resources._vendor.pyparsing.core.NotAny'>\", 3),\n",
       " (\"<enum 'Change'>\", 3),\n",
       " (\"<class 'hamt'>\", 3),\n",
       " (\"<class 'hamt_bitmap_node'>\", 3),\n",
       " (\"<class 'asyncio.unix_events._UnixSelectorEventLoop'>\", 3),\n",
       " (\"<class 'selectors.KqueueSelector'>\", 3),\n",
       " (\"<class 'selectors._SelectorMapping'>\", 3),\n",
       " (\"<class 'threading.Thread'>\", 3),\n",
       " (\"<class '_asyncio.Task'>\", 3),\n",
       " (\"<enum '_CopyMode'>\", 3),\n",
       " (\"<class 'numpy.iinfo'>\", 3),\n",
       " (\"<class 'numpy.random.mtrand.RandomState'>\", 3),\n",
       " (\"<class 'numpy.random._mt19937.MT19937'>\", 3),\n",
       " (\"<class 'numpy.random.bit_generator.SeedSequence'>\", 3),\n",
       " (\"<class 'numpy.ma.core._DomainGreater'>\", 3),\n",
       " (\"<class 'numpy.ma.core._DomainCheckInterval'>\", 3),\n",
       " (\"<class 'numpy.ma.extras._fromnxfunction_allargs'>\", 3),\n",
       " (\"<class 'torch.overrides.TorchFunctionModeMeta'>\", 3),\n",
       " (\"<class 'torch._C._TensorMeta'>\", 3),\n",
       " (\"<class 'typing_extensions._SpecialForm'>\", 3),\n",
       " (\"<enum 'OptState'>\", 3),\n",
       " (\"<enum '_OrthMaps'>\", 3),\n",
       " (\"<enum 'RuntimeTypeCheckState'>\", 3),\n",
       " (\"<class 'torch.distributions.constraints._Dependent'>\", 3),\n",
       " (\"<enum '_SnapshotState'>\", 3),\n",
       " (\"<enum 'RETURN_TYPE'>\", 3),\n",
       " (\"<class 'torch.utils._python_dispatch.TorchDispatchModeMeta'>\", 3),\n",
       " (\"<enum 'ELEMENTWISE_PRIM_TYPE_PROMOTION_KIND'>\", 3),\n",
       " (\"<enum 'Reduction'>\", 3),\n",
       " (\"<enum 'BrotliEncoderMode'>\", 3),\n",
       " (\"<class '_csv.Dialect'>\", 3),\n",
       " (\"<enum 'AutoAugmentPolicy'>\", 3),\n",
       " (\"<enum 'ViT_B_16_Weights'>\", 3),\n",
       " (\"<enum 'ViT_L_16_Weights'>\", 3),\n",
       " (\"<enum 'Disposal'>\", 3),\n",
       " (\"<class 'pyparsing.core.LineEnd'>\", 3),\n",
       " (\"<class 'pyparsing.core.Group'>\", 3),\n",
       " (\"<class 'pyparsing.core.NotAny'>\", 3),\n",
       " (\"<enum 'JoinStyle'>\", 3),\n",
       " (\"<enum 'CapStyle'>\", 3),\n",
       " (\"<enum '_Mode'>\", 3),\n",
       " (\"<enum 'StudyDirection'>\", 3),\n",
       " (\"<class 'sqlalchemy.event.base.ConnectionEventsDispatch'>\", 3),\n",
       " (\"<class 'sqlalchemy.event.base.PoolEventsDispatch'>\", 3),\n",
       " (\"<class 'mako.util.memoized_property'>\", 3),\n",
       " (\"<class 'sqlalchemy.sql.elements.Grouping'>\", 3),\n",
       " (\"<class 'pandas._libs.tslibs.timedeltas.__pyx_scope_struct___op_unary_method'>\",\n",
       "  3),\n",
       " (\"<class 'pandas.core.indexes.frozen.FrozenList'>\", 3),\n",
       " (\"<class 'pandas._libs.properties.AxisProperty'>\", 3),\n",
       " (\"<enum 'BadLineHandleMethod'>\", 3),\n",
       " (\"<class 'scipy.optimize._bglu_dense.__pyx_scope_struct___consider_refactor'>\",\n",
       "  3),\n",
       " (\"<class 'scipy.stats._continuous_distns.reciprocal_gen'>\", 3),\n",
       " (\"<class 'setuptools._vendor.pyparsing.core.LineEnd'>\", 3),\n",
       " (\"<class 'setuptools._vendor.pyparsing.core.NotAny'>\", 3),\n",
       " (\"<class 'email._header_value_parser.ValueTerminal'>\", 3),\n",
       " (\"<class 'sklearn.metrics._scorer._ThresholdScorer'>\", 3),\n",
       " (\"<enum 'MonotonicConstraint'>\", 3),\n",
       " (\"<class 'optuna._LazyImport'>\", 3),\n",
       " (\"<enum 'LoadingStrategy'>\", 3),\n",
       " (\"<class 'sqlalchemy.sql.selectable._OffsetLimitParam'>\", 3),\n",
       " (\"<class 'sqlalchemy.orm.util._ORMJoin'>\", 3),\n",
       " (\"<class 'sqlalchemy.sql.elements.UnaryExpression'>\", 3),\n",
       " (\"<class 'optuna.pruners._successive_halving.SuccessiveHalvingPruner'>\", 3),\n",
       " (\"<class 'ast.AsyncFunctionDef'>\", 3),\n",
       " (\"<class 'ast.Await'>\", 3),\n",
       " (\"<class 'ast.Interactive'>\", 2),\n",
       " (\"<class 'TypeError'>\", 2),\n",
       " (\"<class 'pygments.formatters.terminal256.Terminal256Formatter'>\", 2),\n",
       " (\"<class 'stack_data.core.Options'>\", 2),\n",
       " (\"<class 'os._Environ'>\", 2),\n",
       " (\"<class 'types.DynamicClassAttribute'>\", 2),\n",
       " (\"<enum 'Handlers'>\", 2),\n",
       " (\"<class 'traitlets.utils.sentinel.Sentinel'>\", 2),\n",
       " (\"<enum 'Purpose'>\", 2),\n",
       " (\"<class 'ssl._ASN1Object'>\", 2),\n",
       " (\"<class 'ctypes.LibraryLoader'>\", 2),\n",
       " (\"<class 'zmq.sugar.tracker.MessageTracker'>\", 2),\n",
       " (\"<class 'tornado.gen._NullFuture'>\", 2),\n",
       " (\"<class 'calendar._localized_day'>\", 2),\n",
       " (\"<class 'calendar._localized_month'>\", 2),\n",
       " (\"<class 'jupyter_client.provisioning.provisioner_base.KernelProvisionerMeta'>\",\n",
       "  2),\n",
       " (\"<class 'IPython.core.inputtransformer2.PromptStripper'>\", 2),\n",
       " (\"<class 'traitlets.traitlets.CRegExp'>\", 2),\n",
       " (\"<class 'traitlets.traitlets.ForwardDeclaredInstance'>\", 2),\n",
       " (\"<class 'traitlets.traitlets.Union'>\", 2),\n",
       " (\"<enum 'EditingMode'>\", 2),\n",
       " (\"<class 'prompt_toolkit.styles.base.Attrs'>\", 2),\n",
       " (\"<enum 'Priority'>\", 2),\n",
       " (\"<class 'prompt_toolkit.output.vt100._16ColorCache'>\", 2),\n",
       " (\"<enum 'SearchDirection'>\", 2),\n",
       " (\"<class 'email.charset.Charset'>\", 2),\n",
       " (\"<enum 'BatteryTime'>\", 2),\n",
       " (\"<class 'encodings.idna.Codec'>\", 2),\n",
       " (\"<class '_pydevd_bundle.pydevd_constants.Null'>\", 2),\n",
       " (\"<enum 'PlistFormat'>\", 2),\n",
       " (\"<class 'typing.NewType'>\", 2),\n",
       " (\"<class 'pkg_resources._vendor.pyparsing.core.OneOrMore'>\", 2),\n",
       " (\"<class 'pkg_resources._vendor.pyparsing.core.Forward'>\", 2),\n",
       " (\"<class 'pkg_resources._vendor.pyparsing.core.QuotedString'>\", 2),\n",
       " (\"<class 'pathlib._WildcardSelector'>\", 2),\n",
       " (\"<class 'pathlib._TerminatingSelector'>\", 2),\n",
       " (\"<class 'tornado.platform.asyncio.AsyncIOLoop'>\", 2),\n",
       " (\"<class 'ipykernel.iostream.OutStream'>\", 2),\n",
       " (\"<class 'sqlite3.Connection'>\", 2),\n",
       " (\"<class 'sqlite3.Cache'>\", 2),\n",
       " (\"<class 'IPython.utils.PyColorize.Parser'>\", 2),\n",
       " (\"<class 'ctypes.CDLL'>\", 2),\n",
       " (\"<class 'parso.python.tokenize.TokenCollection'>\", 2),\n",
       " (\"<class 'parso.grammar.PythonGrammar'>\", 2),\n",
       " (\"<class 'parso.pgen2.generator.Grammar'>\", 2),\n",
       " (\"<class 'parso.cache._NodeCacheItem'>\", 2),\n",
       " (\"<class 'numpy.lib.index_tricks.IndexExpression'>\", 2),\n",
       " (\"<class 'numpy.ma.core._DomainGreaterEqual'>\", 2),\n",
       " (\"<class 'numpy.ma.core._extrema_operation'>\", 2),\n",
       " (\"<class 'numpy.ma.extras._fromnxfunction_single'>\", 2),\n",
       " (\"<class 'numpy.finfo'>\", 2),\n",
       " (\"<class 'torch.torch_version._LazyImport'>\", 2),\n",
       " (\"<class 'typing_extensions._ExtensionsSpecialForm'>\", 2),\n",
       " (\"<class 'torch.nn.parameter._ParameterMeta'>\", 2),\n",
       " (\"<enum '_BufferCommHookLocation'>\", 2),\n",
       " (\"<class 'torch.utils.backcompat.Warning'>\", 2),\n",
       " (\"<class 'torch.jit.annotations.Module'>\", 2),\n",
       " (\"<class 'torch.jit._script._CachedForward'>\", 2),\n",
       " (\"<class 'ipywidgets.widgets.interaction._InteractFactory'>\", 2),\n",
       " (\"<class 'ipywidgets.widgets.widget_link.WidgetTraitTuple'>\", 2),\n",
       " (\"<class 'torch.distributions.constraints._IntegerGreaterThan'>\", 2),\n",
       " (\"<class 'torch.distributions.constraints._GreaterThan'>\", 2),\n",
       " (\"<class 'torch.distributions.constraints._GreaterThanEq'>\", 2),\n",
       " (\"<class 'torch.distributions.constraints._Interval'>\", 2),\n",
       " (\"<class 'torch.distributions.constraint_registry.ConstraintRegistry'>\", 2),\n",
       " (\"<class 'torch.backends.cuda.cuFFTPlanCacheAttrContextProp'>\", 2),\n",
       " (\"<class 'parso.utils.PythonVersionInfo'>\", 2),\n",
       " (\"<class 'parso.python.tree.Module'>\", 2),\n",
       " (\"<class '_sitebuiltins.Quitter'>\", 2),\n",
       " (\"<class 'parso.python.tree.UsedNamesMapping'>\", 2),\n",
       " (\"<class 'parso.python.tree.EndMarker'>\", 2),\n",
       " (\"<class 'cffi.model.PointerType'>\", 2),\n",
       " (\"<enum 'Palette'>\", 2),\n",
       " (\"<enum 'Layout'>\", 2),\n",
       " (\"<enum 'EfficientNet_B1_Weights'>\", 2),\n",
       " (\"<enum 'MobileNet_V2_Weights'>\", 2),\n",
       " (\"<enum 'MobileNet_V3_Large_Weights'>\", 2),\n",
       " (\"<enum 'RegNet_Y_400MF_Weights'>\", 2),\n",
       " (\"<enum 'RegNet_Y_800MF_Weights'>\", 2),\n",
       " (\"<enum 'RegNet_Y_1_6GF_Weights'>\", 2),\n",
       " (\"<enum 'RegNet_Y_3_2GF_Weights'>\", 2),\n",
       " (\"<enum 'RegNet_Y_8GF_Weights'>\", 2),\n",
       " (\"<enum 'RegNet_Y_128GF_Weights'>\", 2),\n",
       " (\"<enum 'RegNet_X_400MF_Weights'>\", 2),\n",
       " (\"<enum 'RegNet_X_800MF_Weights'>\", 2),\n",
       " (\"<enum 'RegNet_X_1_6GF_Weights'>\", 2),\n",
       " (\"<enum 'RegNet_X_3_2GF_Weights'>\", 2),\n",
       " (\"<enum 'RegNet_X_8GF_Weights'>\", 2),\n",
       " (\"<enum 'RegNet_X_16GF_Weights'>\", 2),\n",
       " (\"<enum 'RegNet_X_32GF_Weights'>\", 2),\n",
       " (\"<enum 'ResNet50_Weights'>\", 2),\n",
       " (\"<enum 'ResNet101_Weights'>\", 2),\n",
       " (\"<enum 'ResNet152_Weights'>\", 2),\n",
       " (\"<enum 'ResNeXt50_32X4D_Weights'>\", 2),\n",
       " (\"<enum 'ResNeXt101_32X8D_Weights'>\", 2),\n",
       " (\"<enum 'Wide_ResNet50_2_Weights'>\", 2),\n",
       " (\"<enum 'Wide_ResNet101_2_Weights'>\", 2),\n",
       " (\"<enum 'VGG16_Weights'>\", 2),\n",
       " (\"<enum 'ViT_H_14_Weights'>\", 2),\n",
       " (\"<enum 'KeypointRCNN_ResNet50_FPN_Weights'>\", 2),\n",
       " (\"<enum 'Raft_Small_Weights'>\", 2),\n",
       " (\"<enum 'ResNet50_QuantizedWeights'>\", 2),\n",
       " (\"<enum 'ResNeXt101_32X8D_QuantizedWeights'>\", 2),\n",
       " (\"<enum 'Blend'>\", 2),\n",
       " (\"<class 'pyparsing.core.Empty'>\", 2),\n",
       " (\"<class 'pyparsing.core.StringEnd'>\", 2),\n",
       " (\"<class 'pyparsing.core.OneOrMore'>\", 2),\n",
       " (\"<class 'matplotlib.legend_handler.HandlerPatch'>\", 2),\n",
       " (\"<class 'matplotlib.axis._LazyTickList'>\", 2),\n",
       " (\"<class 'colorlog.formatter.ColoredFormatter'>\", 2),\n",
       " (\"<class 'importlib.metadata.DistributionFinder.Context'>\", 2),\n",
       " (\"<class 'sqlalchemy.sql.sqltypes.Time'>\", 2),\n",
       " (\"<class 'sqlalchemy.sql.functions._FunctionGenerator'>\", 2),\n",
       " (\"<class 'sqlalchemy.util.langhelpers.PluginLoader'>\", 2),\n",
       " (\"<class 'sqlalchemy.util.langhelpers.hybridproperty'>\", 2),\n",
       " (\"<class 'sqlalchemy.event.base.InstrumentationEventsDispatch'>\", 2),\n",
       " (\"<class 'sqlalchemy.event.base.SessionEventsDispatch'>\", 2),\n",
       " (\"<class 'sqlalchemy.sql.schema.ColumnDefault'>\", 2),\n",
       " (\"<class 'sqlalchemy.sql.elements.TextClause'>\", 2),\n",
       " (\"<class 'pytz.lazy.LazyList.__new__.<locals>.LazyList'>\", 2),\n",
       " (\"<class 'pytz.lazy.LazySet.__new__.<locals>.LazySet'>\", 2),\n",
       " (\"<class 'pandas._libs.tslibs.timestamps.Timestamp'>\", 2),\n",
       " (\"<class 'pandas._config.config.DeprecatedOption'>\", 2),\n",
       " (\"<class 'scipy._lib._util.DeprecatedImport'>\", 2),\n",
       " (\"<class 'ValueError'>\", 2),\n",
       " (\"<class 'scipy.stats._continuous_distns.trapezoid_gen'>\", 2),\n",
       " (\"<class 'scipy.stats._continuous_distns.vonmises_gen'>\", 2),\n",
       " (\"<class 'scipy._lib._docscrape.Parameter'>\", 2),\n",
       " (\"<class 'setuptools._vendor.pyparsing.core.OneOrMore'>\", 2),\n",
       " (\"<class 'setuptools._vendor.pyparsing.core.Forward'>\", 2),\n",
       " (\"<class 'setuptools._vendor.pyparsing.core.QuotedString'>\", 2),\n",
       " (\"<class 'tempfile._RandomNameSequence'>\", 2),\n",
       " (\"<class 'sklearn.externals._packaging.version.Version'>\", 2),\n",
       " (\"<class 'sklearn.utils._estimator_html_repr._IDCounter'>\", 2),\n",
       " (\"<class 'sklearn.externals._packaging.version._Version'>\", 2),\n",
       " (\"<enum 'BLAS_Order'>\", 2),\n",
       " (\"<enum 'BLAS_Trans'>\", 2),\n",
       " (\"<class 'sqlalchemy.sql.sqltypes.Concatenable.Comparator'>\", 2),\n",
       " (\"<class 'tqdm.auto.tqdm'>\", 2),\n",
       " (\"<class 'tqdm.utils.DisableOnWriteError'>\", 2),\n",
       " (\"<class 'sqlalchemy.engine.base.Engine'>\", 2),\n",
       " (\"<class 'sqlalchemy.pool.impl.NullPool'>\", 2),\n",
       " (\"<class 'sqlalchemy.engine.url.URL'>\", 2),\n",
       " (\"<class 'sqlalchemy.sql.selectable.ForUpdateArg'>\", 2),\n",
       " (\"<class 'sqlalchemy.sql.functions.count'>\", 2),\n",
       " (\"<class 'torch.utils.data.dataloader.DataLoader'>\", 2),\n",
       " (\"<class 'torch.utils.data.sampler.RandomSampler'>\", 2),\n",
       " (\"<class 'torch.utils.data.sampler.BatchSampler'>\", 2),\n",
       " (\"<class 'torch.utils.data.dataset.Subset'>\", 2),\n",
       " (\"<class 'optuna.trial._trial.Trial'>\", 2),\n",
       " (\"<class 'ast.Yield'>\", 2),\n",
       " (\"<class 'zmq.utils.garbage.GarbageCollector'>\", 1),\n",
       " (\"<class 'zmq.utils.garbage.GarbageCollectorThread'>\", 1),\n",
       " (\"<class 'collections.Counter'>\", 1),\n",
       " (\"<class 'types.SimpleNamespace'>\", 1),\n",
       " (\"<class 'encodings.utf_8.IncrementalDecoder'>\", 1),\n",
       " (\"<class '_io.BufferedReader'>\", 1),\n",
       " (\"<class '_distutils_hack.DistutilsMetaFinder'>\", 1),\n",
       " (\"<class 'reprlib.Repr'>\", 1),\n",
       " (\"<class '_sitebuiltins._Helper'>\", 1),\n",
       " (\"<class 'typing._LiteralSpecialForm'>\", 1),\n",
       " (\"<class 'typing._CallableType'>\", 1),\n",
       " (\"<class 'typing._TupleType'>\", 1),\n",
       " (\"<class 'typing.NamedTupleMeta'>\", 1),\n",
       " (\"<class 'typing._TypedDictMeta'>\", 1),\n",
       " (\"<class 'json.encoder.JSONEncoder'>\", 1),\n",
       " (\"<class 'json.decoder.JSONDecoder'>\", 1),\n",
       " (\"<class '_json.Scanner'>\", 1),\n",
       " (\"<class 'threading._MainThread'>\", 1),\n",
       " (\"<class 'ast.Load'>\", 1),\n",
       " (\"<class 'ast.Store'>\", 1),\n",
       " (\"<class 'ast.Del'>\", 1),\n",
       " (\"<class 'ast.And'>\", 1),\n",
       " (\"<class 'ast.Or'>\", 1),\n",
       " (\"<class 'ast.Add'>\", 1),\n",
       " (\"<class 'ast.Sub'>\", 1),\n",
       " (\"<class 'ast.Mult'>\", 1),\n",
       " (\"<class 'ast.MatMult'>\", 1),\n",
       " (\"<class 'ast.Div'>\", 1),\n",
       " (\"<class 'ast.Mod'>\", 1),\n",
       " (\"<class 'ast.Pow'>\", 1),\n",
       " (\"<class 'ast.LShift'>\", 1),\n",
       " (\"<class 'ast.RShift'>\", 1),\n",
       " (\"<class 'ast.BitOr'>\", 1),\n",
       " (\"<class 'ast.BitXor'>\", 1),\n",
       " (\"<class 'ast.BitAnd'>\", 1),\n",
       " (\"<class 'ast.FloorDiv'>\", 1),\n",
       " (\"<class 'ast.Invert'>\", 1),\n",
       " (\"<class 'ast.Not'>\", 1),\n",
       " (\"<class 'ast.UAdd'>\", 1),\n",
       " (\"<class 'ast.USub'>\", 1),\n",
       " (\"<class 'ast.Eq'>\", 1),\n",
       " (\"<class 'ast.NotEq'>\", 1),\n",
       " (\"<class 'ast.Lt'>\", 1),\n",
       " (\"<class 'ast.LtE'>\", 1),\n",
       " (\"<class 'ast.Gt'>\", 1),\n",
       " (\"<class 'ast.GtE'>\", 1),\n",
       " (\"<class 'ast.Is'>\", 1),\n",
       " (\"<class 'ast.IsNot'>\", 1),\n",
       " (\"<class 'ast.In'>\", 1),\n",
       " (\"<class 'ast.NotIn'>\", 1),\n",
       " (\"<class 'traitlets.traitlets.MetaHasDescriptors'>\", 1),\n",
       " (\"<class 'traceback._Sentinel'>\", 1),\n",
       " (\"<class 'string.Formatter'>\", 1),\n",
       " (\"<class 'logging._StderrHandler'>\", 1),\n",
       " (\"<class 'logging.RootLogger'>\", 1),\n",
       " (\"<class 'logging.Manager'>\", 1),\n",
       " (\"<class 'asyncio.events._RunningLoop'>\", 1),\n",
       " (\"<class 'ctypes.PyDLL'>\", 1),\n",
       " (\"<class 'ctypes._endian._swapped_meta'>\", 1),\n",
       " (\"<class 'dataclasses._HAS_DEFAULT_FACTORY_CLASS'>\", 1),\n",
       " (\"<class 'dataclasses._MISSING_TYPE'>\", 1),\n",
       " (\"<class 'dataclasses._KW_ONLY_TYPE'>\", 1),\n",
       " (\"<class 'socketserver._NoThreads'>\", 1),\n",
       " (\"<class 'traitlets.config.loader._Sentinel'>\", 1),\n",
       " ...]"
      ]
     },
     "execution_count": 10,
     "metadata": {},
     "output_type": "execute_result"
    }
   ],
   "source": [
    "\n",
    "\n",
    "\n"
   ]
  },
  {
   "cell_type": "code",
   "execution_count": null,
   "metadata": {},
   "outputs": [],
   "source": []
  }
 ],
 "metadata": {
  "kernelspec": {
   "display_name": "Python 3.10.6 ('media_design')",
   "language": "python",
   "name": "python3"
  },
  "language_info": {
   "codemirror_mode": {
    "name": "ipython",
    "version": 3
   },
   "file_extension": ".py",
   "mimetype": "text/x-python",
   "name": "python",
   "nbconvert_exporter": "python",
   "pygments_lexer": "ipython3",
   "version": "3.10.6"
  },
  "orig_nbformat": 4,
  "vscode": {
   "interpreter": {
    "hash": "4b646d6b974702a6723c4c57de8b10b34266ab3770e2719e20595c667fbb0744"
   }
  }
 },
 "nbformat": 4,
 "nbformat_minor": 2
}
